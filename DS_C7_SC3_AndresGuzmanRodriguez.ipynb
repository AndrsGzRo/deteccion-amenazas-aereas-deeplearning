{
  "nbformat": 4,
  "nbformat_minor": 0,
  "metadata": {
    "colab": {
      "provenance": [],
      "gpuType": "T4",
      "mount_file_id": "1dusGY121rBp6_5IwXqcgvAGKmwLuvYcf",
      "authorship_tag": "ABX9TyOdtde50xeVqKA5Z8kWlcdt"
    },
    "kernelspec": {
      "name": "python3",
      "display_name": "Python 3"
    },
    "language_info": {
      "name": "python"
    },
    "accelerator": "GPU"
  },
  "cells": [
    {
      "cell_type": "markdown",
      "source": [
        "# Reto | Generación de un modelo inteligente de clasificación con redes neuronales profundas para la detección de amenazas aéreas\n",
        "\n",
        "**Objetivos**:\n",
        "El objetivo de este reto es poner en práctica los contenidos revisados durante el módulo realizando los siguientes pasos:\n",
        "\n",
        "- Preparar una base de datos y generar los conjuntos de entrenamiento y prueba.\n",
        "- Diseñar un modelo utilizando una red neuronal convolucional desde cero y determinar sus hiperparámetros.\n",
        "- Diseñar un modelo utilizando una red neuronal convolucional utilizando un modelo pre-entrenado.\n",
        "- Generar un modelo utilizando la herramienta Teachable Machine.\n",
        "- Validar, evaluar y comparar los tres diferentes modelos generados y seleccionar el mejor considerando la exactitud como indicador de desempeño.\n",
        "- Exportar los modelos generados para poder utilizarlos dentro de Colab o algún otro sitio.\n",
        "\n",
        "## 1. Preprocesamiento de la base de datos"
      ],
      "metadata": {
        "id": "KE7hkN0_6SjT"
      }
    },
    {
      "cell_type": "code",
      "source": [
        "# Montando Google Drive\n",
        "from google.colab import drive\n",
        "drive.mount('/content/drive')"
      ],
      "metadata": {
        "colab": {
          "base_uri": "https://localhost:8080/"
        },
        "outputId": "4d49d601-e599-4869-841b-f1dbc49fcf8b",
        "id": "2uJltFOL9dda"
      },
      "execution_count": 1,
      "outputs": [
        {
          "output_type": "stream",
          "name": "stdout",
          "text": [
            "Drive already mounted at /content/drive; to attempt to forcibly remount, call drive.mount(\"/content/drive\", force_remount=True).\n"
          ]
        }
      ]
    },
    {
      "cell_type": "code",
      "source": [
        "# Bibliotecas\n",
        "import numpy as np\n",
        "import matplotlib.pyplot as plt\n",
        "import tensorflow as tf\n",
        "import PIL\n",
        "import pathlib\n",
        "import os\n",
        "import seaborn as sns\n",
        "from sklearn.metrics import confusion_matrix"
      ],
      "metadata": {
        "id": "Dn8zsXpO-7fH"
      },
      "execution_count": 2,
      "outputs": []
    },
    {
      "cell_type": "code",
      "source": [
        "# Eliminando cualquiero archivo que no sea JPG, JPEG, PNG\n",
        "!find /content/drive/MyDrive/Reto/datos/objetos -type f ! -name \"*.jpg\" ! -name \"*.jpeg\" ! -name \"*.png\" -delete\n"
      ],
      "metadata": {
        "id": "JvD6GzWPGUZ_"
      },
      "execution_count": 3,
      "outputs": []
    },
    {
      "cell_type": "code",
      "source": [
        "# Directorio base\n",
        "dir_base = '/content/drive/MyDrive/Reto/datos/objetos'\n",
        "dir_base = pathlib.Path(dir_base)\n",
        "conteo_img = len(list(dir_base.glob('*/*')))\n",
        "print('El total de imágenes es de:',conteo_img)\n"
      ],
      "metadata": {
        "colab": {
          "base_uri": "https://localhost:8080/"
        },
        "id": "LJzL1gfaAQGN",
        "outputId": "5b0759d2-32e7-4aa0-bfff-ef6144bcca1b"
      },
      "execution_count": 4,
      "outputs": [
        {
          "output_type": "stream",
          "name": "stdout",
          "text": [
            "El total de imágenes es de: 8218\n"
          ]
        }
      ]
    },
    {
      "cell_type": "code",
      "source": [
        "# Correr si hay error al momento de entrenar el primer modelo\n",
        "# for img_path in dir_base.rglob('*.[jp][pn]g'):\n",
        "#     try:\n",
        "#         img = tf.io.read_file(str(img_path))\n",
        "#         img = tf.image.decode_image(img,channels=3)\n",
        "#     except:\n",
        "#         print('Error al decodificar:',img_path)\n",
        "#         os.remove(img_path)"
      ],
      "metadata": {
        "id": "YQRJfFJlQf9Q"
      },
      "execution_count": null,
      "outputs": []
    },
    {
      "cell_type": "markdown",
      "source": [
        "## 2. Generación de conjuntos de entrenamiento, prueba y aumentación de datos"
      ],
      "metadata": {
        "id": "vNRUXeGWIQ8D"
      }
    },
    {
      "cell_type": "code",
      "source": [
        "# Tamaño de las imágenes y lote\n",
        "alto_img = 224\n",
        "ancho_img = 224\n",
        "tam_lote = 32"
      ],
      "metadata": {
        "id": "6yumER89IUyu"
      },
      "execution_count": 5,
      "outputs": []
    },
    {
      "cell_type": "markdown",
      "source": [
        "Para la creación de los conjuntos de entrenamiento y prueba se usará la función:\n",
        "\n",
        "```\n",
        "image_dataset_from_directory\n",
        "```\n",
        "\n"
      ],
      "metadata": {
        "id": "Hi0SgEw2JEbv"
      }
    },
    {
      "cell_type": "code",
      "source": [
        "# Definición del conjunto de entrenamiento\n",
        "conj_entrenamiento = tf.keras.preprocessing.image_dataset_from_directory(\n",
        "    dir_base,\n",
        "    validation_split=0.2,\n",
        "    subset='training',\n",
        "    seed=42,\n",
        "    image_size=(alto_img,ancho_img),\n",
        "    batch_size=tam_lote\n",
        ")"
      ],
      "metadata": {
        "colab": {
          "base_uri": "https://localhost:8080/"
        },
        "id": "Ha_YCiy5JLLy",
        "outputId": "602be8e2-d4f3-4bf1-a1a4-5f9548c72051"
      },
      "execution_count": 6,
      "outputs": [
        {
          "output_type": "stream",
          "name": "stdout",
          "text": [
            "Found 8218 files belonging to 6 classes.\n",
            "Using 6575 files for training.\n"
          ]
        }
      ]
    },
    {
      "cell_type": "code",
      "source": [
        "# Definición del conjunto de prueba\n",
        "conj_prueba = tf.keras.preprocessing.image_dataset_from_directory(\n",
        "    dir_base,\n",
        "    validation_split=0.2,\n",
        "    subset='validation',\n",
        "    seed=42,\n",
        "    image_size=(alto_img,ancho_img),\n",
        "    batch_size=tam_lote\n",
        ")"
      ],
      "metadata": {
        "colab": {
          "base_uri": "https://localhost:8080/"
        },
        "id": "veYG-LekJe6P",
        "outputId": "4c6898cd-7965-4533-f734-aec4c6088b56"
      },
      "execution_count": 7,
      "outputs": [
        {
          "output_type": "stream",
          "name": "stdout",
          "text": [
            "Found 8218 files belonging to 6 classes.\n",
            "Using 1643 files for validation.\n"
          ]
        }
      ]
    },
    {
      "cell_type": "code",
      "source": [
        "conj_entrenamiento = conj_entrenamiento.cache().shuffle(1000).prefetch(buffer_size=tf.data.AUTOTUNE)\n",
        "conj_prueba = conj_prueba.cache().prefetch(buffer_size=tf.data.AUTOTUNE)"
      ],
      "metadata": {
        "id": "_OFcToqjnIvm"
      },
      "execution_count": 8,
      "outputs": []
    },
    {
      "cell_type": "markdown",
      "source": [
        "## 3. Diseña una arquitectura de una red neuronal convolucional profunda desde cero para resolver el problema de clasificación\n"
      ],
      "metadata": {
        "id": "CDjK72sUMny6"
      }
    },
    {
      "cell_type": "code",
      "source": [
        "from tensorflow.keras import regularizers\n",
        "# Definición del primer modelo\n",
        "redConv = tf.keras.Sequential([\n",
        "    tf.keras.layers.Input(shape=(alto_img,ancho_img,3)),\n",
        "    tf.keras.layers.Rescaling(1/255),\n",
        "\n",
        "    # Data Augmentation\n",
        "    tf.keras.layers.RandomFlip('horizontal'),\n",
        "    tf.keras.layers.RandomRotation(0.15),\n",
        "    tf.keras.layers.RandomZoom(0.05),\n",
        "    tf.keras.layers.RandomContrast(0.15),\n",
        "\n",
        "    # Convoluciones\n",
        "    tf.keras.layers.Conv2D(32,(3,3),activation='relu'),\n",
        "    tf.keras.layers.BatchNormalization(),\n",
        "    tf.keras.layers.MaxPooling2D((2,2)),\n",
        "\n",
        "    tf.keras.layers.Conv2D(64,(3,3),activation='relu',padding='same'),\n",
        "    tf.keras.layers.BatchNormalization(),\n",
        "    tf.keras.layers.MaxPooling2D((2,2)),\n",
        "\n",
        "    tf.keras.layers.Conv2D(128,(3,3),activation='relu',padding='same'),\n",
        "    tf.keras.layers.BatchNormalization(),\n",
        "    tf.keras.layers.MaxPooling2D((2,2)),\n",
        "\n",
        "    tf.keras.layers.Conv2D(128,(3,3),activation='relu',padding='same'),\n",
        "    tf.keras.layers.BatchNormalization(),\n",
        "    tf.keras.layers.MaxPooling2D((2,2)),\n",
        "    tf.keras.layers.Dropout(0.3),\n",
        "\n",
        "    tf.keras.layers.GlobalAveragePooling2D(),\n",
        "    tf.keras.layers.Dense(128,activation='relu',\n",
        "                          kernel_regularizer=regularizers.l2(1e-5)),\n",
        "    tf.keras.layers.Dropout(0.3),\n",
        "    tf.keras.layers.Dense(64,activation='relu',\n",
        "                          kernel_regularizer=regularizers.l2(1e-5)),\n",
        "    tf.keras.layers.Dropout(0.25),\n",
        "    tf.keras.layers.Dense(6,activation='softmax')\n",
        "])\n",
        "redConv.summary()"
      ],
      "metadata": {
        "colab": {
          "base_uri": "https://localhost:8080/",
          "height": 1000
        },
        "id": "GURP1uEFNTVl",
        "outputId": "b6d512b7-40d8-42ab-f320-3d9a35eb351f"
      },
      "execution_count": 46,
      "outputs": [
        {
          "output_type": "display_data",
          "data": {
            "text/plain": [
              "\u001b[1mModel: \"sequential_16\"\u001b[0m\n"
            ],
            "text/html": [
              "<pre style=\"white-space:pre;overflow-x:auto;line-height:normal;font-family:Menlo,'DejaVu Sans Mono',consolas,'Courier New',monospace\"><span style=\"font-weight: bold\">Model: \"sequential_16\"</span>\n",
              "</pre>\n"
            ]
          },
          "metadata": {}
        },
        {
          "output_type": "display_data",
          "data": {
            "text/plain": [
              "┏━━━━━━━━━━━━━━━━━━━━━━━━━━━━━━━━━┳━━━━━━━━━━━━━━━━━━━━━━━━┳━━━━━━━━━━━━━━━┓\n",
              "┃\u001b[1m \u001b[0m\u001b[1mLayer (type)                   \u001b[0m\u001b[1m \u001b[0m┃\u001b[1m \u001b[0m\u001b[1mOutput Shape          \u001b[0m\u001b[1m \u001b[0m┃\u001b[1m \u001b[0m\u001b[1m      Param #\u001b[0m\u001b[1m \u001b[0m┃\n",
              "┡━━━━━━━━━━━━━━━━━━━━━━━━━━━━━━━━━╇━━━━━━━━━━━━━━━━━━━━━━━━╇━━━━━━━━━━━━━━━┩\n",
              "│ rescaling_15 (\u001b[38;5;33mRescaling\u001b[0m)        │ (\u001b[38;5;45mNone\u001b[0m, \u001b[38;5;34m224\u001b[0m, \u001b[38;5;34m224\u001b[0m, \u001b[38;5;34m3\u001b[0m)    │             \u001b[38;5;34m0\u001b[0m │\n",
              "├─────────────────────────────────┼────────────────────────┼───────────────┤\n",
              "│ random_flip_16 (\u001b[38;5;33mRandomFlip\u001b[0m)     │ (\u001b[38;5;45mNone\u001b[0m, \u001b[38;5;34m224\u001b[0m, \u001b[38;5;34m224\u001b[0m, \u001b[38;5;34m3\u001b[0m)    │             \u001b[38;5;34m0\u001b[0m │\n",
              "├─────────────────────────────────┼────────────────────────┼───────────────┤\n",
              "│ random_rotation_16              │ (\u001b[38;5;45mNone\u001b[0m, \u001b[38;5;34m224\u001b[0m, \u001b[38;5;34m224\u001b[0m, \u001b[38;5;34m3\u001b[0m)    │             \u001b[38;5;34m0\u001b[0m │\n",
              "│ (\u001b[38;5;33mRandomRotation\u001b[0m)                │                        │               │\n",
              "├─────────────────────────────────┼────────────────────────┼───────────────┤\n",
              "│ random_zoom_16 (\u001b[38;5;33mRandomZoom\u001b[0m)     │ (\u001b[38;5;45mNone\u001b[0m, \u001b[38;5;34m224\u001b[0m, \u001b[38;5;34m224\u001b[0m, \u001b[38;5;34m3\u001b[0m)    │             \u001b[38;5;34m0\u001b[0m │\n",
              "├─────────────────────────────────┼────────────────────────┼───────────────┤\n",
              "│ random_contrast_16              │ (\u001b[38;5;45mNone\u001b[0m, \u001b[38;5;34m224\u001b[0m, \u001b[38;5;34m224\u001b[0m, \u001b[38;5;34m3\u001b[0m)    │             \u001b[38;5;34m0\u001b[0m │\n",
              "│ (\u001b[38;5;33mRandomContrast\u001b[0m)                │                        │               │\n",
              "├─────────────────────────────────┼────────────────────────┼───────────────┤\n",
              "│ conv2d_66 (\u001b[38;5;33mConv2D\u001b[0m)              │ (\u001b[38;5;45mNone\u001b[0m, \u001b[38;5;34m222\u001b[0m, \u001b[38;5;34m222\u001b[0m, \u001b[38;5;34m32\u001b[0m)   │           \u001b[38;5;34m896\u001b[0m │\n",
              "├─────────────────────────────────┼────────────────────────┼───────────────┤\n",
              "│ batch_normalization_60          │ (\u001b[38;5;45mNone\u001b[0m, \u001b[38;5;34m222\u001b[0m, \u001b[38;5;34m222\u001b[0m, \u001b[38;5;34m32\u001b[0m)   │           \u001b[38;5;34m128\u001b[0m │\n",
              "│ (\u001b[38;5;33mBatchNormalization\u001b[0m)            │                        │               │\n",
              "├─────────────────────────────────┼────────────────────────┼───────────────┤\n",
              "│ max_pooling2d_63 (\u001b[38;5;33mMaxPooling2D\u001b[0m) │ (\u001b[38;5;45mNone\u001b[0m, \u001b[38;5;34m111\u001b[0m, \u001b[38;5;34m111\u001b[0m, \u001b[38;5;34m32\u001b[0m)   │             \u001b[38;5;34m0\u001b[0m │\n",
              "├─────────────────────────────────┼────────────────────────┼───────────────┤\n",
              "│ conv2d_67 (\u001b[38;5;33mConv2D\u001b[0m)              │ (\u001b[38;5;45mNone\u001b[0m, \u001b[38;5;34m111\u001b[0m, \u001b[38;5;34m111\u001b[0m, \u001b[38;5;34m64\u001b[0m)   │        \u001b[38;5;34m18,496\u001b[0m │\n",
              "├─────────────────────────────────┼────────────────────────┼───────────────┤\n",
              "│ batch_normalization_61          │ (\u001b[38;5;45mNone\u001b[0m, \u001b[38;5;34m111\u001b[0m, \u001b[38;5;34m111\u001b[0m, \u001b[38;5;34m64\u001b[0m)   │           \u001b[38;5;34m256\u001b[0m │\n",
              "│ (\u001b[38;5;33mBatchNormalization\u001b[0m)            │                        │               │\n",
              "├─────────────────────────────────┼────────────────────────┼───────────────┤\n",
              "│ max_pooling2d_64 (\u001b[38;5;33mMaxPooling2D\u001b[0m) │ (\u001b[38;5;45mNone\u001b[0m, \u001b[38;5;34m55\u001b[0m, \u001b[38;5;34m55\u001b[0m, \u001b[38;5;34m64\u001b[0m)     │             \u001b[38;5;34m0\u001b[0m │\n",
              "├─────────────────────────────────┼────────────────────────┼───────────────┤\n",
              "│ conv2d_68 (\u001b[38;5;33mConv2D\u001b[0m)              │ (\u001b[38;5;45mNone\u001b[0m, \u001b[38;5;34m55\u001b[0m, \u001b[38;5;34m55\u001b[0m, \u001b[38;5;34m128\u001b[0m)    │        \u001b[38;5;34m73,856\u001b[0m │\n",
              "├─────────────────────────────────┼────────────────────────┼───────────────┤\n",
              "│ batch_normalization_62          │ (\u001b[38;5;45mNone\u001b[0m, \u001b[38;5;34m55\u001b[0m, \u001b[38;5;34m55\u001b[0m, \u001b[38;5;34m128\u001b[0m)    │           \u001b[38;5;34m512\u001b[0m │\n",
              "│ (\u001b[38;5;33mBatchNormalization\u001b[0m)            │                        │               │\n",
              "├─────────────────────────────────┼────────────────────────┼───────────────┤\n",
              "│ max_pooling2d_65 (\u001b[38;5;33mMaxPooling2D\u001b[0m) │ (\u001b[38;5;45mNone\u001b[0m, \u001b[38;5;34m27\u001b[0m, \u001b[38;5;34m27\u001b[0m, \u001b[38;5;34m128\u001b[0m)    │             \u001b[38;5;34m0\u001b[0m │\n",
              "├─────────────────────────────────┼────────────────────────┼───────────────┤\n",
              "│ conv2d_69 (\u001b[38;5;33mConv2D\u001b[0m)              │ (\u001b[38;5;45mNone\u001b[0m, \u001b[38;5;34m27\u001b[0m, \u001b[38;5;34m27\u001b[0m, \u001b[38;5;34m128\u001b[0m)    │       \u001b[38;5;34m147,584\u001b[0m │\n",
              "├─────────────────────────────────┼────────────────────────┼───────────────┤\n",
              "│ batch_normalization_63          │ (\u001b[38;5;45mNone\u001b[0m, \u001b[38;5;34m27\u001b[0m, \u001b[38;5;34m27\u001b[0m, \u001b[38;5;34m128\u001b[0m)    │           \u001b[38;5;34m512\u001b[0m │\n",
              "│ (\u001b[38;5;33mBatchNormalization\u001b[0m)            │                        │               │\n",
              "├─────────────────────────────────┼────────────────────────┼───────────────┤\n",
              "│ max_pooling2d_66 (\u001b[38;5;33mMaxPooling2D\u001b[0m) │ (\u001b[38;5;45mNone\u001b[0m, \u001b[38;5;34m13\u001b[0m, \u001b[38;5;34m13\u001b[0m, \u001b[38;5;34m128\u001b[0m)    │             \u001b[38;5;34m0\u001b[0m │\n",
              "├─────────────────────────────────┼────────────────────────┼───────────────┤\n",
              "│ dropout_42 (\u001b[38;5;33mDropout\u001b[0m)            │ (\u001b[38;5;45mNone\u001b[0m, \u001b[38;5;34m13\u001b[0m, \u001b[38;5;34m13\u001b[0m, \u001b[38;5;34m128\u001b[0m)    │             \u001b[38;5;34m0\u001b[0m │\n",
              "├─────────────────────────────────┼────────────────────────┼───────────────┤\n",
              "│ global_average_pooling2d_14     │ (\u001b[38;5;45mNone\u001b[0m, \u001b[38;5;34m128\u001b[0m)            │             \u001b[38;5;34m0\u001b[0m │\n",
              "│ (\u001b[38;5;33mGlobalAveragePooling2D\u001b[0m)        │                        │               │\n",
              "├─────────────────────────────────┼────────────────────────┼───────────────┤\n",
              "│ dense_47 (\u001b[38;5;33mDense\u001b[0m)                │ (\u001b[38;5;45mNone\u001b[0m, \u001b[38;5;34m128\u001b[0m)            │        \u001b[38;5;34m16,512\u001b[0m │\n",
              "├─────────────────────────────────┼────────────────────────┼───────────────┤\n",
              "│ dropout_43 (\u001b[38;5;33mDropout\u001b[0m)            │ (\u001b[38;5;45mNone\u001b[0m, \u001b[38;5;34m128\u001b[0m)            │             \u001b[38;5;34m0\u001b[0m │\n",
              "├─────────────────────────────────┼────────────────────────┼───────────────┤\n",
              "│ dense_48 (\u001b[38;5;33mDense\u001b[0m)                │ (\u001b[38;5;45mNone\u001b[0m, \u001b[38;5;34m64\u001b[0m)             │         \u001b[38;5;34m8,256\u001b[0m │\n",
              "├─────────────────────────────────┼────────────────────────┼───────────────┤\n",
              "│ dropout_44 (\u001b[38;5;33mDropout\u001b[0m)            │ (\u001b[38;5;45mNone\u001b[0m, \u001b[38;5;34m64\u001b[0m)             │             \u001b[38;5;34m0\u001b[0m │\n",
              "├─────────────────────────────────┼────────────────────────┼───────────────┤\n",
              "│ dense_49 (\u001b[38;5;33mDense\u001b[0m)                │ (\u001b[38;5;45mNone\u001b[0m, \u001b[38;5;34m6\u001b[0m)              │           \u001b[38;5;34m390\u001b[0m │\n",
              "└─────────────────────────────────┴────────────────────────┴───────────────┘\n"
            ],
            "text/html": [
              "<pre style=\"white-space:pre;overflow-x:auto;line-height:normal;font-family:Menlo,'DejaVu Sans Mono',consolas,'Courier New',monospace\">┏━━━━━━━━━━━━━━━━━━━━━━━━━━━━━━━━━┳━━━━━━━━━━━━━━━━━━━━━━━━┳━━━━━━━━━━━━━━━┓\n",
              "┃<span style=\"font-weight: bold\"> Layer (type)                    </span>┃<span style=\"font-weight: bold\"> Output Shape           </span>┃<span style=\"font-weight: bold\">       Param # </span>┃\n",
              "┡━━━━━━━━━━━━━━━━━━━━━━━━━━━━━━━━━╇━━━━━━━━━━━━━━━━━━━━━━━━╇━━━━━━━━━━━━━━━┩\n",
              "│ rescaling_15 (<span style=\"color: #0087ff; text-decoration-color: #0087ff\">Rescaling</span>)        │ (<span style=\"color: #00d7ff; text-decoration-color: #00d7ff\">None</span>, <span style=\"color: #00af00; text-decoration-color: #00af00\">224</span>, <span style=\"color: #00af00; text-decoration-color: #00af00\">224</span>, <span style=\"color: #00af00; text-decoration-color: #00af00\">3</span>)    │             <span style=\"color: #00af00; text-decoration-color: #00af00\">0</span> │\n",
              "├─────────────────────────────────┼────────────────────────┼───────────────┤\n",
              "│ random_flip_16 (<span style=\"color: #0087ff; text-decoration-color: #0087ff\">RandomFlip</span>)     │ (<span style=\"color: #00d7ff; text-decoration-color: #00d7ff\">None</span>, <span style=\"color: #00af00; text-decoration-color: #00af00\">224</span>, <span style=\"color: #00af00; text-decoration-color: #00af00\">224</span>, <span style=\"color: #00af00; text-decoration-color: #00af00\">3</span>)    │             <span style=\"color: #00af00; text-decoration-color: #00af00\">0</span> │\n",
              "├─────────────────────────────────┼────────────────────────┼───────────────┤\n",
              "│ random_rotation_16              │ (<span style=\"color: #00d7ff; text-decoration-color: #00d7ff\">None</span>, <span style=\"color: #00af00; text-decoration-color: #00af00\">224</span>, <span style=\"color: #00af00; text-decoration-color: #00af00\">224</span>, <span style=\"color: #00af00; text-decoration-color: #00af00\">3</span>)    │             <span style=\"color: #00af00; text-decoration-color: #00af00\">0</span> │\n",
              "│ (<span style=\"color: #0087ff; text-decoration-color: #0087ff\">RandomRotation</span>)                │                        │               │\n",
              "├─────────────────────────────────┼────────────────────────┼───────────────┤\n",
              "│ random_zoom_16 (<span style=\"color: #0087ff; text-decoration-color: #0087ff\">RandomZoom</span>)     │ (<span style=\"color: #00d7ff; text-decoration-color: #00d7ff\">None</span>, <span style=\"color: #00af00; text-decoration-color: #00af00\">224</span>, <span style=\"color: #00af00; text-decoration-color: #00af00\">224</span>, <span style=\"color: #00af00; text-decoration-color: #00af00\">3</span>)    │             <span style=\"color: #00af00; text-decoration-color: #00af00\">0</span> │\n",
              "├─────────────────────────────────┼────────────────────────┼───────────────┤\n",
              "│ random_contrast_16              │ (<span style=\"color: #00d7ff; text-decoration-color: #00d7ff\">None</span>, <span style=\"color: #00af00; text-decoration-color: #00af00\">224</span>, <span style=\"color: #00af00; text-decoration-color: #00af00\">224</span>, <span style=\"color: #00af00; text-decoration-color: #00af00\">3</span>)    │             <span style=\"color: #00af00; text-decoration-color: #00af00\">0</span> │\n",
              "│ (<span style=\"color: #0087ff; text-decoration-color: #0087ff\">RandomContrast</span>)                │                        │               │\n",
              "├─────────────────────────────────┼────────────────────────┼───────────────┤\n",
              "│ conv2d_66 (<span style=\"color: #0087ff; text-decoration-color: #0087ff\">Conv2D</span>)              │ (<span style=\"color: #00d7ff; text-decoration-color: #00d7ff\">None</span>, <span style=\"color: #00af00; text-decoration-color: #00af00\">222</span>, <span style=\"color: #00af00; text-decoration-color: #00af00\">222</span>, <span style=\"color: #00af00; text-decoration-color: #00af00\">32</span>)   │           <span style=\"color: #00af00; text-decoration-color: #00af00\">896</span> │\n",
              "├─────────────────────────────────┼────────────────────────┼───────────────┤\n",
              "│ batch_normalization_60          │ (<span style=\"color: #00d7ff; text-decoration-color: #00d7ff\">None</span>, <span style=\"color: #00af00; text-decoration-color: #00af00\">222</span>, <span style=\"color: #00af00; text-decoration-color: #00af00\">222</span>, <span style=\"color: #00af00; text-decoration-color: #00af00\">32</span>)   │           <span style=\"color: #00af00; text-decoration-color: #00af00\">128</span> │\n",
              "│ (<span style=\"color: #0087ff; text-decoration-color: #0087ff\">BatchNormalization</span>)            │                        │               │\n",
              "├─────────────────────────────────┼────────────────────────┼───────────────┤\n",
              "│ max_pooling2d_63 (<span style=\"color: #0087ff; text-decoration-color: #0087ff\">MaxPooling2D</span>) │ (<span style=\"color: #00d7ff; text-decoration-color: #00d7ff\">None</span>, <span style=\"color: #00af00; text-decoration-color: #00af00\">111</span>, <span style=\"color: #00af00; text-decoration-color: #00af00\">111</span>, <span style=\"color: #00af00; text-decoration-color: #00af00\">32</span>)   │             <span style=\"color: #00af00; text-decoration-color: #00af00\">0</span> │\n",
              "├─────────────────────────────────┼────────────────────────┼───────────────┤\n",
              "│ conv2d_67 (<span style=\"color: #0087ff; text-decoration-color: #0087ff\">Conv2D</span>)              │ (<span style=\"color: #00d7ff; text-decoration-color: #00d7ff\">None</span>, <span style=\"color: #00af00; text-decoration-color: #00af00\">111</span>, <span style=\"color: #00af00; text-decoration-color: #00af00\">111</span>, <span style=\"color: #00af00; text-decoration-color: #00af00\">64</span>)   │        <span style=\"color: #00af00; text-decoration-color: #00af00\">18,496</span> │\n",
              "├─────────────────────────────────┼────────────────────────┼───────────────┤\n",
              "│ batch_normalization_61          │ (<span style=\"color: #00d7ff; text-decoration-color: #00d7ff\">None</span>, <span style=\"color: #00af00; text-decoration-color: #00af00\">111</span>, <span style=\"color: #00af00; text-decoration-color: #00af00\">111</span>, <span style=\"color: #00af00; text-decoration-color: #00af00\">64</span>)   │           <span style=\"color: #00af00; text-decoration-color: #00af00\">256</span> │\n",
              "│ (<span style=\"color: #0087ff; text-decoration-color: #0087ff\">BatchNormalization</span>)            │                        │               │\n",
              "├─────────────────────────────────┼────────────────────────┼───────────────┤\n",
              "│ max_pooling2d_64 (<span style=\"color: #0087ff; text-decoration-color: #0087ff\">MaxPooling2D</span>) │ (<span style=\"color: #00d7ff; text-decoration-color: #00d7ff\">None</span>, <span style=\"color: #00af00; text-decoration-color: #00af00\">55</span>, <span style=\"color: #00af00; text-decoration-color: #00af00\">55</span>, <span style=\"color: #00af00; text-decoration-color: #00af00\">64</span>)     │             <span style=\"color: #00af00; text-decoration-color: #00af00\">0</span> │\n",
              "├─────────────────────────────────┼────────────────────────┼───────────────┤\n",
              "│ conv2d_68 (<span style=\"color: #0087ff; text-decoration-color: #0087ff\">Conv2D</span>)              │ (<span style=\"color: #00d7ff; text-decoration-color: #00d7ff\">None</span>, <span style=\"color: #00af00; text-decoration-color: #00af00\">55</span>, <span style=\"color: #00af00; text-decoration-color: #00af00\">55</span>, <span style=\"color: #00af00; text-decoration-color: #00af00\">128</span>)    │        <span style=\"color: #00af00; text-decoration-color: #00af00\">73,856</span> │\n",
              "├─────────────────────────────────┼────────────────────────┼───────────────┤\n",
              "│ batch_normalization_62          │ (<span style=\"color: #00d7ff; text-decoration-color: #00d7ff\">None</span>, <span style=\"color: #00af00; text-decoration-color: #00af00\">55</span>, <span style=\"color: #00af00; text-decoration-color: #00af00\">55</span>, <span style=\"color: #00af00; text-decoration-color: #00af00\">128</span>)    │           <span style=\"color: #00af00; text-decoration-color: #00af00\">512</span> │\n",
              "│ (<span style=\"color: #0087ff; text-decoration-color: #0087ff\">BatchNormalization</span>)            │                        │               │\n",
              "├─────────────────────────────────┼────────────────────────┼───────────────┤\n",
              "│ max_pooling2d_65 (<span style=\"color: #0087ff; text-decoration-color: #0087ff\">MaxPooling2D</span>) │ (<span style=\"color: #00d7ff; text-decoration-color: #00d7ff\">None</span>, <span style=\"color: #00af00; text-decoration-color: #00af00\">27</span>, <span style=\"color: #00af00; text-decoration-color: #00af00\">27</span>, <span style=\"color: #00af00; text-decoration-color: #00af00\">128</span>)    │             <span style=\"color: #00af00; text-decoration-color: #00af00\">0</span> │\n",
              "├─────────────────────────────────┼────────────────────────┼───────────────┤\n",
              "│ conv2d_69 (<span style=\"color: #0087ff; text-decoration-color: #0087ff\">Conv2D</span>)              │ (<span style=\"color: #00d7ff; text-decoration-color: #00d7ff\">None</span>, <span style=\"color: #00af00; text-decoration-color: #00af00\">27</span>, <span style=\"color: #00af00; text-decoration-color: #00af00\">27</span>, <span style=\"color: #00af00; text-decoration-color: #00af00\">128</span>)    │       <span style=\"color: #00af00; text-decoration-color: #00af00\">147,584</span> │\n",
              "├─────────────────────────────────┼────────────────────────┼───────────────┤\n",
              "│ batch_normalization_63          │ (<span style=\"color: #00d7ff; text-decoration-color: #00d7ff\">None</span>, <span style=\"color: #00af00; text-decoration-color: #00af00\">27</span>, <span style=\"color: #00af00; text-decoration-color: #00af00\">27</span>, <span style=\"color: #00af00; text-decoration-color: #00af00\">128</span>)    │           <span style=\"color: #00af00; text-decoration-color: #00af00\">512</span> │\n",
              "│ (<span style=\"color: #0087ff; text-decoration-color: #0087ff\">BatchNormalization</span>)            │                        │               │\n",
              "├─────────────────────────────────┼────────────────────────┼───────────────┤\n",
              "│ max_pooling2d_66 (<span style=\"color: #0087ff; text-decoration-color: #0087ff\">MaxPooling2D</span>) │ (<span style=\"color: #00d7ff; text-decoration-color: #00d7ff\">None</span>, <span style=\"color: #00af00; text-decoration-color: #00af00\">13</span>, <span style=\"color: #00af00; text-decoration-color: #00af00\">13</span>, <span style=\"color: #00af00; text-decoration-color: #00af00\">128</span>)    │             <span style=\"color: #00af00; text-decoration-color: #00af00\">0</span> │\n",
              "├─────────────────────────────────┼────────────────────────┼───────────────┤\n",
              "│ dropout_42 (<span style=\"color: #0087ff; text-decoration-color: #0087ff\">Dropout</span>)            │ (<span style=\"color: #00d7ff; text-decoration-color: #00d7ff\">None</span>, <span style=\"color: #00af00; text-decoration-color: #00af00\">13</span>, <span style=\"color: #00af00; text-decoration-color: #00af00\">13</span>, <span style=\"color: #00af00; text-decoration-color: #00af00\">128</span>)    │             <span style=\"color: #00af00; text-decoration-color: #00af00\">0</span> │\n",
              "├─────────────────────────────────┼────────────────────────┼───────────────┤\n",
              "│ global_average_pooling2d_14     │ (<span style=\"color: #00d7ff; text-decoration-color: #00d7ff\">None</span>, <span style=\"color: #00af00; text-decoration-color: #00af00\">128</span>)            │             <span style=\"color: #00af00; text-decoration-color: #00af00\">0</span> │\n",
              "│ (<span style=\"color: #0087ff; text-decoration-color: #0087ff\">GlobalAveragePooling2D</span>)        │                        │               │\n",
              "├─────────────────────────────────┼────────────────────────┼───────────────┤\n",
              "│ dense_47 (<span style=\"color: #0087ff; text-decoration-color: #0087ff\">Dense</span>)                │ (<span style=\"color: #00d7ff; text-decoration-color: #00d7ff\">None</span>, <span style=\"color: #00af00; text-decoration-color: #00af00\">128</span>)            │        <span style=\"color: #00af00; text-decoration-color: #00af00\">16,512</span> │\n",
              "├─────────────────────────────────┼────────────────────────┼───────────────┤\n",
              "│ dropout_43 (<span style=\"color: #0087ff; text-decoration-color: #0087ff\">Dropout</span>)            │ (<span style=\"color: #00d7ff; text-decoration-color: #00d7ff\">None</span>, <span style=\"color: #00af00; text-decoration-color: #00af00\">128</span>)            │             <span style=\"color: #00af00; text-decoration-color: #00af00\">0</span> │\n",
              "├─────────────────────────────────┼────────────────────────┼───────────────┤\n",
              "│ dense_48 (<span style=\"color: #0087ff; text-decoration-color: #0087ff\">Dense</span>)                │ (<span style=\"color: #00d7ff; text-decoration-color: #00d7ff\">None</span>, <span style=\"color: #00af00; text-decoration-color: #00af00\">64</span>)             │         <span style=\"color: #00af00; text-decoration-color: #00af00\">8,256</span> │\n",
              "├─────────────────────────────────┼────────────────────────┼───────────────┤\n",
              "│ dropout_44 (<span style=\"color: #0087ff; text-decoration-color: #0087ff\">Dropout</span>)            │ (<span style=\"color: #00d7ff; text-decoration-color: #00d7ff\">None</span>, <span style=\"color: #00af00; text-decoration-color: #00af00\">64</span>)             │             <span style=\"color: #00af00; text-decoration-color: #00af00\">0</span> │\n",
              "├─────────────────────────────────┼────────────────────────┼───────────────┤\n",
              "│ dense_49 (<span style=\"color: #0087ff; text-decoration-color: #0087ff\">Dense</span>)                │ (<span style=\"color: #00d7ff; text-decoration-color: #00d7ff\">None</span>, <span style=\"color: #00af00; text-decoration-color: #00af00\">6</span>)              │           <span style=\"color: #00af00; text-decoration-color: #00af00\">390</span> │\n",
              "└─────────────────────────────────┴────────────────────────┴───────────────┘\n",
              "</pre>\n"
            ]
          },
          "metadata": {}
        },
        {
          "output_type": "display_data",
          "data": {
            "text/plain": [
              "\u001b[1m Total params: \u001b[0m\u001b[38;5;34m267,398\u001b[0m (1.02 MB)\n"
            ],
            "text/html": [
              "<pre style=\"white-space:pre;overflow-x:auto;line-height:normal;font-family:Menlo,'DejaVu Sans Mono',consolas,'Courier New',monospace\"><span style=\"font-weight: bold\"> Total params: </span><span style=\"color: #00af00; text-decoration-color: #00af00\">267,398</span> (1.02 MB)\n",
              "</pre>\n"
            ]
          },
          "metadata": {}
        },
        {
          "output_type": "display_data",
          "data": {
            "text/plain": [
              "\u001b[1m Trainable params: \u001b[0m\u001b[38;5;34m266,694\u001b[0m (1.02 MB)\n"
            ],
            "text/html": [
              "<pre style=\"white-space:pre;overflow-x:auto;line-height:normal;font-family:Menlo,'DejaVu Sans Mono',consolas,'Courier New',monospace\"><span style=\"font-weight: bold\"> Trainable params: </span><span style=\"color: #00af00; text-decoration-color: #00af00\">266,694</span> (1.02 MB)\n",
              "</pre>\n"
            ]
          },
          "metadata": {}
        },
        {
          "output_type": "display_data",
          "data": {
            "text/plain": [
              "\u001b[1m Non-trainable params: \u001b[0m\u001b[38;5;34m704\u001b[0m (2.75 KB)\n"
            ],
            "text/html": [
              "<pre style=\"white-space:pre;overflow-x:auto;line-height:normal;font-family:Menlo,'DejaVu Sans Mono',consolas,'Courier New',monospace\"><span style=\"font-weight: bold\"> Non-trainable params: </span><span style=\"color: #00af00; text-decoration-color: #00af00\">704</span> (2.75 KB)\n",
              "</pre>\n"
            ]
          },
          "metadata": {}
        }
      ]
    },
    {
      "cell_type": "code",
      "source": [
        "# Compilación del modelo\n",
        "from tensorflow.keras.optimizers import Adam\n",
        "\n",
        "opt = Adam(learning_rate=1e-3)\n",
        "redConv.compile(\n",
        "    optimizer=opt,\n",
        "    loss='sparse_categorical_crossentropy',\n",
        "    metrics=['accuracy'])"
      ],
      "metadata": {
        "id": "ei2djIPjT3kd"
      },
      "execution_count": 47,
      "outputs": []
    },
    {
      "cell_type": "code",
      "source": [
        "from tensorflow.keras.callbacks import ReduceLROnPlateau\n",
        "from tensorflow.keras.callbacks import EarlyStopping\n",
        "\n",
        "# Reducir learning rate\n",
        "reduce_lr = ReduceLROnPlateau(\n",
        "    monitor='val_loss',\n",
        "    factor=0.7,\n",
        "    patience=6,\n",
        "    min_lr=1e-5,\n",
        "    verbose=1\n",
        ")\n",
        "# Early Stopping\n",
        "early_stopping = EarlyStopping(\n",
        "    monitor='val_loss',\n",
        "    patience=10,\n",
        "    restore_best_weights=True\n",
        ")"
      ],
      "metadata": {
        "id": "jgbl1h2pKJw-"
      },
      "execution_count": 48,
      "outputs": []
    },
    {
      "cell_type": "code",
      "source": [
        "# Entrenamiento del modelo\n",
        "evolucion = redConv.fit(\n",
        "    conj_entrenamiento,\n",
        "    validation_data = conj_prueba,\n",
        "    epochs = 60,\n",
        "    callbacks = [early_stopping,reduce_lr]\n",
        " )"
      ],
      "metadata": {
        "colab": {
          "base_uri": "https://localhost:8080/"
        },
        "id": "zSVlyG63AqG9",
        "outputId": "278c434c-b4dd-4f11-e7c6-9bb0543aaecc"
      },
      "execution_count": 50,
      "outputs": [
        {
          "output_type": "stream",
          "name": "stdout",
          "text": [
            "Epoch 1/60\n",
            "\u001b[1m206/206\u001b[0m \u001b[32m━━━━━━━━━━━━━━━━━━━━\u001b[0m\u001b[37m\u001b[0m \u001b[1m32s\u001b[0m 153ms/step - accuracy: 0.2462 - loss: 1.8013 - val_accuracy: 0.2088 - val_loss: 1.8291 - learning_rate: 0.0010\n",
            "Epoch 2/60\n",
            "\u001b[1m206/206\u001b[0m \u001b[32m━━━━━━━━━━━━━━━━━━━━\u001b[0m\u001b[37m\u001b[0m \u001b[1m30s\u001b[0m 145ms/step - accuracy: 0.2757 - loss: 1.7150 - val_accuracy: 0.2063 - val_loss: 1.8031 - learning_rate: 0.0010\n",
            "Epoch 3/60\n",
            "\u001b[1m206/206\u001b[0m \u001b[32m━━━━━━━━━━━━━━━━━━━━\u001b[0m\u001b[37m\u001b[0m \u001b[1m30s\u001b[0m 145ms/step - accuracy: 0.3103 - loss: 1.6738 - val_accuracy: 0.2995 - val_loss: 1.6966 - learning_rate: 0.0010\n",
            "Epoch 4/60\n",
            "\u001b[1m206/206\u001b[0m \u001b[32m━━━━━━━━━━━━━━━━━━━━\u001b[0m\u001b[37m\u001b[0m \u001b[1m30s\u001b[0m 145ms/step - accuracy: 0.3229 - loss: 1.6379 - val_accuracy: 0.3548 - val_loss: 1.6037 - learning_rate: 0.0010\n",
            "Epoch 5/60\n",
            "\u001b[1m206/206\u001b[0m \u001b[32m━━━━━━━━━━━━━━━━━━━━\u001b[0m\u001b[37m\u001b[0m \u001b[1m30s\u001b[0m 145ms/step - accuracy: 0.3412 - loss: 1.6246 - val_accuracy: 0.3731 - val_loss: 1.6048 - learning_rate: 0.0010\n",
            "Epoch 6/60\n",
            "\u001b[1m206/206\u001b[0m \u001b[32m━━━━━━━━━━━━━━━━━━━━\u001b[0m\u001b[37m\u001b[0m \u001b[1m30s\u001b[0m 144ms/step - accuracy: 0.3585 - loss: 1.6026 - val_accuracy: 0.3670 - val_loss: 1.5683 - learning_rate: 0.0010\n",
            "Epoch 7/60\n",
            "\u001b[1m206/206\u001b[0m \u001b[32m━━━━━━━━━━━━━━━━━━━━\u001b[0m\u001b[37m\u001b[0m \u001b[1m30s\u001b[0m 144ms/step - accuracy: 0.3619 - loss: 1.5763 - val_accuracy: 0.3141 - val_loss: 1.9239 - learning_rate: 0.0010\n",
            "Epoch 8/60\n",
            "\u001b[1m206/206\u001b[0m \u001b[32m━━━━━━━━━━━━━━━━━━━━\u001b[0m\u001b[37m\u001b[0m \u001b[1m30s\u001b[0m 144ms/step - accuracy: 0.3717 - loss: 1.5669 - val_accuracy: 0.1735 - val_loss: 5.7263 - learning_rate: 0.0010\n",
            "Epoch 9/60\n",
            "\u001b[1m206/206\u001b[0m \u001b[32m━━━━━━━━━━━━━━━━━━━━\u001b[0m\u001b[37m\u001b[0m \u001b[1m30s\u001b[0m 144ms/step - accuracy: 0.3921 - loss: 1.5276 - val_accuracy: 0.3366 - val_loss: 1.6539 - learning_rate: 0.0010\n",
            "Epoch 10/60\n",
            "\u001b[1m206/206\u001b[0m \u001b[32m━━━━━━━━━━━━━━━━━━━━\u001b[0m\u001b[37m\u001b[0m \u001b[1m30s\u001b[0m 144ms/step - accuracy: 0.3980 - loss: 1.5254 - val_accuracy: 0.3907 - val_loss: 1.5255 - learning_rate: 0.0010\n",
            "Epoch 11/60\n",
            "\u001b[1m206/206\u001b[0m \u001b[32m━━━━━━━━━━━━━━━━━━━━\u001b[0m\u001b[37m\u001b[0m \u001b[1m30s\u001b[0m 144ms/step - accuracy: 0.4061 - loss: 1.5027 - val_accuracy: 0.3634 - val_loss: 1.6011 - learning_rate: 0.0010\n",
            "Epoch 12/60\n",
            "\u001b[1m206/206\u001b[0m \u001b[32m━━━━━━━━━━━━━━━━━━━━\u001b[0m\u001b[37m\u001b[0m \u001b[1m30s\u001b[0m 144ms/step - accuracy: 0.4132 - loss: 1.4926 - val_accuracy: 0.3907 - val_loss: 1.5127 - learning_rate: 0.0010\n",
            "Epoch 13/60\n",
            "\u001b[1m206/206\u001b[0m \u001b[32m━━━━━━━━━━━━━━━━━━━━\u001b[0m\u001b[37m\u001b[0m \u001b[1m30s\u001b[0m 144ms/step - accuracy: 0.4123 - loss: 1.4718 - val_accuracy: 0.3999 - val_loss: 1.5092 - learning_rate: 0.0010\n",
            "Epoch 14/60\n",
            "\u001b[1m206/206\u001b[0m \u001b[32m━━━━━━━━━━━━━━━━━━━━\u001b[0m\u001b[37m\u001b[0m \u001b[1m30s\u001b[0m 144ms/step - accuracy: 0.4319 - loss: 1.4444 - val_accuracy: 0.4066 - val_loss: 1.5051 - learning_rate: 0.0010\n",
            "Epoch 15/60\n",
            "\u001b[1m206/206\u001b[0m \u001b[32m━━━━━━━━━━━━━━━━━━━━\u001b[0m\u001b[37m\u001b[0m \u001b[1m30s\u001b[0m 145ms/step - accuracy: 0.4270 - loss: 1.4493 - val_accuracy: 0.3451 - val_loss: 1.6415 - learning_rate: 0.0010\n",
            "Epoch 16/60\n",
            "\u001b[1m206/206\u001b[0m \u001b[32m━━━━━━━━━━━━━━━━━━━━\u001b[0m\u001b[37m\u001b[0m \u001b[1m30s\u001b[0m 144ms/step - accuracy: 0.4595 - loss: 1.4037 - val_accuracy: 0.3707 - val_loss: 1.6139 - learning_rate: 0.0010\n",
            "Epoch 17/60\n",
            "\u001b[1m206/206\u001b[0m \u001b[32m━━━━━━━━━━━━━━━━━━━━\u001b[0m\u001b[37m\u001b[0m \u001b[1m30s\u001b[0m 145ms/step - accuracy: 0.4334 - loss: 1.4282 - val_accuracy: 0.4017 - val_loss: 1.5627 - learning_rate: 0.0010\n",
            "Epoch 18/60\n",
            "\u001b[1m206/206\u001b[0m \u001b[32m━━━━━━━━━━━━━━━━━━━━\u001b[0m\u001b[37m\u001b[0m \u001b[1m30s\u001b[0m 145ms/step - accuracy: 0.4623 - loss: 1.3924 - val_accuracy: 0.4547 - val_loss: 1.3945 - learning_rate: 0.0010\n",
            "Epoch 19/60\n",
            "\u001b[1m206/206\u001b[0m \u001b[32m━━━━━━━━━━━━━━━━━━━━\u001b[0m\u001b[37m\u001b[0m \u001b[1m30s\u001b[0m 145ms/step - accuracy: 0.4611 - loss: 1.3750 - val_accuracy: 0.4425 - val_loss: 1.4315 - learning_rate: 0.0010\n",
            "Epoch 20/60\n",
            "\u001b[1m206/206\u001b[0m \u001b[32m━━━━━━━━━━━━━━━━━━━━\u001b[0m\u001b[37m\u001b[0m \u001b[1m30s\u001b[0m 145ms/step - accuracy: 0.4769 - loss: 1.3559 - val_accuracy: 0.4461 - val_loss: 1.4505 - learning_rate: 0.0010\n",
            "Epoch 21/60\n",
            "\u001b[1m206/206\u001b[0m \u001b[32m━━━━━━━━━━━━━━━━━━━━\u001b[0m\u001b[37m\u001b[0m \u001b[1m30s\u001b[0m 145ms/step - accuracy: 0.4841 - loss: 1.3313 - val_accuracy: 0.3445 - val_loss: 1.6454 - learning_rate: 0.0010\n",
            "Epoch 22/60\n",
            "\u001b[1m206/206\u001b[0m \u001b[32m━━━━━━━━━━━━━━━━━━━━\u001b[0m\u001b[37m\u001b[0m \u001b[1m30s\u001b[0m 145ms/step - accuracy: 0.4761 - loss: 1.3392 - val_accuracy: 0.4449 - val_loss: 1.4806 - learning_rate: 0.0010\n",
            "Epoch 23/60\n",
            "\u001b[1m206/206\u001b[0m \u001b[32m━━━━━━━━━━━━━━━━━━━━\u001b[0m\u001b[37m\u001b[0m \u001b[1m30s\u001b[0m 145ms/step - accuracy: 0.4966 - loss: 1.2981 - val_accuracy: 0.4547 - val_loss: 1.4422 - learning_rate: 0.0010\n",
            "Epoch 24/60\n",
            "\u001b[1m206/206\u001b[0m \u001b[32m━━━━━━━━━━━━━━━━━━━━\u001b[0m\u001b[37m\u001b[0m \u001b[1m0s\u001b[0m 139ms/step - accuracy: 0.5130 - loss: 1.2747\n",
            "Epoch 24: ReduceLROnPlateau reducing learning rate to 0.0007000000332482159.\n",
            "\u001b[1m206/206\u001b[0m \u001b[32m━━━━━━━━━━━━━━━━━━━━\u001b[0m\u001b[37m\u001b[0m \u001b[1m30s\u001b[0m 145ms/step - accuracy: 0.5130 - loss: 1.2748 - val_accuracy: 0.3481 - val_loss: 1.8420 - learning_rate: 0.0010\n",
            "Epoch 25/60\n",
            "\u001b[1m206/206\u001b[0m \u001b[32m━━━━━━━━━━━━━━━━━━━━\u001b[0m\u001b[37m\u001b[0m \u001b[1m30s\u001b[0m 145ms/step - accuracy: 0.5163 - loss: 1.2494 - val_accuracy: 0.4790 - val_loss: 1.3901 - learning_rate: 7.0000e-04\n",
            "Epoch 26/60\n",
            "\u001b[1m206/206\u001b[0m \u001b[32m━━━━━━━━━━━━━━━━━━━━\u001b[0m\u001b[37m\u001b[0m \u001b[1m30s\u001b[0m 145ms/step - accuracy: 0.5249 - loss: 1.2234 - val_accuracy: 0.4364 - val_loss: 1.5375 - learning_rate: 7.0000e-04\n",
            "Epoch 27/60\n",
            "\u001b[1m206/206\u001b[0m \u001b[32m━━━━━━━━━━━━━━━━━━━━\u001b[0m\u001b[37m\u001b[0m \u001b[1m30s\u001b[0m 145ms/step - accuracy: 0.5352 - loss: 1.2102 - val_accuracy: 0.4614 - val_loss: 1.5182 - learning_rate: 7.0000e-04\n",
            "Epoch 28/60\n",
            "\u001b[1m206/206\u001b[0m \u001b[32m━━━━━━━━━━━━━━━━━━━━\u001b[0m\u001b[37m\u001b[0m \u001b[1m30s\u001b[0m 146ms/step - accuracy: 0.5453 - loss: 1.1938 - val_accuracy: 0.3159 - val_loss: 2.3314 - learning_rate: 7.0000e-04\n",
            "Epoch 29/60\n",
            "\u001b[1m206/206\u001b[0m \u001b[32m━━━━━━━━━━━━━━━━━━━━\u001b[0m\u001b[37m\u001b[0m \u001b[1m30s\u001b[0m 145ms/step - accuracy: 0.5530 - loss: 1.1801 - val_accuracy: 0.4802 - val_loss: 1.4283 - learning_rate: 7.0000e-04\n",
            "Epoch 30/60\n",
            "\u001b[1m206/206\u001b[0m \u001b[32m━━━━━━━━━━━━━━━━━━━━\u001b[0m\u001b[37m\u001b[0m \u001b[1m30s\u001b[0m 145ms/step - accuracy: 0.5570 - loss: 1.1772 - val_accuracy: 0.3183 - val_loss: 3.5528 - learning_rate: 7.0000e-04\n",
            "Epoch 31/60\n",
            "\u001b[1m206/206\u001b[0m \u001b[32m━━━━━━━━━━━━━━━━━━━━\u001b[0m\u001b[37m\u001b[0m \u001b[1m30s\u001b[0m 146ms/step - accuracy: 0.5518 - loss: 1.1610 - val_accuracy: 0.5155 - val_loss: 1.3245 - learning_rate: 7.0000e-04\n",
            "Epoch 32/60\n",
            "\u001b[1m206/206\u001b[0m \u001b[32m━━━━━━━━━━━━━━━━━━━━\u001b[0m\u001b[37m\u001b[0m \u001b[1m30s\u001b[0m 145ms/step - accuracy: 0.5597 - loss: 1.1389 - val_accuracy: 0.4534 - val_loss: 1.5564 - learning_rate: 7.0000e-04\n",
            "Epoch 33/60\n",
            "\u001b[1m206/206\u001b[0m \u001b[32m━━━━━━━━━━━━━━━━━━━━\u001b[0m\u001b[37m\u001b[0m \u001b[1m30s\u001b[0m 145ms/step - accuracy: 0.5661 - loss: 1.1409 - val_accuracy: 0.4589 - val_loss: 1.5101 - learning_rate: 7.0000e-04\n",
            "Epoch 34/60\n",
            "\u001b[1m206/206\u001b[0m \u001b[32m━━━━━━━━━━━━━━━━━━━━\u001b[0m\u001b[37m\u001b[0m \u001b[1m41s\u001b[0m 145ms/step - accuracy: 0.5765 - loss: 1.1088 - val_accuracy: 0.4912 - val_loss: 1.4248 - learning_rate: 7.0000e-04\n",
            "Epoch 35/60\n",
            "\u001b[1m206/206\u001b[0m \u001b[32m━━━━━━━━━━━━━━━━━━━━\u001b[0m\u001b[37m\u001b[0m \u001b[1m30s\u001b[0m 146ms/step - accuracy: 0.5769 - loss: 1.1137 - val_accuracy: 0.4492 - val_loss: 1.5542 - learning_rate: 7.0000e-04\n",
            "Epoch 36/60\n",
            "\u001b[1m206/206\u001b[0m \u001b[32m━━━━━━━━━━━━━━━━━━━━\u001b[0m\u001b[37m\u001b[0m \u001b[1m30s\u001b[0m 145ms/step - accuracy: 0.6054 - loss: 1.0570 - val_accuracy: 0.4358 - val_loss: 1.5777 - learning_rate: 7.0000e-04\n",
            "Epoch 37/60\n",
            "\u001b[1m206/206\u001b[0m \u001b[32m━━━━━━━━━━━━━━━━━━━━\u001b[0m\u001b[37m\u001b[0m \u001b[1m0s\u001b[0m 139ms/step - accuracy: 0.5924 - loss: 1.0661\n",
            "Epoch 37: ReduceLROnPlateau reducing learning rate to 0.0004900000232737511.\n",
            "\u001b[1m206/206\u001b[0m \u001b[32m━━━━━━━━━━━━━━━━━━━━\u001b[0m\u001b[37m\u001b[0m \u001b[1m30s\u001b[0m 145ms/step - accuracy: 0.5924 - loss: 1.0662 - val_accuracy: 0.4571 - val_loss: 1.6131 - learning_rate: 7.0000e-04\n",
            "Epoch 38/60\n",
            "\u001b[1m206/206\u001b[0m \u001b[32m━━━━━━━━━━━━━━━━━━━━\u001b[0m\u001b[37m\u001b[0m \u001b[1m30s\u001b[0m 146ms/step - accuracy: 0.6035 - loss: 1.0407 - val_accuracy: 0.4918 - val_loss: 1.4955 - learning_rate: 4.9000e-04\n",
            "Epoch 39/60\n",
            "\u001b[1m206/206\u001b[0m \u001b[32m━━━━━━━━━━━━━━━━━━━━\u001b[0m\u001b[37m\u001b[0m \u001b[1m30s\u001b[0m 145ms/step - accuracy: 0.6161 - loss: 1.0304 - val_accuracy: 0.4632 - val_loss: 1.5550 - learning_rate: 4.9000e-04\n",
            "Epoch 40/60\n",
            "\u001b[1m206/206\u001b[0m \u001b[32m━━━━━━━━━━━━━━━━━━━━\u001b[0m\u001b[37m\u001b[0m \u001b[1m30s\u001b[0m 145ms/step - accuracy: 0.6223 - loss: 0.9971 - val_accuracy: 0.5082 - val_loss: 1.3323 - learning_rate: 4.9000e-04\n",
            "Epoch 41/60\n",
            "\u001b[1m206/206\u001b[0m \u001b[32m━━━━━━━━━━━━━━━━━━━━\u001b[0m\u001b[37m\u001b[0m \u001b[1m30s\u001b[0m 146ms/step - accuracy: 0.6065 - loss: 1.0402 - val_accuracy: 0.4528 - val_loss: 1.5347 - learning_rate: 4.9000e-04\n"
          ]
        }
      ]
    },
    {
      "cell_type": "code",
      "source": [
        "# Gráfico de la evolución de entrenamiento y pérdida\n",
        "# Historial de entrenamiento\n",
        "hist = evolucion.history\n",
        "plt.figure(figsize=(10,4))\n",
        "\n",
        "# Presición del modelo\n",
        "plt.subplot(1,2,1)\n",
        "plt.plot(hist['accuracy'],label='Entrenamiento')\n",
        "plt.plot(hist['val_accuracy'],label='Validación')\n",
        "plt.xlabel('Epochs')\n",
        "plt.ylabel('Precisión')\n",
        "plt.title('Precisión del modelo')\n",
        "plt.legend()\n",
        "\n",
        "# Pérdida del modelo\n",
        "plt.subplot(1,2,2)\n",
        "plt.plot(hist['loss'],label='Entrenamiento')\n",
        "plt.plot(hist['val_loss'],label='Validación')\n",
        "plt.xlabel('Epochs')\n",
        "plt.ylabel('Pérdida')\n",
        "plt.title('Pérdida del modelo')\n",
        "plt.legend()\n",
        "\n",
        "plt.show()"
      ],
      "metadata": {
        "colab": {
          "base_uri": "https://localhost:8080/",
          "height": 389
        },
        "id": "EM3e0evZkzrh",
        "outputId": "628298ce-b248-4a6e-bb2e-0547086a89be"
      },
      "execution_count": 51,
      "outputs": [
        {
          "output_type": "display_data",
          "data": {
            "text/plain": [
              "<Figure size 1000x400 with 2 Axes>"
            ],
            "image/png": "[encoded data removed]"
          },
          "metadata": {}
        }
      ]
    },
    {
      "cell_type": "markdown",
      "source": [
        "## 4. Diseña una arquitectura de una red neuronal convolucional profunda que utilice como base un modelo pre-entrenado para resolver el problema de clasificación\n",
        "\n",
        "Al usar un modelo pre-entrenado se usará:\n",
        "\n",
        "```\n",
        "MobileNetV2\n",
        "```\n",
        "Así mismo, para evitar que los ecosistemas tengan problemas, se utilizarán pesos predefinidos.\n",
        "\n"
      ],
      "metadata": {
        "id": "3NQWa0CWQu0I"
      }
    },
    {
      "cell_type": "code",
      "source": [
        "# Data Augmentation\n",
        "data_augmentation = tf.keras.Sequential([\n",
        "    tf.keras.layers.RandomFlip(\"horizontal_and_vertical\"),\n",
        "    tf.keras.layers.RandomRotation(0.3),\n",
        "    tf.keras.layers.RandomZoom(0.3),\n",
        "    tf.keras.layers.RandomContrast(0.3),\n",
        "    tf.keras.layers.RandomBrightness(0.3),\n",
        "    tf.keras.layers.RandomTranslation(0.1, 0.1),\n",
        "])\n",
        "# Configurar modelo pre-entrenado\n",
        "forma_img = (224,224,3)\n",
        "modelo_base = tf.keras.applications.MobileNetV2(\n",
        "    input_shape = forma_img,\n",
        "    include_top = False,\n",
        "    weights='imagenet'\n",
        ")\n",
        "modelo_base.trainable = False"
      ],
      "metadata": {
        "id": "jtu3UfGWRnWV",
        "colab": {
          "base_uri": "https://localhost:8080/"
        },
        "outputId": "485dd6e4-7609-42de-9636-d156a3ab411b"
      },
      "execution_count": 11,
      "outputs": [
        {
          "output_type": "stream",
          "name": "stdout",
          "text": [
            "Downloading data from https://storage.googleapis.com/tensorflow/keras-applications/mobilenet_v2/mobilenet_v2_weights_tf_dim_ordering_tf_kernels_1.0_224_no_top.h5\n",
            "\u001b[1m9406464/9406464\u001b[0m \u001b[32m━━━━━━━━━━━━━━━━━━━━\u001b[0m\u001b[37m\u001b[0m \u001b[1m0s\u001b[0m 0us/step\n"
          ]
        }
      ]
    },
    {
      "cell_type": "markdown",
      "source": [
        "Es importante normalizar los datos de entrada en la base convolucional."
      ],
      "metadata": {
        "id": "PuITViA2SlEe"
      }
    },
    {
      "cell_type": "code",
      "source": [
        "from tensorflow.keras import regularizers\n",
        "# Modelo completo\n",
        "inputs = tf.keras.Input(shape=forma_img)\n",
        "x = data_augmentation(inputs)\n",
        "x = tf.keras.applications.mobilenet_v2.preprocess_input(x)\n",
        "x = modelo_base(x, training=False)\n",
        "x = tf.keras.layers.GlobalAveragePooling2D()(x)\n",
        "x = tf.keras.layers.Dropout(0.4)(x)\n",
        "x = tf.keras.layers.Dense(\n",
        "    128, activation='relu', kernel_regularizer=regularizers.l2(1e-4))(x)\n",
        "x = tf.keras.layers.Dropout(0.4)(x)\n",
        "outputs = tf.keras.layers.Dense(6, activation='softmax')(x)\n",
        "modelo_pre = tf.keras.Model(inputs, outputs)\n",
        "modelo_pre.summary()"
      ],
      "metadata": {
        "id": "Wg2cmdDtS9HG",
        "colab": {
          "base_uri": "https://localhost:8080/",
          "height": 510
        },
        "outputId": "4a598576-a7a0-4f0d-b9e3-a3ae944150ba"
      },
      "execution_count": 53,
      "outputs": [
        {
          "output_type": "display_data",
          "data": {
            "text/plain": [
              "\u001b[1mModel: \"functional_17\"\u001b[0m\n"
            ],
            "text/html": [
              "<pre style=\"white-space:pre;overflow-x:auto;line-height:normal;font-family:Menlo,'DejaVu Sans Mono',consolas,'Courier New',monospace\"><span style=\"font-weight: bold\">Model: \"functional_17\"</span>\n",
              "</pre>\n"
            ]
          },
          "metadata": {}
        },
        {
          "output_type": "display_data",
          "data": {
            "text/plain": [
              "┏━━━━━━━━━━━━━━━━━━━━━━━━━━━━━━━━━┳━━━━━━━━━━━━━━━━━━━━━━━━┳━━━━━━━━━━━━━━━┓\n",
              "┃\u001b[1m \u001b[0m\u001b[1mLayer (type)                   \u001b[0m\u001b[1m \u001b[0m┃\u001b[1m \u001b[0m\u001b[1mOutput Shape          \u001b[0m\u001b[1m \u001b[0m┃\u001b[1m \u001b[0m\u001b[1m      Param #\u001b[0m\u001b[1m \u001b[0m┃\n",
              "┡━━━━━━━━━━━━━━━━━━━━━━━━━━━━━━━━━╇━━━━━━━━━━━━━━━━━━━━━━━━╇━━━━━━━━━━━━━━━┩\n",
              "│ input_layer_20 (\u001b[38;5;33mInputLayer\u001b[0m)     │ (\u001b[38;5;45mNone\u001b[0m, \u001b[38;5;34m224\u001b[0m, \u001b[38;5;34m224\u001b[0m, \u001b[38;5;34m3\u001b[0m)    │             \u001b[38;5;34m0\u001b[0m │\n",
              "├─────────────────────────────────┼────────────────────────┼───────────────┤\n",
              "│ sequential_1 (\u001b[38;5;33mSequential\u001b[0m)       │ (\u001b[38;5;45mNone\u001b[0m, \u001b[38;5;34m224\u001b[0m, \u001b[38;5;34m224\u001b[0m, \u001b[38;5;34m3\u001b[0m)    │             \u001b[38;5;34m0\u001b[0m │\n",
              "├─────────────────────────────────┼────────────────────────┼───────────────┤\n",
              "│ true_divide (\u001b[38;5;33mTrueDivide\u001b[0m)        │ (\u001b[38;5;45mNone\u001b[0m, \u001b[38;5;34m224\u001b[0m, \u001b[38;5;34m224\u001b[0m, \u001b[38;5;34m3\u001b[0m)    │             \u001b[38;5;34m0\u001b[0m │\n",
              "├─────────────────────────────────┼────────────────────────┼───────────────┤\n",
              "│ subtract (\u001b[38;5;33mSubtract\u001b[0m)             │ (\u001b[38;5;45mNone\u001b[0m, \u001b[38;5;34m224\u001b[0m, \u001b[38;5;34m224\u001b[0m, \u001b[38;5;34m3\u001b[0m)    │             \u001b[38;5;34m0\u001b[0m │\n",
              "├─────────────────────────────────┼────────────────────────┼───────────────┤\n",
              "│ mobilenetv2_1.00_224            │ (\u001b[38;5;45mNone\u001b[0m, \u001b[38;5;34m7\u001b[0m, \u001b[38;5;34m7\u001b[0m, \u001b[38;5;34m1280\u001b[0m)     │     \u001b[38;5;34m2,257,984\u001b[0m │\n",
              "│ (\u001b[38;5;33mFunctional\u001b[0m)                    │                        │               │\n",
              "├─────────────────────────────────┼────────────────────────┼───────────────┤\n",
              "│ global_average_pooling2d_15     │ (\u001b[38;5;45mNone\u001b[0m, \u001b[38;5;34m1280\u001b[0m)           │             \u001b[38;5;34m0\u001b[0m │\n",
              "│ (\u001b[38;5;33mGlobalAveragePooling2D\u001b[0m)        │                        │               │\n",
              "├─────────────────────────────────┼────────────────────────┼───────────────┤\n",
              "│ dropout_45 (\u001b[38;5;33mDropout\u001b[0m)            │ (\u001b[38;5;45mNone\u001b[0m, \u001b[38;5;34m1280\u001b[0m)           │             \u001b[38;5;34m0\u001b[0m │\n",
              "├─────────────────────────────────┼────────────────────────┼───────────────┤\n",
              "│ dense_50 (\u001b[38;5;33mDense\u001b[0m)                │ (\u001b[38;5;45mNone\u001b[0m, \u001b[38;5;34m128\u001b[0m)            │       \u001b[38;5;34m163,968\u001b[0m │\n",
              "├─────────────────────────────────┼────────────────────────┼───────────────┤\n",
              "│ dropout_46 (\u001b[38;5;33mDropout\u001b[0m)            │ (\u001b[38;5;45mNone\u001b[0m, \u001b[38;5;34m128\u001b[0m)            │             \u001b[38;5;34m0\u001b[0m │\n",
              "├─────────────────────────────────┼────────────────────────┼───────────────┤\n",
              "│ dense_51 (\u001b[38;5;33mDense\u001b[0m)                │ (\u001b[38;5;45mNone\u001b[0m, \u001b[38;5;34m6\u001b[0m)              │           \u001b[38;5;34m774\u001b[0m │\n",
              "└─────────────────────────────────┴────────────────────────┴───────────────┘\n"
            ],
            "text/html": [
              "<pre style=\"white-space:pre;overflow-x:auto;line-height:normal;font-family:Menlo,'DejaVu Sans Mono',consolas,'Courier New',monospace\">┏━━━━━━━━━━━━━━━━━━━━━━━━━━━━━━━━━┳━━━━━━━━━━━━━━━━━━━━━━━━┳━━━━━━━━━━━━━━━┓\n",
              "┃<span style=\"font-weight: bold\"> Layer (type)                    </span>┃<span style=\"font-weight: bold\"> Output Shape           </span>┃<span style=\"font-weight: bold\">       Param # </span>┃\n",
              "┡━━━━━━━━━━━━━━━━━━━━━━━━━━━━━━━━━╇━━━━━━━━━━━━━━━━━━━━━━━━╇━━━━━━━━━━━━━━━┩\n",
              "│ input_layer_20 (<span style=\"color: #0087ff; text-decoration-color: #0087ff\">InputLayer</span>)     │ (<span style=\"color: #00d7ff; text-decoration-color: #00d7ff\">None</span>, <span style=\"color: #00af00; text-decoration-color: #00af00\">224</span>, <span style=\"color: #00af00; text-decoration-color: #00af00\">224</span>, <span style=\"color: #00af00; text-decoration-color: #00af00\">3</span>)    │             <span style=\"color: #00af00; text-decoration-color: #00af00\">0</span> │\n",
              "├─────────────────────────────────┼────────────────────────┼───────────────┤\n",
              "│ sequential_1 (<span style=\"color: #0087ff; text-decoration-color: #0087ff\">Sequential</span>)       │ (<span style=\"color: #00d7ff; text-decoration-color: #00d7ff\">None</span>, <span style=\"color: #00af00; text-decoration-color: #00af00\">224</span>, <span style=\"color: #00af00; text-decoration-color: #00af00\">224</span>, <span style=\"color: #00af00; text-decoration-color: #00af00\">3</span>)    │             <span style=\"color: #00af00; text-decoration-color: #00af00\">0</span> │\n",
              "├─────────────────────────────────┼────────────────────────┼───────────────┤\n",
              "│ true_divide (<span style=\"color: #0087ff; text-decoration-color: #0087ff\">TrueDivide</span>)        │ (<span style=\"color: #00d7ff; text-decoration-color: #00d7ff\">None</span>, <span style=\"color: #00af00; text-decoration-color: #00af00\">224</span>, <span style=\"color: #00af00; text-decoration-color: #00af00\">224</span>, <span style=\"color: #00af00; text-decoration-color: #00af00\">3</span>)    │             <span style=\"color: #00af00; text-decoration-color: #00af00\">0</span> │\n",
              "├─────────────────────────────────┼────────────────────────┼───────────────┤\n",
              "│ subtract (<span style=\"color: #0087ff; text-decoration-color: #0087ff\">Subtract</span>)             │ (<span style=\"color: #00d7ff; text-decoration-color: #00d7ff\">None</span>, <span style=\"color: #00af00; text-decoration-color: #00af00\">224</span>, <span style=\"color: #00af00; text-decoration-color: #00af00\">224</span>, <span style=\"color: #00af00; text-decoration-color: #00af00\">3</span>)    │             <span style=\"color: #00af00; text-decoration-color: #00af00\">0</span> │\n",
              "├─────────────────────────────────┼────────────────────────┼───────────────┤\n",
              "│ mobilenetv2_1.00_224            │ (<span style=\"color: #00d7ff; text-decoration-color: #00d7ff\">None</span>, <span style=\"color: #00af00; text-decoration-color: #00af00\">7</span>, <span style=\"color: #00af00; text-decoration-color: #00af00\">7</span>, <span style=\"color: #00af00; text-decoration-color: #00af00\">1280</span>)     │     <span style=\"color: #00af00; text-decoration-color: #00af00\">2,257,984</span> │\n",
              "│ (<span style=\"color: #0087ff; text-decoration-color: #0087ff\">Functional</span>)                    │                        │               │\n",
              "├─────────────────────────────────┼────────────────────────┼───────────────┤\n",
              "│ global_average_pooling2d_15     │ (<span style=\"color: #00d7ff; text-decoration-color: #00d7ff\">None</span>, <span style=\"color: #00af00; text-decoration-color: #00af00\">1280</span>)           │             <span style=\"color: #00af00; text-decoration-color: #00af00\">0</span> │\n",
              "│ (<span style=\"color: #0087ff; text-decoration-color: #0087ff\">GlobalAveragePooling2D</span>)        │                        │               │\n",
              "├─────────────────────────────────┼────────────────────────┼───────────────┤\n",
              "│ dropout_45 (<span style=\"color: #0087ff; text-decoration-color: #0087ff\">Dropout</span>)            │ (<span style=\"color: #00d7ff; text-decoration-color: #00d7ff\">None</span>, <span style=\"color: #00af00; text-decoration-color: #00af00\">1280</span>)           │             <span style=\"color: #00af00; text-decoration-color: #00af00\">0</span> │\n",
              "├─────────────────────────────────┼────────────────────────┼───────────────┤\n",
              "│ dense_50 (<span style=\"color: #0087ff; text-decoration-color: #0087ff\">Dense</span>)                │ (<span style=\"color: #00d7ff; text-decoration-color: #00d7ff\">None</span>, <span style=\"color: #00af00; text-decoration-color: #00af00\">128</span>)            │       <span style=\"color: #00af00; text-decoration-color: #00af00\">163,968</span> │\n",
              "├─────────────────────────────────┼────────────────────────┼───────────────┤\n",
              "│ dropout_46 (<span style=\"color: #0087ff; text-decoration-color: #0087ff\">Dropout</span>)            │ (<span style=\"color: #00d7ff; text-decoration-color: #00d7ff\">None</span>, <span style=\"color: #00af00; text-decoration-color: #00af00\">128</span>)            │             <span style=\"color: #00af00; text-decoration-color: #00af00\">0</span> │\n",
              "├─────────────────────────────────┼────────────────────────┼───────────────┤\n",
              "│ dense_51 (<span style=\"color: #0087ff; text-decoration-color: #0087ff\">Dense</span>)                │ (<span style=\"color: #00d7ff; text-decoration-color: #00d7ff\">None</span>, <span style=\"color: #00af00; text-decoration-color: #00af00\">6</span>)              │           <span style=\"color: #00af00; text-decoration-color: #00af00\">774</span> │\n",
              "└─────────────────────────────────┴────────────────────────┴───────────────┘\n",
              "</pre>\n"
            ]
          },
          "metadata": {}
        },
        {
          "output_type": "display_data",
          "data": {
            "text/plain": [
              "\u001b[1m Total params: \u001b[0m\u001b[38;5;34m2,422,726\u001b[0m (9.24 MB)\n"
            ],
            "text/html": [
              "<pre style=\"white-space:pre;overflow-x:auto;line-height:normal;font-family:Menlo,'DejaVu Sans Mono',consolas,'Courier New',monospace\"><span style=\"font-weight: bold\"> Total params: </span><span style=\"color: #00af00; text-decoration-color: #00af00\">2,422,726</span> (9.24 MB)\n",
              "</pre>\n"
            ]
          },
          "metadata": {}
        },
        {
          "output_type": "display_data",
          "data": {
            "text/plain": [
              "\u001b[1m Trainable params: \u001b[0m\u001b[38;5;34m164,742\u001b[0m (643.52 KB)\n"
            ],
            "text/html": [
              "<pre style=\"white-space:pre;overflow-x:auto;line-height:normal;font-family:Menlo,'DejaVu Sans Mono',consolas,'Courier New',monospace\"><span style=\"font-weight: bold\"> Trainable params: </span><span style=\"color: #00af00; text-decoration-color: #00af00\">164,742</span> (643.52 KB)\n",
              "</pre>\n"
            ]
          },
          "metadata": {}
        },
        {
          "output_type": "display_data",
          "data": {
            "text/plain": [
              "\u001b[1m Non-trainable params: \u001b[0m\u001b[38;5;34m2,257,984\u001b[0m (8.61 MB)\n"
            ],
            "text/html": [
              "<pre style=\"white-space:pre;overflow-x:auto;line-height:normal;font-family:Menlo,'DejaVu Sans Mono',consolas,'Courier New',monospace\"><span style=\"font-weight: bold\"> Non-trainable params: </span><span style=\"color: #00af00; text-decoration-color: #00af00\">2,257,984</span> (8.61 MB)\n",
              "</pre>\n"
            ]
          },
          "metadata": {}
        }
      ]
    },
    {
      "cell_type": "code",
      "source": [
        "# Fine-Tuning\n",
        "modelo_base.trainable = True\n",
        "for capa in modelo_base.layers[:-60]:\n",
        "    capa.trainable = False"
      ],
      "metadata": {
        "id": "YyFrLPfgRchn"
      },
      "execution_count": 54,
      "outputs": []
    },
    {
      "cell_type": "code",
      "source": [
        "# Compilar modelo final\n",
        "modelo_pre.compile(\n",
        "    optimizer = tf.keras.optimizers.Adam(learning_rate=1e-5),\n",
        "    loss = 'sparse_categorical_crossentropy',\n",
        "    metrics = ['accuracy']\n",
        ")\n",
        "# Entrenamiento\n",
        "historial_pre = modelo_pre.fit(\n",
        "    conj_entrenamiento,\n",
        "    epochs=30,\n",
        "    validation_data = conj_prueba,\n",
        "    callbacks = [early_stopping,reduce_lr]\n",
        ")"
      ],
      "metadata": {
        "id": "bp4rPyALeL3r",
        "colab": {
          "base_uri": "https://localhost:8080/"
        },
        "outputId": "6c6f5409-b5ca-4e41-9fce-7ac621e3ba63"
      },
      "execution_count": 55,
      "outputs": [
        {
          "output_type": "stream",
          "name": "stdout",
          "text": [
            "Epoch 1/30\n",
            "\u001b[1m206/206\u001b[0m \u001b[32m━━━━━━━━━━━━━━━━━━━━\u001b[0m\u001b[37m\u001b[0m \u001b[1m46s\u001b[0m 131ms/step - accuracy: 0.1832 - loss: 2.3499 - val_accuracy: 0.3147 - val_loss: 1.7080 - learning_rate: 1.0000e-05\n",
            "Epoch 2/30\n",
            "\u001b[1m206/206\u001b[0m \u001b[32m━━━━━━━━━━━━━━━━━━━━\u001b[0m\u001b[37m\u001b[0m \u001b[1m24s\u001b[0m 114ms/step - accuracy: 0.2392 - loss: 2.0089 - val_accuracy: 0.4078 - val_loss: 1.5582 - learning_rate: 1.0000e-05\n",
            "Epoch 3/30\n",
            "\u001b[1m206/206\u001b[0m \u001b[32m━━━━━━━━━━━━━━━━━━━━\u001b[0m\u001b[37m\u001b[0m \u001b[1m23s\u001b[0m 113ms/step - accuracy: 0.2961 - loss: 1.8202 - val_accuracy: 0.4772 - val_loss: 1.4523 - learning_rate: 1.0000e-05\n",
            "Epoch 4/30\n",
            "\u001b[1m206/206\u001b[0m \u001b[32m━━━━━━━━━━━━━━━━━━━━\u001b[0m\u001b[37m\u001b[0m \u001b[1m23s\u001b[0m 110ms/step - accuracy: 0.3329 - loss: 1.7185 - val_accuracy: 0.5167 - val_loss: 1.3787 - learning_rate: 1.0000e-05\n",
            "Epoch 5/30\n",
            "\u001b[1m206/206\u001b[0m \u001b[32m━━━━━━━━━━━━━━━━━━━━\u001b[0m\u001b[37m\u001b[0m \u001b[1m23s\u001b[0m 112ms/step - accuracy: 0.3496 - loss: 1.6372 - val_accuracy: 0.5356 - val_loss: 1.3226 - learning_rate: 1.0000e-05\n",
            "Epoch 6/30\n",
            "\u001b[1m206/206\u001b[0m \u001b[32m━━━━━━━━━━━━━━━━━━━━\u001b[0m\u001b[37m\u001b[0m \u001b[1m23s\u001b[0m 112ms/step - accuracy: 0.3839 - loss: 1.5675 - val_accuracy: 0.5417 - val_loss: 1.2745 - learning_rate: 1.0000e-05\n",
            "Epoch 7/30\n",
            "\u001b[1m206/206\u001b[0m \u001b[32m━━━━━━━━━━━━━━━━━━━━\u001b[0m\u001b[37m\u001b[0m \u001b[1m23s\u001b[0m 111ms/step - accuracy: 0.4317 - loss: 1.4849 - val_accuracy: 0.5569 - val_loss: 1.2388 - learning_rate: 1.0000e-05\n",
            "Epoch 8/30\n",
            "\u001b[1m206/206\u001b[0m \u001b[32m━━━━━━━━━━━━━━━━━━━━\u001b[0m\u001b[37m\u001b[0m \u001b[1m23s\u001b[0m 114ms/step - accuracy: 0.4312 - loss: 1.4570 - val_accuracy: 0.5673 - val_loss: 1.2081 - learning_rate: 1.0000e-05\n",
            "Epoch 9/30\n",
            "\u001b[1m206/206\u001b[0m \u001b[32m━━━━━━━━━━━━━━━━━━━━\u001b[0m\u001b[37m\u001b[0m \u001b[1m23s\u001b[0m 111ms/step - accuracy: 0.4585 - loss: 1.4276 - val_accuracy: 0.5764 - val_loss: 1.1878 - learning_rate: 1.0000e-05\n",
            "Epoch 10/30\n",
            "\u001b[1m206/206\u001b[0m \u001b[32m━━━━━━━━━━━━━━━━━━━━\u001b[0m\u001b[37m\u001b[0m \u001b[1m23s\u001b[0m 112ms/step - accuracy: 0.4887 - loss: 1.3398 - val_accuracy: 0.5758 - val_loss: 1.1698 - learning_rate: 1.0000e-05\n",
            "Epoch 11/30\n",
            "\u001b[1m206/206\u001b[0m \u001b[32m━━━━━━━━━━━━━━━━━━━━\u001b[0m\u001b[37m\u001b[0m \u001b[1m23s\u001b[0m 111ms/step - accuracy: 0.4937 - loss: 1.3454 - val_accuracy: 0.5794 - val_loss: 1.1560 - learning_rate: 1.0000e-05\n",
            "Epoch 12/30\n",
            "\u001b[1m206/206\u001b[0m \u001b[32m━━━━━━━━━━━━━━━━━━━━\u001b[0m\u001b[37m\u001b[0m \u001b[1m23s\u001b[0m 114ms/step - accuracy: 0.5026 - loss: 1.3125 - val_accuracy: 0.5800 - val_loss: 1.1437 - learning_rate: 1.0000e-05\n",
            "Epoch 13/30\n",
            "\u001b[1m206/206\u001b[0m \u001b[32m━━━━━━━━━━━━━━━━━━━━\u001b[0m\u001b[37m\u001b[0m \u001b[1m23s\u001b[0m 111ms/step - accuracy: 0.5207 - loss: 1.2796 - val_accuracy: 0.5788 - val_loss: 1.1287 - learning_rate: 1.0000e-05\n",
            "Epoch 14/30\n",
            "\u001b[1m206/206\u001b[0m \u001b[32m━━━━━━━━━━━━━━━━━━━━\u001b[0m\u001b[37m\u001b[0m \u001b[1m23s\u001b[0m 112ms/step - accuracy: 0.5236 - loss: 1.2633 - val_accuracy: 0.5825 - val_loss: 1.1157 - learning_rate: 1.0000e-05\n",
            "Epoch 15/30\n",
            "\u001b[1m206/206\u001b[0m \u001b[32m━━━━━━━━━━━━━━━━━━━━\u001b[0m\u001b[37m\u001b[0m \u001b[1m24s\u001b[0m 115ms/step - accuracy: 0.5328 - loss: 1.2342 - val_accuracy: 0.5892 - val_loss: 1.1033 - learning_rate: 1.0000e-05\n",
            "Epoch 16/30\n",
            "\u001b[1m206/206\u001b[0m \u001b[32m━━━━━━━━━━━━━━━━━━━━\u001b[0m\u001b[37m\u001b[0m \u001b[1m23s\u001b[0m 112ms/step - accuracy: 0.5226 - loss: 1.2506 - val_accuracy: 0.5940 - val_loss: 1.0937 - learning_rate: 1.0000e-05\n",
            "Epoch 17/30\n",
            "\u001b[1m206/206\u001b[0m \u001b[32m━━━━━━━━━━━━━━━━━━━━\u001b[0m\u001b[37m\u001b[0m \u001b[1m23s\u001b[0m 113ms/step - accuracy: 0.5569 - loss: 1.2002 - val_accuracy: 0.5983 - val_loss: 1.0872 - learning_rate: 1.0000e-05\n",
            "Epoch 18/30\n",
            "\u001b[1m206/206\u001b[0m \u001b[32m━━━━━━━━━━━━━━━━━━━━\u001b[0m\u001b[37m\u001b[0m \u001b[1m23s\u001b[0m 111ms/step - accuracy: 0.5542 - loss: 1.1903 - val_accuracy: 0.6038 - val_loss: 1.0708 - learning_rate: 1.0000e-05\n",
            "Epoch 19/30\n",
            "\u001b[1m206/206\u001b[0m \u001b[32m━━━━━━━━━━━━━━━━━━━━\u001b[0m\u001b[37m\u001b[0m \u001b[1m23s\u001b[0m 112ms/step - accuracy: 0.5635 - loss: 1.1805 - val_accuracy: 0.6056 - val_loss: 1.0592 - learning_rate: 1.0000e-05\n",
            "Epoch 20/30\n",
            "\u001b[1m206/206\u001b[0m \u001b[32m━━━━━━━━━━━━━━━━━━━━\u001b[0m\u001b[37m\u001b[0m \u001b[1m23s\u001b[0m 112ms/step - accuracy: 0.5705 - loss: 1.1646 - val_accuracy: 0.6086 - val_loss: 1.0502 - learning_rate: 1.0000e-05\n",
            "Epoch 21/30\n",
            "\u001b[1m206/206\u001b[0m \u001b[32m━━━━━━━━━━━━━━━━━━━━\u001b[0m\u001b[37m\u001b[0m \u001b[1m23s\u001b[0m 111ms/step - accuracy: 0.5732 - loss: 1.1541 - val_accuracy: 0.6159 - val_loss: 1.0403 - learning_rate: 1.0000e-05\n",
            "Epoch 22/30\n",
            "\u001b[1m206/206\u001b[0m \u001b[32m━━━━━━━━━━━━━━━━━━━━\u001b[0m\u001b[37m\u001b[0m \u001b[1m23s\u001b[0m 113ms/step - accuracy: 0.5930 - loss: 1.1043 - val_accuracy: 0.6196 - val_loss: 1.0258 - learning_rate: 1.0000e-05\n",
            "Epoch 23/30\n",
            "\u001b[1m206/206\u001b[0m \u001b[32m━━━━━━━━━━━━━━━━━━━━\u001b[0m\u001b[37m\u001b[0m \u001b[1m23s\u001b[0m 110ms/step - accuracy: 0.5798 - loss: 1.1055 - val_accuracy: 0.6147 - val_loss: 1.0243 - learning_rate: 1.0000e-05\n",
            "Epoch 24/30\n",
            "\u001b[1m206/206\u001b[0m \u001b[32m━━━━━━━━━━━━━━━━━━━━\u001b[0m\u001b[37m\u001b[0m \u001b[1m23s\u001b[0m 112ms/step - accuracy: 0.5884 - loss: 1.1055 - val_accuracy: 0.6190 - val_loss: 1.0174 - learning_rate: 1.0000e-05\n",
            "Epoch 25/30\n",
            "\u001b[1m206/206\u001b[0m \u001b[32m━━━━━━━━━━━━━━━━━━━━\u001b[0m\u001b[37m\u001b[0m \u001b[1m23s\u001b[0m 112ms/step - accuracy: 0.5928 - loss: 1.0909 - val_accuracy: 0.6220 - val_loss: 1.0135 - learning_rate: 1.0000e-05\n",
            "Epoch 26/30\n",
            "\u001b[1m206/206\u001b[0m \u001b[32m━━━━━━━━━━━━━━━━━━━━\u001b[0m\u001b[37m\u001b[0m \u001b[1m23s\u001b[0m 110ms/step - accuracy: 0.6022 - loss: 1.0819 - val_accuracy: 0.6208 - val_loss: 1.0082 - learning_rate: 1.0000e-05\n",
            "Epoch 27/30\n",
            "\u001b[1m206/206\u001b[0m \u001b[32m━━━━━━━━━━━━━━━━━━━━\u001b[0m\u001b[37m\u001b[0m \u001b[1m23s\u001b[0m 113ms/step - accuracy: 0.6101 - loss: 1.0700 - val_accuracy: 0.6275 - val_loss: 0.9972 - learning_rate: 1.0000e-05\n",
            "Epoch 28/30\n",
            "\u001b[1m206/206\u001b[0m \u001b[32m━━━━━━━━━━━━━━━━━━━━\u001b[0m\u001b[37m\u001b[0m \u001b[1m23s\u001b[0m 114ms/step - accuracy: 0.6079 - loss: 1.0524 - val_accuracy: 0.6293 - val_loss: 0.9929 - learning_rate: 1.0000e-05\n",
            "Epoch 29/30\n",
            "\u001b[1m206/206\u001b[0m \u001b[32m━━━━━━━━━━━━━━━━━━━━\u001b[0m\u001b[37m\u001b[0m \u001b[1m23s\u001b[0m 112ms/step - accuracy: 0.6164 - loss: 1.0421 - val_accuracy: 0.6251 - val_loss: 0.9971 - learning_rate: 1.0000e-05\n",
            "Epoch 30/30\n",
            "\u001b[1m206/206\u001b[0m \u001b[32m━━━━━━━━━━━━━━━━━━━━\u001b[0m\u001b[37m\u001b[0m \u001b[1m23s\u001b[0m 111ms/step - accuracy: 0.6123 - loss: 1.0559 - val_accuracy: 0.6336 - val_loss: 0.9816 - learning_rate: 1.0000e-05\n"
          ]
        }
      ]
    },
    {
      "cell_type": "code",
      "source": [
        "# Desempeño del Modelo\n",
        "exactitud_pre = historial_pre.history['accuracy']\n",
        "exactitud_val_pre = historial_pre.history['val_accuracy']\n",
        "\n",
        "perdida_pre = historial_pre.history['loss']\n",
        "perdida_val_pre = historial_pre.history['val_loss']\n",
        "\n",
        "rango_epoca = range(30)\n",
        "\n",
        "# Gráfica de la evolución de entrenamiento y pérdida\n",
        "plt.figure(figsize=(8,8))\n",
        "plt.subplot(1,2,1)\n",
        "plt.plot(rango_epoca,exactitud_pre,label='Exactitud Entrenamiento')\n",
        "plt.plot(rango_epoca,exactitud_val_pre,label='Exactitud Validación')\n",
        "plt.title('Exactitud')\n",
        "\n",
        "plt.subplot(1,2,2)\n",
        "plt.plot(rango_epoca,perdida_pre,label='Perdida Entrenamiento')\n",
        "plt.plot(rango_epoca,perdida_val_pre,label='Perdida Validación')\n",
        "plt.title('Valor de la función de pérdida')\n",
        "\n",
        "plt.show()"
      ],
      "metadata": {
        "colab": {
          "base_uri": "https://localhost:8080/",
          "height": 699
        },
        "id": "Vm-PMzNAyc9N",
        "outputId": "0b87dd4b-1bfb-4c31-e340-32c6c09501ac"
      },
      "execution_count": 56,
      "outputs": [
        {
          "output_type": "display_data",
          "data": {
            "text/plain": [
              "<Figure size 800x800 with 2 Axes>"
            ],
            "image/png": "[encoded data removed]"
          },
          "metadata": {}
        }
      ]
    },
    {
      "cell_type": "markdown",
      "source": [
        "## 5. Modelo con Teachable Machine\n",
        "Para la generación del modelo en Teachable Machine se declararán 6 clases:\n",
        "1. Misil\n",
        "2. Jet\n",
        "3. Helicóptero\n",
        "4. Dron\n",
        "5. Cohete\n",
        "6. Avión\n",
        "\n",
        "Para la creación del modelo se eligirán las primeras 200 imágenes de cada clase.\n",
        "\n",
        "Los hiperparámetros serán los siguientes:\n",
        "\n",
        "- Épocas: 50\n",
        "- Tamaño del lote: 32\n",
        "- Tasa de aprendizaje : 0.001"
      ],
      "metadata": {
        "id": "ein0mUcjThOy"
      }
    },
    {
      "cell_type": "code",
      "source": [
        "from keras import layers, Sequential\n",
        "from PIL import Image, ImageOps\n",
        "import numpy as np\n",
        "\n",
        "# Definiendo ruta\n",
        "ruta_modelo = '/content/drive/MyDrive/Reto/model.savedmodel1'\n",
        "\n",
        "# Cargando modelo\n",
        "modelo_tm = tf.keras.Sequential([\n",
        "    tf.keras.layers.InputLayer(input_shape=(224,224,3)),\n",
        "    tf.keras.layers.TFSMLayer(ruta_modelo,call_endpoint='serving_default')\n",
        "])\n",
        "\n",
        "# Compilando el modelo\n",
        "modelo_tm.compile(\n",
        "    optimizer=tf.keras.optimizers.Adam(learning_rate=0.001),\n",
        "    loss='sparse_categorical_crossentropy',\n",
        "    metrics=['accuracy']\n",
        ")"
      ],
      "metadata": {
        "id": "-lqgJ3Gu4kA7",
        "colab": {
          "base_uri": "https://localhost:8080/"
        },
        "outputId": "1e6dd912-be5c-44b8-e027-ada505ac9496"
      },
      "execution_count": 43,
      "outputs": [
        {
          "output_type": "stream",
          "name": "stderr",
          "text": [
            "/usr/local/lib/python3.12/dist-packages/keras/src/layers/core/input_layer.py:27: UserWarning: Argument `input_shape` is deprecated. Use `shape` instead.\n",
            "  warnings.warn(\n"
          ]
        }
      ]
    },
    {
      "cell_type": "markdown",
      "source": [
        "## 6. Entrena y ajusta las arquitecturas diseñadas"
      ],
      "metadata": {
        "id": "9y86aoKtXNYI"
      }
    },
    {
      "cell_type": "markdown",
      "source": [
        "### 6.1 Primer Modelo"
      ],
      "metadata": {
        "id": "ycH4xh1-XSA0"
      }
    },
    {
      "cell_type": "markdown",
      "source": [
        "### 6.2 Modelo Pre-entrenado"
      ],
      "metadata": {
        "id": "UZ8fXxGlXTtn"
      }
    },
    {
      "cell_type": "markdown",
      "source": [
        "### 6.3 Modelo de Teachable Machine"
      ],
      "metadata": {
        "id": "gdVQehQLXVNk"
      }
    },
    {
      "cell_type": "markdown",
      "source": [
        "## 7. Comparativa de los tres modelos generados en el problema de clasificación"
      ],
      "metadata": {
        "id": "5ZJEG9GWXzNs"
      }
    },
    {
      "cell_type": "markdown",
      "source": [
        "### 7.1 Evaluación del Primer Modelo"
      ],
      "metadata": {
        "id": "xTKL9vGNYQ6X"
      }
    },
    {
      "cell_type": "code",
      "source": [
        "# Pérdida y Exactitud\n",
        "loss_redConv, acc_redConv = redConv.evaluate(conj_prueba)\n",
        "print(f' Pérdida del modelo: {loss_redConv:.4f}')\n",
        "print(f' Exactitud del modelo: {acc_redConv:.4f}')"
      ],
      "metadata": {
        "colab": {
          "base_uri": "https://localhost:8080/"
        },
        "id": "Lx5Rm9WmYTNu",
        "outputId": "ad9b2b02-3adb-465a-d958-f047b49fa031"
      },
      "execution_count": 57,
      "outputs": [
        {
          "output_type": "stream",
          "name": "stdout",
          "text": [
            "\u001b[1m52/52\u001b[0m \u001b[32m━━━━━━━━━━━━━━━━━━━━\u001b[0m\u001b[37m\u001b[0m \u001b[1m2s\u001b[0m 26ms/step - accuracy: 0.5013 - loss: 1.3530\n",
            " Pérdida del modelo: 1.3245\n",
            " Exactitud del modelo: 0.5155\n"
          ]
        }
      ]
    },
    {
      "cell_type": "markdown",
      "source": [
        "### 7. 2 Evaluación del Modelo Pre-entrenado"
      ],
      "metadata": {
        "id": "_SP_0ABdYT8n"
      }
    },
    {
      "cell_type": "code",
      "source": [
        "loss_pre, acc_pre = modelo_pre.evaluate(conj_prueba)\n",
        "print(f' Pérdida del modelo pre-entrenado: {loss_pre:.4f}')\n",
        "print(f' Exactitud del modelo pre-entrenado: {acc_pre:.4f}')"
      ],
      "metadata": {
        "colab": {
          "base_uri": "https://localhost:8080/"
        },
        "id": "J-MZ36sWYaGl",
        "outputId": "9e6efeb3-e513-4801-e5ac-53445886662c"
      },
      "execution_count": 58,
      "outputs": [
        {
          "output_type": "stream",
          "name": "stdout",
          "text": [
            "\u001b[1m52/52\u001b[0m \u001b[32m━━━━━━━━━━━━━━━━━━━━\u001b[0m\u001b[37m\u001b[0m \u001b[1m3s\u001b[0m 53ms/step - accuracy: 0.6100 - loss: 1.0285\n",
            " Pérdida del modelo pre-entrenado: 0.9816\n",
            " Exactitud del modelo pre-entrenado: 0.6336\n"
          ]
        }
      ]
    },
    {
      "cell_type": "markdown",
      "source": [
        "### 7.3 Evaluación del modelo de Teachable Machine"
      ],
      "metadata": {
        "id": "z886rW3GYa-w"
      }
    },
    {
      "cell_type": "code",
      "source": [
        "# Pérdida y Exactitud\n",
        "loss_tm, acc_tm = modelo_tm.evaluate(conj_prueba)\n",
        "print(f' Pérdida del modelo: {loss_tm:.4f}')\n",
        "print(f' Exactitud del modelo: {acc_tm:.4f}')"
      ],
      "metadata": {
        "id": "fQxee0qdYjLU",
        "colab": {
          "base_uri": "https://localhost:8080/"
        },
        "outputId": "949f53ba-d78f-4bc6-f8ba-e4fb69e38bcc"
      },
      "execution_count": 45,
      "outputs": [
        {
          "output_type": "stream",
          "name": "stdout",
          "text": [
            "\u001b[1m52/52\u001b[0m \u001b[32m━━━━━━━━━━━━━━━━━━━━\u001b[0m\u001b[37m\u001b[0m \u001b[1m25s\u001b[0m 208ms/step - accuracy: 0.1757 - loss: 7.4335\n",
            " Pérdida del modelo: 7.3526\n",
            " Exactitud del modelo: 0.1808\n"
          ]
        }
      ]
    },
    {
      "cell_type": "markdown",
      "source": [
        "### 7.4 Comparación de los tres modelos"
      ],
      "metadata": {
        "id": "pm3x5Z28Y3aI"
      }
    },
    {
      "cell_type": "code",
      "source": [
        "exactitudes = [acc_redConv,acc_pre,acc_tm]\n",
        "perdidas = [loss_redConv,loss_pre,loss_tm]\n",
        "modelos = ['Red Convolucional','Modelo Pre-entrenado','Modelo Teachable Machine']\n",
        "plt.figure(figsize=(8,8))\n",
        "\n",
        "# Precicisón\n",
        "plt.subplot(1,2,1)\n",
        "plt.bar(modelos,exactitudes)\n",
        "plt.xlabel('Modelos')\n",
        "plt.ylabel('Exactitud')\n",
        "plt.title('Comparativa de desempeño de los modelos')\n",
        "\n",
        "plt.subplot(1,2,2)\n",
        "plt.bar(modelos,perdidas)\n",
        "plt.xlabel('Modelos')\n",
        "plt.ylabel('Pérdidas')\n",
        "plt.title('Comparativa de las pérdidas de los modelos')\n",
        "plt.show()\n"
      ],
      "metadata": {
        "colab": {
          "base_uri": "https://localhost:8080/",
          "height": 719
        },
        "id": "vOYN0O3cY7hH",
        "outputId": "87687b46-ca26-4b4b-97e3-ef1b3d0047b5"
      },
      "execution_count": 59,
      "outputs": [
        {
          "output_type": "display_data",
          "data": {
            "text/plain": [
              "<Figure size 800x800 with 2 Axes>"
            ],
            "image/png": "[encoded data removed]"
          },
          "metadata": {}
        }
      ]
    },
    {
      "cell_type": "markdown",
      "source": [
        "## 8. Selección del mejor modelo"
      ],
      "metadata": {
        "id": "6zNBSAQVX6UD"
      }
    },
    {
      "cell_type": "markdown",
      "source": [
        "## 9. Modelos exportados"
      ],
      "metadata": {
        "id": "M0tUVIvuYDcX"
      }
    },
    {
      "cell_type": "markdown",
      "source": [
        "### 9.1 Primer Modelo"
      ],
      "metadata": {
        "id": "2z7RpMB-f27T"
      }
    },
    {
      "cell_type": "code",
      "source": [
        "# Guardar modelo\n",
        "redConv.save('/content/drive/MyDrive/Reto/modelo_redConv.keras')\n",
        "\n",
        "# Cargar modelo\n",
        "modelo_redConv = tf.keras.models.load_model(\n",
        "    '/content/drive/MyDrive/Reto/modelo_redConv.keras')"
      ],
      "metadata": {
        "id": "BenP8lvhgrZy"
      },
      "execution_count": 60,
      "outputs": []
    },
    {
      "cell_type": "markdown",
      "source": [
        "### 9.2 Modelo pre-entrenado"
      ],
      "metadata": {
        "id": "pw2EOpSWf5WK"
      }
    },
    {
      "cell_type": "code",
      "source": [
        "# Guardar modelo\n",
        "modelo_pre.save('/content/drive/MyDrive/Reto/modelo_pre.keras')\n",
        "\n",
        "# Cargar modelo\n",
        "modelo_prentrenado = tf.keras.models.load_model(\n",
        "    '/content/drive/MyDrive/Reto/modelo_pre.keras')"
      ],
      "metadata": {
        "id": "fnThx1XJ3r3X"
      },
      "execution_count": 61,
      "outputs": []
    },
    {
      "cell_type": "markdown",
      "source": [
        "### 9.3 Modelo de Teachable Machine"
      ],
      "metadata": {
        "id": "YI1JA9yKf75p"
      }
    },
    {
      "cell_type": "code",
      "source": [
        "# Cargar modelo\n",
        "modelo_tm.save('/content/drive/MyDrive/Reto/modelo_TM.keras')\n",
        "\n",
        "# Cargar modelo\n",
        "modelo_TM = tf.keras.models.load_model(\n",
        "    '/content/drive/MyDrive/Reto/modelo_TM.keras')"
      ],
      "metadata": {
        "id": "MayNWn_f4Ide",
        "colab": {
          "base_uri": "https://localhost:8080/"
        },
        "outputId": "07401ffc-21af-46a0-c171-e72ebbee22f9"
      },
      "execution_count": 62,
      "outputs": [
        {
          "output_type": "stream",
          "name": "stderr",
          "text": [
            "/usr/local/lib/python3.12/dist-packages/keras/src/saving/saving_lib.py:802: UserWarning: Skipping variable loading for optimizer 'adam', because it has 320 variables whereas the saved optimizer has 2 variables. \n",
            "  saveable.load_own_variables(weights_store.get(inner_path))\n"
          ]
        }
      ]
    }
  ]
}