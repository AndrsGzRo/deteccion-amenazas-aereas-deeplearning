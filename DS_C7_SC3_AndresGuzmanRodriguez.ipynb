{
  "nbformat": 4,
  "nbformat_minor": 0,
  "metadata": {
    "colab": {
      "provenance": [],
      "gpuType": "T4",
      "mount_file_id": "1dusGY121rBp6_5IwXqcgvAGKmwLuvYcf",
      "authorship_tag": "ABX9TyODK9M67FK7osPfM6M/hAas"
    },
    "kernelspec": {
      "name": "python3",
      "display_name": "Python 3"
    },
    "language_info": {
      "name": "python"
    },
    "accelerator": "GPU"
  },
  "cells": [
    {
      "cell_type": "markdown",
      "source": [
        "# Reto | Generación de un modelo inteligente de clasificación con redes neuronales profundas para la detección de amenazas aéreas\n",
        "\n",
        "**Objetivos**:\n",
        "El objetivo de este reto es poner en práctica los contenidos revisados durante el módulo realizando los siguientes pasos:\n",
        "\n",
        "- Preparar una base de datos y generar los conjuntos de entrenamiento y prueba.\n",
        "- Diseñar un modelo utilizando una red neuronal convolucional desde cero y determinar sus hiperparámetros.\n",
        "- Diseñar un modelo utilizando una red neuronal convolucional utilizando un modelo pre-entrenado.\n",
        "- Generar un modelo utilizando la herramienta Teachable Machine.\n",
        "- Validar, evaluar y comparar los tres diferentes modelos generados y seleccionar el mejor considerando la exactitud como indicador de desempeño.\n",
        "- Exportar los modelos generados para poder utilizarlos dentro de Colab o algún otro sitio.\n",
        "\n",
        "## 1. Preprocesamiento de la base de datos"
      ],
      "metadata": {
        "id": "KE7hkN0_6SjT"
      }
    },
    {
      "cell_type": "code",
      "source": [
        "# Montando Google Drive\n",
        "from google.colab import drive\n",
        "drive.mount('/content/drive')"
      ],
      "metadata": {
        "colab": {
          "base_uri": "https://localhost:8080/"
        },
        "outputId": "b3fcff4b-3f36-4898-95fd-c6a14a1c499b",
        "id": "2uJltFOL9dda"
      },
      "execution_count": 1,
      "outputs": [
        {
          "output_type": "stream",
          "name": "stdout",
          "text": [
            "Drive already mounted at /content/drive; to attempt to forcibly remount, call drive.mount(\"/content/drive\", force_remount=True).\n"
          ]
        }
      ]
    },
    {
      "cell_type": "code",
      "source": [
        "# Bibliotecas\n",
        "import numpy as np\n",
        "import matplotlib.pyplot as plt\n",
        "import tensorflow as tf\n",
        "import PIL\n",
        "import pathlib\n",
        "import os\n",
        "import seaborn as sns\n",
        "from sklearn.metrics import confusion_matrix\n",
        "from sklearn.utils.class_weight import compute_class_weight"
      ],
      "metadata": {
        "id": "Dn8zsXpO-7fH"
      },
      "execution_count": 2,
      "outputs": []
    },
    {
      "cell_type": "code",
      "source": [
        "# Eliminando cualquiero archivo que no sea JPG, JPEG, PNG\n",
        "!find /content/drive/MyDrive/Reto/datos/objetos -type f ! -name \"*.jpg\" ! -name \"*.jpeg\" ! -name \"*.png\" -delete\n"
      ],
      "metadata": {
        "id": "JvD6GzWPGUZ_"
      },
      "execution_count": 3,
      "outputs": []
    },
    {
      "cell_type": "code",
      "source": [
        "# Directorio base\n",
        "dir_base = '/content/drive/MyDrive/Reto/datos/objetos'\n",
        "dir_base = pathlib.Path(dir_base)\n",
        "conteo_img = len(list(dir_base.glob('*/*')))\n",
        "print('El total de imágenes es de:',conteo_img)\n"
      ],
      "metadata": {
        "colab": {
          "base_uri": "https://localhost:8080/"
        },
        "id": "LJzL1gfaAQGN",
        "outputId": "ef41d8e3-6151-4305-ce5c-e2f9ce835eca"
      },
      "execution_count": 4,
      "outputs": [
        {
          "output_type": "stream",
          "name": "stdout",
          "text": [
            "El total de imágenes es de: 8218\n"
          ]
        }
      ]
    },
    {
      "cell_type": "code",
      "source": [
        "# Correr si hay error al momento de entrenar el primer modelo\n",
        "# for img_path in dir_base.rglob('*.[jp][pn]g'):\n",
        "#     try:\n",
        "#         img = tf.io.read_file(str(img_path))\n",
        "#         img = tf.image.decode_image(img,channels=3)\n",
        "#     except:\n",
        "#         print('Error al decodificar:',img_path)\n",
        "#         os.remove(img_path)"
      ],
      "metadata": {
        "id": "YQRJfFJlQf9Q"
      },
      "execution_count": null,
      "outputs": []
    },
    {
      "cell_type": "code",
      "source": [
        "# Imágenes por clase\n",
        "dir_base = '/content/drive/MyDrive/Reto/datos/objetos'\n",
        "class_names = sorted(os.listdir(dir_base))\n",
        "\n",
        "counts = {name: len(os.listdir(os.path.join(dir_base,name))) for name in class_names}\n",
        "for clase,num in counts.items():\n",
        "  print(f'La clase {clase} tiene {num} imágenes')"
      ],
      "metadata": {
        "colab": {
          "base_uri": "https://localhost:8080/"
        },
        "id": "-_nw2-QWGW-W",
        "outputId": "4f37630a-8bb9-46ce-ec00-5bfd9b3dfe63"
      },
      "execution_count": 5,
      "outputs": [
        {
          "output_type": "stream",
          "name": "stdout",
          "text": [
            "La clase avion tiene 1397 imágenes\n",
            "La clase cohete tiene 1136 imágenes\n",
            "La clase dron tiene 1290 imágenes\n",
            "La clase helicoptero tiene 1328 imágenes\n",
            "La clase jet tiene 1801 imágenes\n",
            "La clase misil tiene 1266 imágenes\n"
          ]
        }
      ]
    },
    {
      "cell_type": "code",
      "source": [
        "# Peso de las clases para balancear\n",
        "total_muestras = 8218\n",
        "class_weights = {\n",
        "    0 : total_muestras / (6*counts['avion']), # Avion\n",
        "    1 : total_muestras / (6*counts['cohete']), # Cohete\n",
        "    2 : total_muestras / (6*counts['dron']), # Dron\n",
        "    3 : total_muestras / (6*counts['helicoptero']), # Helicoptero\n",
        "    4 : total_muestras / (6*counts['jet']), # Jet\n",
        "    5 : total_muestras / (6*counts['misil']) # Misil\n",
        "}\n",
        "\n",
        "for clase, peso in class_weights.items():\n",
        "  print(f'La clase {clase} tiene un peso de {peso:.4f}')"
      ],
      "metadata": {
        "id": "Mn2p2QJE1ddR",
        "colab": {
          "base_uri": "https://localhost:8080/"
        },
        "outputId": "2a792c12-c01c-493b-ca33-ad407cd2ddde"
      },
      "execution_count": 6,
      "outputs": [
        {
          "output_type": "stream",
          "name": "stdout",
          "text": [
            "La clase 0 tiene un peso de 0.9804\n",
            "La clase 1 tiene un peso de 1.2057\n",
            "La clase 2 tiene un peso de 1.0618\n",
            "La clase 3 tiene un peso de 1.0314\n",
            "La clase 4 tiene un peso de 0.7605\n",
            "La clase 5 tiene un peso de 1.0819\n"
          ]
        }
      ]
    },
    {
      "cell_type": "markdown",
      "source": [
        "## 2. Generación de conjuntos de entrenamiento, prueba y aumentación de datos"
      ],
      "metadata": {
        "id": "vNRUXeGWIQ8D"
      }
    },
    {
      "cell_type": "code",
      "source": [
        "# Tamaño de las imágenes y lote\n",
        "alto_img = 128\n",
        "ancho_img = 128\n",
        "tam_lote = 32"
      ],
      "metadata": {
        "id": "6yumER89IUyu"
      },
      "execution_count": 7,
      "outputs": []
    },
    {
      "cell_type": "markdown",
      "source": [
        "Para la creación de los conjuntos de entrenamiento y prueba se usará la función:\n",
        "\n",
        "```\n",
        "image_dataset_from_directory\n",
        "```\n",
        "\n"
      ],
      "metadata": {
        "id": "Hi0SgEw2JEbv"
      }
    },
    {
      "cell_type": "code",
      "source": [
        "# Definición del conjunto de entrenamiento\n",
        "conj_entrenamiento = tf.keras.preprocessing.image_dataset_from_directory(\n",
        "    dir_base,\n",
        "    validation_split=0.2,\n",
        "    subset='training',\n",
        "    seed=42,\n",
        "    image_size=(alto_img,ancho_img),\n",
        "    batch_size=tam_lote\n",
        ")\n",
        "\n",
        "# Definición del conjunto de prueba\n",
        "conj_prueba = tf.keras.preprocessing.image_dataset_from_directory(\n",
        "    dir_base,\n",
        "    validation_split=0.2,\n",
        "    subset='validation',\n",
        "    seed=42,\n",
        "    image_size=(alto_img,ancho_img),\n",
        "    batch_size=tam_lote\n",
        ")\n",
        "# Prefetch y Cache\n",
        "conj_entrenamiento = conj_entrenamiento.cache().shuffle(1000).prefetch(\n",
        "    buffer_size=tf.data.AUTOTUNE)\n",
        "conj_prueba = conj_prueba.cache().prefetch(buffer_size=tf.data.AUTOTUNE)\n"
      ],
      "metadata": {
        "colab": {
          "base_uri": "https://localhost:8080/"
        },
        "id": "veYG-LekJe6P",
        "outputId": "9c3b57cd-cc0c-4a5c-bd39-5b0366798f65"
      },
      "execution_count": 9,
      "outputs": [
        {
          "output_type": "stream",
          "name": "stdout",
          "text": [
            "Found 8218 files belonging to 6 classes.\n",
            "Using 6575 files for training.\n",
            "Found 8218 files belonging to 6 classes.\n",
            "Using 1643 files for validation.\n"
          ]
        }
      ]
    },
    {
      "cell_type": "markdown",
      "source": [
        "## 3. Diseña una arquitectura de una red neuronal convolucional profunda desde cero para resolver el problema de clasificación\n"
      ],
      "metadata": {
        "id": "CDjK72sUMny6"
      }
    },
    {
      "cell_type": "code",
      "source": [
        "from tensorflow.keras import regularizers\n",
        "# Definición del primer modelo\n",
        "redConv = tf.keras.Sequential([\n",
        "    tf.keras.layers.Input(shape=(alto_img,ancho_img,3)),\n",
        "    tf.keras.layers.Rescaling(1/255),\n",
        "\n",
        "    # Data Augmentation\n",
        "    tf.keras.layers.RandomFlip('horizontal'),\n",
        "    tf.keras.layers.RandomRotation(0.08),\n",
        "    tf.keras.layers.RandomZoom(0.08),\n",
        "    tf.keras.layers.RandomContrast(0.08),\n",
        "    tf.keras.layers.RandomTranslation(0.08,0.08),\n",
        "\n",
        "    # Convoluciones\n",
        "    tf.keras.layers.Conv2D(32,(3,3),activation='relu'),\n",
        "    tf.keras.layers.BatchNormalization(),\n",
        "    tf.keras.layers.MaxPooling2D((2,2)),\n",
        "\n",
        "    tf.keras.layers.Conv2D(64,(3,3),activation='relu',padding='same'),\n",
        "    tf.keras.layers.BatchNormalization(),\n",
        "    tf.keras.layers.MaxPooling2D((2,2)),\n",
        "    tf.keras.layers.Dropout(0.25),\n",
        "\n",
        "\n",
        "    tf.keras.layers.Conv2D(128,(3,3),activation='relu',padding='same'),\n",
        "    tf.keras.layers.BatchNormalization(),\n",
        "    tf.keras.layers.MaxPooling2D((2,2)),\n",
        "    tf.keras.layers.Dropout(0.3),\n",
        "\n",
        "    tf.keras.layers.Conv2D(256,(3,3),activation='relu',padding='same'),\n",
        "    tf.keras.layers.BatchNormalization(),\n",
        "    tf.keras.layers.MaxPooling2D((2,2)),\n",
        "    tf.keras.layers.Dropout(0.35),\n",
        "\n",
        "    tf.keras.layers.GlobalAveragePooling2D(),\n",
        "\n",
        "    tf.keras.layers.Dense(256,activation='relu',\n",
        "                          kernel_regularizer=regularizers.l2(1e-4)),\n",
        "    tf.keras.layers.Dropout(0.4),\n",
        "    tf.keras.layers.Dense(128,activation='relu',\n",
        "                          kernel_regularizer=regularizers.l2(1e-4)),\n",
        "    tf.keras.layers.Dropout(0.35),\n",
        "    tf.keras.layers.Dense(6,activation='softmax')\n",
        "])\n",
        "redConv.summary()\n"
      ],
      "metadata": {
        "colab": {
          "base_uri": "https://localhost:8080/",
          "height": 1000
        },
        "id": "GURP1uEFNTVl",
        "outputId": "8dbd10f7-f39f-4bf7-c595-c1fcc2a6356f"
      },
      "execution_count": null,
      "outputs": [
        {
          "output_type": "display_data",
          "data": {
            "text/plain": [
              "\u001b[1mModel: \"sequential_5\"\u001b[0m\n"
            ],
            "text/html": [
              "<pre style=\"white-space:pre;overflow-x:auto;line-height:normal;font-family:Menlo,'DejaVu Sans Mono',consolas,'Courier New',monospace\"><span style=\"font-weight: bold\">Model: \"sequential_5\"</span>\n",
              "</pre>\n"
            ]
          },
          "metadata": {}
        },
        {
          "output_type": "display_data",
          "data": {
            "text/plain": [
              "┏━━━━━━━━━━━━━━━━━━━━━━━━━━━━━━━━━┳━━━━━━━━━━━━━━━━━━━━━━━━┳━━━━━━━━━━━━━━━┓\n",
              "┃\u001b[1m \u001b[0m\u001b[1mLayer (type)                   \u001b[0m\u001b[1m \u001b[0m┃\u001b[1m \u001b[0m\u001b[1mOutput Shape          \u001b[0m\u001b[1m \u001b[0m┃\u001b[1m \u001b[0m\u001b[1m      Param #\u001b[0m\u001b[1m \u001b[0m┃\n",
              "┡━━━━━━━━━━━━━━━━━━━━━━━━━━━━━━━━━╇━━━━━━━━━━━━━━━━━━━━━━━━╇━━━━━━━━━━━━━━━┩\n",
              "│ rescaling_6 (\u001b[38;5;33mRescaling\u001b[0m)         │ (\u001b[38;5;45mNone\u001b[0m, \u001b[38;5;34m128\u001b[0m, \u001b[38;5;34m128\u001b[0m, \u001b[38;5;34m3\u001b[0m)    │             \u001b[38;5;34m0\u001b[0m │\n",
              "├─────────────────────────────────┼────────────────────────┼───────────────┤\n",
              "│ random_flip_5 (\u001b[38;5;33mRandomFlip\u001b[0m)      │ (\u001b[38;5;45mNone\u001b[0m, \u001b[38;5;34m128\u001b[0m, \u001b[38;5;34m128\u001b[0m, \u001b[38;5;34m3\u001b[0m)    │             \u001b[38;5;34m0\u001b[0m │\n",
              "├─────────────────────────────────┼────────────────────────┼───────────────┤\n",
              "│ random_rotation_5               │ (\u001b[38;5;45mNone\u001b[0m, \u001b[38;5;34m128\u001b[0m, \u001b[38;5;34m128\u001b[0m, \u001b[38;5;34m3\u001b[0m)    │             \u001b[38;5;34m0\u001b[0m │\n",
              "│ (\u001b[38;5;33mRandomRotation\u001b[0m)                │                        │               │\n",
              "├─────────────────────────────────┼────────────────────────┼───────────────┤\n",
              "│ random_zoom_5 (\u001b[38;5;33mRandomZoom\u001b[0m)      │ (\u001b[38;5;45mNone\u001b[0m, \u001b[38;5;34m128\u001b[0m, \u001b[38;5;34m128\u001b[0m, \u001b[38;5;34m3\u001b[0m)    │             \u001b[38;5;34m0\u001b[0m │\n",
              "├─────────────────────────────────┼────────────────────────┼───────────────┤\n",
              "│ random_contrast_5               │ (\u001b[38;5;45mNone\u001b[0m, \u001b[38;5;34m128\u001b[0m, \u001b[38;5;34m128\u001b[0m, \u001b[38;5;34m3\u001b[0m)    │             \u001b[38;5;34m0\u001b[0m │\n",
              "│ (\u001b[38;5;33mRandomContrast\u001b[0m)                │                        │               │\n",
              "├─────────────────────────────────┼────────────────────────┼───────────────┤\n",
              "│ conv2d_18 (\u001b[38;5;33mConv2D\u001b[0m)              │ (\u001b[38;5;45mNone\u001b[0m, \u001b[38;5;34m126\u001b[0m, \u001b[38;5;34m126\u001b[0m, \u001b[38;5;34m32\u001b[0m)   │           \u001b[38;5;34m896\u001b[0m │\n",
              "├─────────────────────────────────┼────────────────────────┼───────────────┤\n",
              "│ batch_normalization_21          │ (\u001b[38;5;45mNone\u001b[0m, \u001b[38;5;34m126\u001b[0m, \u001b[38;5;34m126\u001b[0m, \u001b[38;5;34m32\u001b[0m)   │           \u001b[38;5;34m128\u001b[0m │\n",
              "│ (\u001b[38;5;33mBatchNormalization\u001b[0m)            │                        │               │\n",
              "├─────────────────────────────────┼────────────────────────┼───────────────┤\n",
              "│ max_pooling2d_12 (\u001b[38;5;33mMaxPooling2D\u001b[0m) │ (\u001b[38;5;45mNone\u001b[0m, \u001b[38;5;34m63\u001b[0m, \u001b[38;5;34m63\u001b[0m, \u001b[38;5;34m32\u001b[0m)     │             \u001b[38;5;34m0\u001b[0m │\n",
              "├─────────────────────────────────┼────────────────────────┼───────────────┤\n",
              "│ conv2d_19 (\u001b[38;5;33mConv2D\u001b[0m)              │ (\u001b[38;5;45mNone\u001b[0m, \u001b[38;5;34m63\u001b[0m, \u001b[38;5;34m63\u001b[0m, \u001b[38;5;34m64\u001b[0m)     │        \u001b[38;5;34m18,496\u001b[0m │\n",
              "├─────────────────────────────────┼────────────────────────┼───────────────┤\n",
              "│ batch_normalization_22          │ (\u001b[38;5;45mNone\u001b[0m, \u001b[38;5;34m63\u001b[0m, \u001b[38;5;34m63\u001b[0m, \u001b[38;5;34m64\u001b[0m)     │           \u001b[38;5;34m256\u001b[0m │\n",
              "│ (\u001b[38;5;33mBatchNormalization\u001b[0m)            │                        │               │\n",
              "├─────────────────────────────────┼────────────────────────┼───────────────┤\n",
              "│ max_pooling2d_13 (\u001b[38;5;33mMaxPooling2D\u001b[0m) │ (\u001b[38;5;45mNone\u001b[0m, \u001b[38;5;34m31\u001b[0m, \u001b[38;5;34m31\u001b[0m, \u001b[38;5;34m64\u001b[0m)     │             \u001b[38;5;34m0\u001b[0m │\n",
              "├─────────────────────────────────┼────────────────────────┼───────────────┤\n",
              "│ dropout_19 (\u001b[38;5;33mDropout\u001b[0m)            │ (\u001b[38;5;45mNone\u001b[0m, \u001b[38;5;34m31\u001b[0m, \u001b[38;5;34m31\u001b[0m, \u001b[38;5;34m64\u001b[0m)     │             \u001b[38;5;34m0\u001b[0m │\n",
              "├─────────────────────────────────┼────────────────────────┼───────────────┤\n",
              "│ conv2d_20 (\u001b[38;5;33mConv2D\u001b[0m)              │ (\u001b[38;5;45mNone\u001b[0m, \u001b[38;5;34m31\u001b[0m, \u001b[38;5;34m31\u001b[0m, \u001b[38;5;34m128\u001b[0m)    │        \u001b[38;5;34m73,856\u001b[0m │\n",
              "├─────────────────────────────────┼────────────────────────┼───────────────┤\n",
              "│ batch_normalization_23          │ (\u001b[38;5;45mNone\u001b[0m, \u001b[38;5;34m31\u001b[0m, \u001b[38;5;34m31\u001b[0m, \u001b[38;5;34m128\u001b[0m)    │           \u001b[38;5;34m512\u001b[0m │\n",
              "│ (\u001b[38;5;33mBatchNormalization\u001b[0m)            │                        │               │\n",
              "├─────────────────────────────────┼────────────────────────┼───────────────┤\n",
              "│ max_pooling2d_14 (\u001b[38;5;33mMaxPooling2D\u001b[0m) │ (\u001b[38;5;45mNone\u001b[0m, \u001b[38;5;34m15\u001b[0m, \u001b[38;5;34m15\u001b[0m, \u001b[38;5;34m128\u001b[0m)    │             \u001b[38;5;34m0\u001b[0m │\n",
              "├─────────────────────────────────┼────────────────────────┼───────────────┤\n",
              "│ dropout_20 (\u001b[38;5;33mDropout\u001b[0m)            │ (\u001b[38;5;45mNone\u001b[0m, \u001b[38;5;34m15\u001b[0m, \u001b[38;5;34m15\u001b[0m, \u001b[38;5;34m128\u001b[0m)    │             \u001b[38;5;34m0\u001b[0m │\n",
              "├─────────────────────────────────┼────────────────────────┼───────────────┤\n",
              "│ conv2d_21 (\u001b[38;5;33mConv2D\u001b[0m)              │ (\u001b[38;5;45mNone\u001b[0m, \u001b[38;5;34m15\u001b[0m, \u001b[38;5;34m15\u001b[0m, \u001b[38;5;34m256\u001b[0m)    │       \u001b[38;5;34m295,168\u001b[0m │\n",
              "├─────────────────────────────────┼────────────────────────┼───────────────┤\n",
              "│ batch_normalization_24          │ (\u001b[38;5;45mNone\u001b[0m, \u001b[38;5;34m15\u001b[0m, \u001b[38;5;34m15\u001b[0m, \u001b[38;5;34m256\u001b[0m)    │         \u001b[38;5;34m1,024\u001b[0m │\n",
              "│ (\u001b[38;5;33mBatchNormalization\u001b[0m)            │                        │               │\n",
              "├─────────────────────────────────┼────────────────────────┼───────────────┤\n",
              "│ max_pooling2d_15 (\u001b[38;5;33mMaxPooling2D\u001b[0m) │ (\u001b[38;5;45mNone\u001b[0m, \u001b[38;5;34m7\u001b[0m, \u001b[38;5;34m7\u001b[0m, \u001b[38;5;34m256\u001b[0m)      │             \u001b[38;5;34m0\u001b[0m │\n",
              "├─────────────────────────────────┼────────────────────────┼───────────────┤\n",
              "│ dropout_21 (\u001b[38;5;33mDropout\u001b[0m)            │ (\u001b[38;5;45mNone\u001b[0m, \u001b[38;5;34m7\u001b[0m, \u001b[38;5;34m7\u001b[0m, \u001b[38;5;34m256\u001b[0m)      │             \u001b[38;5;34m0\u001b[0m │\n",
              "├─────────────────────────────────┼────────────────────────┼───────────────┤\n",
              "│ global_average_pooling2d_6      │ (\u001b[38;5;45mNone\u001b[0m, \u001b[38;5;34m256\u001b[0m)            │             \u001b[38;5;34m0\u001b[0m │\n",
              "│ (\u001b[38;5;33mGlobalAveragePooling2D\u001b[0m)        │                        │               │\n",
              "├─────────────────────────────────┼────────────────────────┼───────────────┤\n",
              "│ dense_15 (\u001b[38;5;33mDense\u001b[0m)                │ (\u001b[38;5;45mNone\u001b[0m, \u001b[38;5;34m256\u001b[0m)            │        \u001b[38;5;34m65,792\u001b[0m │\n",
              "├─────────────────────────────────┼────────────────────────┼───────────────┤\n",
              "│ dropout_22 (\u001b[38;5;33mDropout\u001b[0m)            │ (\u001b[38;5;45mNone\u001b[0m, \u001b[38;5;34m256\u001b[0m)            │             \u001b[38;5;34m0\u001b[0m │\n",
              "├─────────────────────────────────┼────────────────────────┼───────────────┤\n",
              "│ dense_16 (\u001b[38;5;33mDense\u001b[0m)                │ (\u001b[38;5;45mNone\u001b[0m, \u001b[38;5;34m128\u001b[0m)            │        \u001b[38;5;34m32,896\u001b[0m │\n",
              "├─────────────────────────────────┼────────────────────────┼───────────────┤\n",
              "│ dropout_23 (\u001b[38;5;33mDropout\u001b[0m)            │ (\u001b[38;5;45mNone\u001b[0m, \u001b[38;5;34m128\u001b[0m)            │             \u001b[38;5;34m0\u001b[0m │\n",
              "├─────────────────────────────────┼────────────────────────┼───────────────┤\n",
              "│ dense_17 (\u001b[38;5;33mDense\u001b[0m)                │ (\u001b[38;5;45mNone\u001b[0m, \u001b[38;5;34m6\u001b[0m)              │           \u001b[38;5;34m774\u001b[0m │\n",
              "└─────────────────────────────────┴────────────────────────┴───────────────┘\n"
            ],
            "text/html": [
              "<pre style=\"white-space:pre;overflow-x:auto;line-height:normal;font-family:Menlo,'DejaVu Sans Mono',consolas,'Courier New',monospace\">┏━━━━━━━━━━━━━━━━━━━━━━━━━━━━━━━━━┳━━━━━━━━━━━━━━━━━━━━━━━━┳━━━━━━━━━━━━━━━┓\n",
              "┃<span style=\"font-weight: bold\"> Layer (type)                    </span>┃<span style=\"font-weight: bold\"> Output Shape           </span>┃<span style=\"font-weight: bold\">       Param # </span>┃\n",
              "┡━━━━━━━━━━━━━━━━━━━━━━━━━━━━━━━━━╇━━━━━━━━━━━━━━━━━━━━━━━━╇━━━━━━━━━━━━━━━┩\n",
              "│ rescaling_6 (<span style=\"color: #0087ff; text-decoration-color: #0087ff\">Rescaling</span>)         │ (<span style=\"color: #00d7ff; text-decoration-color: #00d7ff\">None</span>, <span style=\"color: #00af00; text-decoration-color: #00af00\">128</span>, <span style=\"color: #00af00; text-decoration-color: #00af00\">128</span>, <span style=\"color: #00af00; text-decoration-color: #00af00\">3</span>)    │             <span style=\"color: #00af00; text-decoration-color: #00af00\">0</span> │\n",
              "├─────────────────────────────────┼────────────────────────┼───────────────┤\n",
              "│ random_flip_5 (<span style=\"color: #0087ff; text-decoration-color: #0087ff\">RandomFlip</span>)      │ (<span style=\"color: #00d7ff; text-decoration-color: #00d7ff\">None</span>, <span style=\"color: #00af00; text-decoration-color: #00af00\">128</span>, <span style=\"color: #00af00; text-decoration-color: #00af00\">128</span>, <span style=\"color: #00af00; text-decoration-color: #00af00\">3</span>)    │             <span style=\"color: #00af00; text-decoration-color: #00af00\">0</span> │\n",
              "├─────────────────────────────────┼────────────────────────┼───────────────┤\n",
              "│ random_rotation_5               │ (<span style=\"color: #00d7ff; text-decoration-color: #00d7ff\">None</span>, <span style=\"color: #00af00; text-decoration-color: #00af00\">128</span>, <span style=\"color: #00af00; text-decoration-color: #00af00\">128</span>, <span style=\"color: #00af00; text-decoration-color: #00af00\">3</span>)    │             <span style=\"color: #00af00; text-decoration-color: #00af00\">0</span> │\n",
              "│ (<span style=\"color: #0087ff; text-decoration-color: #0087ff\">RandomRotation</span>)                │                        │               │\n",
              "├─────────────────────────────────┼────────────────────────┼───────────────┤\n",
              "│ random_zoom_5 (<span style=\"color: #0087ff; text-decoration-color: #0087ff\">RandomZoom</span>)      │ (<span style=\"color: #00d7ff; text-decoration-color: #00d7ff\">None</span>, <span style=\"color: #00af00; text-decoration-color: #00af00\">128</span>, <span style=\"color: #00af00; text-decoration-color: #00af00\">128</span>, <span style=\"color: #00af00; text-decoration-color: #00af00\">3</span>)    │             <span style=\"color: #00af00; text-decoration-color: #00af00\">0</span> │\n",
              "├─────────────────────────────────┼────────────────────────┼───────────────┤\n",
              "│ random_contrast_5               │ (<span style=\"color: #00d7ff; text-decoration-color: #00d7ff\">None</span>, <span style=\"color: #00af00; text-decoration-color: #00af00\">128</span>, <span style=\"color: #00af00; text-decoration-color: #00af00\">128</span>, <span style=\"color: #00af00; text-decoration-color: #00af00\">3</span>)    │             <span style=\"color: #00af00; text-decoration-color: #00af00\">0</span> │\n",
              "│ (<span style=\"color: #0087ff; text-decoration-color: #0087ff\">RandomContrast</span>)                │                        │               │\n",
              "├─────────────────────────────────┼────────────────────────┼───────────────┤\n",
              "│ conv2d_18 (<span style=\"color: #0087ff; text-decoration-color: #0087ff\">Conv2D</span>)              │ (<span style=\"color: #00d7ff; text-decoration-color: #00d7ff\">None</span>, <span style=\"color: #00af00; text-decoration-color: #00af00\">126</span>, <span style=\"color: #00af00; text-decoration-color: #00af00\">126</span>, <span style=\"color: #00af00; text-decoration-color: #00af00\">32</span>)   │           <span style=\"color: #00af00; text-decoration-color: #00af00\">896</span> │\n",
              "├─────────────────────────────────┼────────────────────────┼───────────────┤\n",
              "│ batch_normalization_21          │ (<span style=\"color: #00d7ff; text-decoration-color: #00d7ff\">None</span>, <span style=\"color: #00af00; text-decoration-color: #00af00\">126</span>, <span style=\"color: #00af00; text-decoration-color: #00af00\">126</span>, <span style=\"color: #00af00; text-decoration-color: #00af00\">32</span>)   │           <span style=\"color: #00af00; text-decoration-color: #00af00\">128</span> │\n",
              "│ (<span style=\"color: #0087ff; text-decoration-color: #0087ff\">BatchNormalization</span>)            │                        │               │\n",
              "├─────────────────────────────────┼────────────────────────┼───────────────┤\n",
              "│ max_pooling2d_12 (<span style=\"color: #0087ff; text-decoration-color: #0087ff\">MaxPooling2D</span>) │ (<span style=\"color: #00d7ff; text-decoration-color: #00d7ff\">None</span>, <span style=\"color: #00af00; text-decoration-color: #00af00\">63</span>, <span style=\"color: #00af00; text-decoration-color: #00af00\">63</span>, <span style=\"color: #00af00; text-decoration-color: #00af00\">32</span>)     │             <span style=\"color: #00af00; text-decoration-color: #00af00\">0</span> │\n",
              "├─────────────────────────────────┼────────────────────────┼───────────────┤\n",
              "│ conv2d_19 (<span style=\"color: #0087ff; text-decoration-color: #0087ff\">Conv2D</span>)              │ (<span style=\"color: #00d7ff; text-decoration-color: #00d7ff\">None</span>, <span style=\"color: #00af00; text-decoration-color: #00af00\">63</span>, <span style=\"color: #00af00; text-decoration-color: #00af00\">63</span>, <span style=\"color: #00af00; text-decoration-color: #00af00\">64</span>)     │        <span style=\"color: #00af00; text-decoration-color: #00af00\">18,496</span> │\n",
              "├─────────────────────────────────┼────────────────────────┼───────────────┤\n",
              "│ batch_normalization_22          │ (<span style=\"color: #00d7ff; text-decoration-color: #00d7ff\">None</span>, <span style=\"color: #00af00; text-decoration-color: #00af00\">63</span>, <span style=\"color: #00af00; text-decoration-color: #00af00\">63</span>, <span style=\"color: #00af00; text-decoration-color: #00af00\">64</span>)     │           <span style=\"color: #00af00; text-decoration-color: #00af00\">256</span> │\n",
              "│ (<span style=\"color: #0087ff; text-decoration-color: #0087ff\">BatchNormalization</span>)            │                        │               │\n",
              "├─────────────────────────────────┼────────────────────────┼───────────────┤\n",
              "│ max_pooling2d_13 (<span style=\"color: #0087ff; text-decoration-color: #0087ff\">MaxPooling2D</span>) │ (<span style=\"color: #00d7ff; text-decoration-color: #00d7ff\">None</span>, <span style=\"color: #00af00; text-decoration-color: #00af00\">31</span>, <span style=\"color: #00af00; text-decoration-color: #00af00\">31</span>, <span style=\"color: #00af00; text-decoration-color: #00af00\">64</span>)     │             <span style=\"color: #00af00; text-decoration-color: #00af00\">0</span> │\n",
              "├─────────────────────────────────┼────────────────────────┼───────────────┤\n",
              "│ dropout_19 (<span style=\"color: #0087ff; text-decoration-color: #0087ff\">Dropout</span>)            │ (<span style=\"color: #00d7ff; text-decoration-color: #00d7ff\">None</span>, <span style=\"color: #00af00; text-decoration-color: #00af00\">31</span>, <span style=\"color: #00af00; text-decoration-color: #00af00\">31</span>, <span style=\"color: #00af00; text-decoration-color: #00af00\">64</span>)     │             <span style=\"color: #00af00; text-decoration-color: #00af00\">0</span> │\n",
              "├─────────────────────────────────┼────────────────────────┼───────────────┤\n",
              "│ conv2d_20 (<span style=\"color: #0087ff; text-decoration-color: #0087ff\">Conv2D</span>)              │ (<span style=\"color: #00d7ff; text-decoration-color: #00d7ff\">None</span>, <span style=\"color: #00af00; text-decoration-color: #00af00\">31</span>, <span style=\"color: #00af00; text-decoration-color: #00af00\">31</span>, <span style=\"color: #00af00; text-decoration-color: #00af00\">128</span>)    │        <span style=\"color: #00af00; text-decoration-color: #00af00\">73,856</span> │\n",
              "├─────────────────────────────────┼────────────────────────┼───────────────┤\n",
              "│ batch_normalization_23          │ (<span style=\"color: #00d7ff; text-decoration-color: #00d7ff\">None</span>, <span style=\"color: #00af00; text-decoration-color: #00af00\">31</span>, <span style=\"color: #00af00; text-decoration-color: #00af00\">31</span>, <span style=\"color: #00af00; text-decoration-color: #00af00\">128</span>)    │           <span style=\"color: #00af00; text-decoration-color: #00af00\">512</span> │\n",
              "│ (<span style=\"color: #0087ff; text-decoration-color: #0087ff\">BatchNormalization</span>)            │                        │               │\n",
              "├─────────────────────────────────┼────────────────────────┼───────────────┤\n",
              "│ max_pooling2d_14 (<span style=\"color: #0087ff; text-decoration-color: #0087ff\">MaxPooling2D</span>) │ (<span style=\"color: #00d7ff; text-decoration-color: #00d7ff\">None</span>, <span style=\"color: #00af00; text-decoration-color: #00af00\">15</span>, <span style=\"color: #00af00; text-decoration-color: #00af00\">15</span>, <span style=\"color: #00af00; text-decoration-color: #00af00\">128</span>)    │             <span style=\"color: #00af00; text-decoration-color: #00af00\">0</span> │\n",
              "├─────────────────────────────────┼────────────────────────┼───────────────┤\n",
              "│ dropout_20 (<span style=\"color: #0087ff; text-decoration-color: #0087ff\">Dropout</span>)            │ (<span style=\"color: #00d7ff; text-decoration-color: #00d7ff\">None</span>, <span style=\"color: #00af00; text-decoration-color: #00af00\">15</span>, <span style=\"color: #00af00; text-decoration-color: #00af00\">15</span>, <span style=\"color: #00af00; text-decoration-color: #00af00\">128</span>)    │             <span style=\"color: #00af00; text-decoration-color: #00af00\">0</span> │\n",
              "├─────────────────────────────────┼────────────────────────┼───────────────┤\n",
              "│ conv2d_21 (<span style=\"color: #0087ff; text-decoration-color: #0087ff\">Conv2D</span>)              │ (<span style=\"color: #00d7ff; text-decoration-color: #00d7ff\">None</span>, <span style=\"color: #00af00; text-decoration-color: #00af00\">15</span>, <span style=\"color: #00af00; text-decoration-color: #00af00\">15</span>, <span style=\"color: #00af00; text-decoration-color: #00af00\">256</span>)    │       <span style=\"color: #00af00; text-decoration-color: #00af00\">295,168</span> │\n",
              "├─────────────────────────────────┼────────────────────────┼───────────────┤\n",
              "│ batch_normalization_24          │ (<span style=\"color: #00d7ff; text-decoration-color: #00d7ff\">None</span>, <span style=\"color: #00af00; text-decoration-color: #00af00\">15</span>, <span style=\"color: #00af00; text-decoration-color: #00af00\">15</span>, <span style=\"color: #00af00; text-decoration-color: #00af00\">256</span>)    │         <span style=\"color: #00af00; text-decoration-color: #00af00\">1,024</span> │\n",
              "│ (<span style=\"color: #0087ff; text-decoration-color: #0087ff\">BatchNormalization</span>)            │                        │               │\n",
              "├─────────────────────────────────┼────────────────────────┼───────────────┤\n",
              "│ max_pooling2d_15 (<span style=\"color: #0087ff; text-decoration-color: #0087ff\">MaxPooling2D</span>) │ (<span style=\"color: #00d7ff; text-decoration-color: #00d7ff\">None</span>, <span style=\"color: #00af00; text-decoration-color: #00af00\">7</span>, <span style=\"color: #00af00; text-decoration-color: #00af00\">7</span>, <span style=\"color: #00af00; text-decoration-color: #00af00\">256</span>)      │             <span style=\"color: #00af00; text-decoration-color: #00af00\">0</span> │\n",
              "├─────────────────────────────────┼────────────────────────┼───────────────┤\n",
              "│ dropout_21 (<span style=\"color: #0087ff; text-decoration-color: #0087ff\">Dropout</span>)            │ (<span style=\"color: #00d7ff; text-decoration-color: #00d7ff\">None</span>, <span style=\"color: #00af00; text-decoration-color: #00af00\">7</span>, <span style=\"color: #00af00; text-decoration-color: #00af00\">7</span>, <span style=\"color: #00af00; text-decoration-color: #00af00\">256</span>)      │             <span style=\"color: #00af00; text-decoration-color: #00af00\">0</span> │\n",
              "├─────────────────────────────────┼────────────────────────┼───────────────┤\n",
              "│ global_average_pooling2d_6      │ (<span style=\"color: #00d7ff; text-decoration-color: #00d7ff\">None</span>, <span style=\"color: #00af00; text-decoration-color: #00af00\">256</span>)            │             <span style=\"color: #00af00; text-decoration-color: #00af00\">0</span> │\n",
              "│ (<span style=\"color: #0087ff; text-decoration-color: #0087ff\">GlobalAveragePooling2D</span>)        │                        │               │\n",
              "├─────────────────────────────────┼────────────────────────┼───────────────┤\n",
              "│ dense_15 (<span style=\"color: #0087ff; text-decoration-color: #0087ff\">Dense</span>)                │ (<span style=\"color: #00d7ff; text-decoration-color: #00d7ff\">None</span>, <span style=\"color: #00af00; text-decoration-color: #00af00\">256</span>)            │        <span style=\"color: #00af00; text-decoration-color: #00af00\">65,792</span> │\n",
              "├─────────────────────────────────┼────────────────────────┼───────────────┤\n",
              "│ dropout_22 (<span style=\"color: #0087ff; text-decoration-color: #0087ff\">Dropout</span>)            │ (<span style=\"color: #00d7ff; text-decoration-color: #00d7ff\">None</span>, <span style=\"color: #00af00; text-decoration-color: #00af00\">256</span>)            │             <span style=\"color: #00af00; text-decoration-color: #00af00\">0</span> │\n",
              "├─────────────────────────────────┼────────────────────────┼───────────────┤\n",
              "│ dense_16 (<span style=\"color: #0087ff; text-decoration-color: #0087ff\">Dense</span>)                │ (<span style=\"color: #00d7ff; text-decoration-color: #00d7ff\">None</span>, <span style=\"color: #00af00; text-decoration-color: #00af00\">128</span>)            │        <span style=\"color: #00af00; text-decoration-color: #00af00\">32,896</span> │\n",
              "├─────────────────────────────────┼────────────────────────┼───────────────┤\n",
              "│ dropout_23 (<span style=\"color: #0087ff; text-decoration-color: #0087ff\">Dropout</span>)            │ (<span style=\"color: #00d7ff; text-decoration-color: #00d7ff\">None</span>, <span style=\"color: #00af00; text-decoration-color: #00af00\">128</span>)            │             <span style=\"color: #00af00; text-decoration-color: #00af00\">0</span> │\n",
              "├─────────────────────────────────┼────────────────────────┼───────────────┤\n",
              "│ dense_17 (<span style=\"color: #0087ff; text-decoration-color: #0087ff\">Dense</span>)                │ (<span style=\"color: #00d7ff; text-decoration-color: #00d7ff\">None</span>, <span style=\"color: #00af00; text-decoration-color: #00af00\">6</span>)              │           <span style=\"color: #00af00; text-decoration-color: #00af00\">774</span> │\n",
              "└─────────────────────────────────┴────────────────────────┴───────────────┘\n",
              "</pre>\n"
            ]
          },
          "metadata": {}
        },
        {
          "output_type": "display_data",
          "data": {
            "text/plain": [
              "\u001b[1m Total params: \u001b[0m\u001b[38;5;34m489,798\u001b[0m (1.87 MB)\n"
            ],
            "text/html": [
              "<pre style=\"white-space:pre;overflow-x:auto;line-height:normal;font-family:Menlo,'DejaVu Sans Mono',consolas,'Courier New',monospace\"><span style=\"font-weight: bold\"> Total params: </span><span style=\"color: #00af00; text-decoration-color: #00af00\">489,798</span> (1.87 MB)\n",
              "</pre>\n"
            ]
          },
          "metadata": {}
        },
        {
          "output_type": "display_data",
          "data": {
            "text/plain": [
              "\u001b[1m Trainable params: \u001b[0m\u001b[38;5;34m488,838\u001b[0m (1.86 MB)\n"
            ],
            "text/html": [
              "<pre style=\"white-space:pre;overflow-x:auto;line-height:normal;font-family:Menlo,'DejaVu Sans Mono',consolas,'Courier New',monospace\"><span style=\"font-weight: bold\"> Trainable params: </span><span style=\"color: #00af00; text-decoration-color: #00af00\">488,838</span> (1.86 MB)\n",
              "</pre>\n"
            ]
          },
          "metadata": {}
        },
        {
          "output_type": "display_data",
          "data": {
            "text/plain": [
              "\u001b[1m Non-trainable params: \u001b[0m\u001b[38;5;34m960\u001b[0m (3.75 KB)\n"
            ],
            "text/html": [
              "<pre style=\"white-space:pre;overflow-x:auto;line-height:normal;font-family:Menlo,'DejaVu Sans Mono',consolas,'Courier New',monospace\"><span style=\"font-weight: bold\"> Non-trainable params: </span><span style=\"color: #00af00; text-decoration-color: #00af00\">960</span> (3.75 KB)\n",
              "</pre>\n"
            ]
          },
          "metadata": {}
        }
      ]
    },
    {
      "cell_type": "code",
      "source": [
        "# Compilación del modelo\n",
        "from tensorflow.keras.optimizers import Adam\n",
        "from tensorflow.keras.callbacks import ReduceLROnPlateau\n",
        "from tensorflow.keras.callbacks import EarlyStopping\n",
        "\n",
        "opt = Adam(learning_rate=1e-4)\n",
        "\n",
        "redConv.compile(\n",
        "    optimizer=opt,\n",
        "    loss='sparse_categorical_crossentropy',\n",
        "    metrics=['accuracy'])\n",
        "\n",
        "# Early Stopping\n",
        "early_stopping = EarlyStopping(\n",
        "    monitor='val_loss',\n",
        "    patience=5,\n",
        "    restore_best_weights=True\n",
        ")\n",
        "\n",
        "# LR\n",
        "reduce_lr = ReduceLROnPlateau(\n",
        "    monitor='val_loss',\n",
        "    factor=0.3,\n",
        "    patience=3,\n",
        "    verbose=1,\n",
        "    min_lr=1e-6\n",
        ")"
      ],
      "metadata": {
        "id": "ei2djIPjT3kd"
      },
      "execution_count": null,
      "outputs": []
    },
    {
      "cell_type": "markdown",
      "source": [
        "## 4. Diseña una arquitectura de una red neuronal convolucional profunda que utilice como base un modelo pre-entrenado para resolver el problema de clasificación\n",
        "\n",
        "Al usar un modelo pre-entrenado se usará:\n",
        "\n",
        "```\n",
        "MobileNetV2\n",
        "```\n",
        "Así mismo, para evitar que los ecosistemas tengan problemas, se utilizarán pesos predefinidos.\n",
        "\n"
      ],
      "metadata": {
        "id": "3NQWa0CWQu0I"
      }
    },
    {
      "cell_type": "code",
      "source": [
        "# Data Augmentation\n",
        "data_augmentation = tf.keras.Sequential([\n",
        "    tf.keras.layers.RandomFlip('horizontal'),\n",
        "    tf.keras.layers.RandomRotation(0.08),\n",
        "    tf.keras.layers.RandomZoom(0.08),\n",
        "    tf.keras.layers.RandomContrast(0.08),\n",
        "    tf.keras.layers.RandomBrightness(0.08),\n",
        "    tf.keras.layers.RandomTranslation(0.04, 0.04),\n",
        "])"
      ],
      "metadata": {
        "id": "sNI65u1nkS90"
      },
      "execution_count": 10,
      "outputs": []
    },
    {
      "cell_type": "markdown",
      "source": [
        "#### 4.1 Modelo MobileNetV2\n",
        "Al usar un modelo pre-entrenado se usará:\n",
        "\n",
        "```\n",
        "MobileNetV2\n",
        "```\n",
        "Así mismo, para evitar que los ecosistemas tengan problemas, se utilizarán pesos predefinidos.\n"
      ],
      "metadata": {
        "id": "Lbna4oXJH2M6"
      }
    },
    {
      "cell_type": "code",
      "source": [
        "\n",
        "# Configurar modelo pre-entrenado\n",
        "forma_img = (128,128,3)\n",
        "modelo_base = tf.keras.applications.MobileNetV2(\n",
        "    input_shape = forma_img,\n",
        "    include_top = False,\n",
        "    weights='imagenet'\n",
        ")\n",
        "modelo_base.trainable = False"
      ],
      "metadata": {
        "id": "jtu3UfGWRnWV",
        "colab": {
          "base_uri": "https://localhost:8080/"
        },
        "outputId": "2829dae0-4e7f-4ce7-b299-08aa03ba3cc8"
      },
      "execution_count": 11,
      "outputs": [
        {
          "output_type": "stream",
          "name": "stdout",
          "text": [
            "Downloading data from https://storage.googleapis.com/tensorflow/keras-applications/mobilenet_v2/mobilenet_v2_weights_tf_dim_ordering_tf_kernels_1.0_128_no_top.h5\n",
            "\u001b[1m9406464/9406464\u001b[0m \u001b[32m━━━━━━━━━━━━━━━━━━━━\u001b[0m\u001b[37m\u001b[0m \u001b[1m1s\u001b[0m 0us/step\n"
          ]
        }
      ]
    },
    {
      "cell_type": "markdown",
      "source": [
        "Es importante normalizar los datos de entrada en la base convolucional."
      ],
      "metadata": {
        "id": "PuITViA2SlEe"
      }
    },
    {
      "cell_type": "code",
      "source": [
        "from tensorflow.keras import regularizers\n",
        "# Modelo completo\n",
        "inputs = tf.keras.Input(shape=forma_img)\n",
        "x = data_augmentation(inputs)\n",
        "x = tf.keras.applications.mobilenet_v2.preprocess_input(x)\n",
        "x = modelo_base(x, training=False)\n",
        "x = tf.keras.layers.GlobalAveragePooling2D()(x)\n",
        "x = tf.keras.layers.Dense(128, activation='relu')(x)\n",
        "x = tf.keras.layers.Dropout(0.25)(x)\n",
        "outputs = tf.keras.layers.Dense(6, activation='softmax')(x)\n",
        "modelo_pre = tf.keras.Model(inputs, outputs)\n",
        "modelo_pre.summary()"
      ],
      "metadata": {
        "id": "Wg2cmdDtS9HG",
        "colab": {
          "base_uri": "https://localhost:8080/",
          "height": 449
        },
        "outputId": "21960501-9497-4c14-f8db-d6715e50d11a"
      },
      "execution_count": 12,
      "outputs": [
        {
          "output_type": "display_data",
          "data": {
            "text/plain": [
              "\u001b[1mModel: \"functional_1\"\u001b[0m\n"
            ],
            "text/html": [
              "<pre style=\"white-space:pre;overflow-x:auto;line-height:normal;font-family:Menlo,'DejaVu Sans Mono',consolas,'Courier New',monospace\"><span style=\"font-weight: bold\">Model: \"functional_1\"</span>\n",
              "</pre>\n"
            ]
          },
          "metadata": {}
        },
        {
          "output_type": "display_data",
          "data": {
            "text/plain": [
              "┏━━━━━━━━━━━━━━━━━━━━━━━━━━━━━━━━━┳━━━━━━━━━━━━━━━━━━━━━━━━┳━━━━━━━━━━━━━━━┓\n",
              "┃\u001b[1m \u001b[0m\u001b[1mLayer (type)                   \u001b[0m\u001b[1m \u001b[0m┃\u001b[1m \u001b[0m\u001b[1mOutput Shape          \u001b[0m\u001b[1m \u001b[0m┃\u001b[1m \u001b[0m\u001b[1m      Param #\u001b[0m\u001b[1m \u001b[0m┃\n",
              "┡━━━━━━━━━━━━━━━━━━━━━━━━━━━━━━━━━╇━━━━━━━━━━━━━━━━━━━━━━━━╇━━━━━━━━━━━━━━━┩\n",
              "│ input_layer_1 (\u001b[38;5;33mInputLayer\u001b[0m)      │ (\u001b[38;5;45mNone\u001b[0m, \u001b[38;5;34m128\u001b[0m, \u001b[38;5;34m128\u001b[0m, \u001b[38;5;34m3\u001b[0m)    │             \u001b[38;5;34m0\u001b[0m │\n",
              "├─────────────────────────────────┼────────────────────────┼───────────────┤\n",
              "│ sequential (\u001b[38;5;33mSequential\u001b[0m)         │ (\u001b[38;5;45mNone\u001b[0m, \u001b[38;5;34m128\u001b[0m, \u001b[38;5;34m128\u001b[0m, \u001b[38;5;34m3\u001b[0m)    │             \u001b[38;5;34m0\u001b[0m │\n",
              "├─────────────────────────────────┼────────────────────────┼───────────────┤\n",
              "│ true_divide (\u001b[38;5;33mTrueDivide\u001b[0m)        │ (\u001b[38;5;45mNone\u001b[0m, \u001b[38;5;34m128\u001b[0m, \u001b[38;5;34m128\u001b[0m, \u001b[38;5;34m3\u001b[0m)    │             \u001b[38;5;34m0\u001b[0m │\n",
              "├─────────────────────────────────┼────────────────────────┼───────────────┤\n",
              "│ subtract (\u001b[38;5;33mSubtract\u001b[0m)             │ (\u001b[38;5;45mNone\u001b[0m, \u001b[38;5;34m128\u001b[0m, \u001b[38;5;34m128\u001b[0m, \u001b[38;5;34m3\u001b[0m)    │             \u001b[38;5;34m0\u001b[0m │\n",
              "├─────────────────────────────────┼────────────────────────┼───────────────┤\n",
              "│ mobilenetv2_1.00_128            │ (\u001b[38;5;45mNone\u001b[0m, \u001b[38;5;34m4\u001b[0m, \u001b[38;5;34m4\u001b[0m, \u001b[38;5;34m1280\u001b[0m)     │     \u001b[38;5;34m2,257,984\u001b[0m │\n",
              "│ (\u001b[38;5;33mFunctional\u001b[0m)                    │                        │               │\n",
              "├─────────────────────────────────┼────────────────────────┼───────────────┤\n",
              "│ global_average_pooling2d        │ (\u001b[38;5;45mNone\u001b[0m, \u001b[38;5;34m1280\u001b[0m)           │             \u001b[38;5;34m0\u001b[0m │\n",
              "│ (\u001b[38;5;33mGlobalAveragePooling2D\u001b[0m)        │                        │               │\n",
              "├─────────────────────────────────┼────────────────────────┼───────────────┤\n",
              "│ dense (\u001b[38;5;33mDense\u001b[0m)                   │ (\u001b[38;5;45mNone\u001b[0m, \u001b[38;5;34m128\u001b[0m)            │       \u001b[38;5;34m163,968\u001b[0m │\n",
              "├─────────────────────────────────┼────────────────────────┼───────────────┤\n",
              "│ dropout (\u001b[38;5;33mDropout\u001b[0m)               │ (\u001b[38;5;45mNone\u001b[0m, \u001b[38;5;34m128\u001b[0m)            │             \u001b[38;5;34m0\u001b[0m │\n",
              "├─────────────────────────────────┼────────────────────────┼───────────────┤\n",
              "│ dense_1 (\u001b[38;5;33mDense\u001b[0m)                 │ (\u001b[38;5;45mNone\u001b[0m, \u001b[38;5;34m6\u001b[0m)              │           \u001b[38;5;34m774\u001b[0m │\n",
              "└─────────────────────────────────┴────────────────────────┴───────────────┘\n"
            ],
            "text/html": [
              "<pre style=\"white-space:pre;overflow-x:auto;line-height:normal;font-family:Menlo,'DejaVu Sans Mono',consolas,'Courier New',monospace\">┏━━━━━━━━━━━━━━━━━━━━━━━━━━━━━━━━━┳━━━━━━━━━━━━━━━━━━━━━━━━┳━━━━━━━━━━━━━━━┓\n",
              "┃<span style=\"font-weight: bold\"> Layer (type)                    </span>┃<span style=\"font-weight: bold\"> Output Shape           </span>┃<span style=\"font-weight: bold\">       Param # </span>┃\n",
              "┡━━━━━━━━━━━━━━━━━━━━━━━━━━━━━━━━━╇━━━━━━━━━━━━━━━━━━━━━━━━╇━━━━━━━━━━━━━━━┩\n",
              "│ input_layer_1 (<span style=\"color: #0087ff; text-decoration-color: #0087ff\">InputLayer</span>)      │ (<span style=\"color: #00d7ff; text-decoration-color: #00d7ff\">None</span>, <span style=\"color: #00af00; text-decoration-color: #00af00\">128</span>, <span style=\"color: #00af00; text-decoration-color: #00af00\">128</span>, <span style=\"color: #00af00; text-decoration-color: #00af00\">3</span>)    │             <span style=\"color: #00af00; text-decoration-color: #00af00\">0</span> │\n",
              "├─────────────────────────────────┼────────────────────────┼───────────────┤\n",
              "│ sequential (<span style=\"color: #0087ff; text-decoration-color: #0087ff\">Sequential</span>)         │ (<span style=\"color: #00d7ff; text-decoration-color: #00d7ff\">None</span>, <span style=\"color: #00af00; text-decoration-color: #00af00\">128</span>, <span style=\"color: #00af00; text-decoration-color: #00af00\">128</span>, <span style=\"color: #00af00; text-decoration-color: #00af00\">3</span>)    │             <span style=\"color: #00af00; text-decoration-color: #00af00\">0</span> │\n",
              "├─────────────────────────────────┼────────────────────────┼───────────────┤\n",
              "│ true_divide (<span style=\"color: #0087ff; text-decoration-color: #0087ff\">TrueDivide</span>)        │ (<span style=\"color: #00d7ff; text-decoration-color: #00d7ff\">None</span>, <span style=\"color: #00af00; text-decoration-color: #00af00\">128</span>, <span style=\"color: #00af00; text-decoration-color: #00af00\">128</span>, <span style=\"color: #00af00; text-decoration-color: #00af00\">3</span>)    │             <span style=\"color: #00af00; text-decoration-color: #00af00\">0</span> │\n",
              "├─────────────────────────────────┼────────────────────────┼───────────────┤\n",
              "│ subtract (<span style=\"color: #0087ff; text-decoration-color: #0087ff\">Subtract</span>)             │ (<span style=\"color: #00d7ff; text-decoration-color: #00d7ff\">None</span>, <span style=\"color: #00af00; text-decoration-color: #00af00\">128</span>, <span style=\"color: #00af00; text-decoration-color: #00af00\">128</span>, <span style=\"color: #00af00; text-decoration-color: #00af00\">3</span>)    │             <span style=\"color: #00af00; text-decoration-color: #00af00\">0</span> │\n",
              "├─────────────────────────────────┼────────────────────────┼───────────────┤\n",
              "│ mobilenetv2_1.00_128            │ (<span style=\"color: #00d7ff; text-decoration-color: #00d7ff\">None</span>, <span style=\"color: #00af00; text-decoration-color: #00af00\">4</span>, <span style=\"color: #00af00; text-decoration-color: #00af00\">4</span>, <span style=\"color: #00af00; text-decoration-color: #00af00\">1280</span>)     │     <span style=\"color: #00af00; text-decoration-color: #00af00\">2,257,984</span> │\n",
              "│ (<span style=\"color: #0087ff; text-decoration-color: #0087ff\">Functional</span>)                    │                        │               │\n",
              "├─────────────────────────────────┼────────────────────────┼───────────────┤\n",
              "│ global_average_pooling2d        │ (<span style=\"color: #00d7ff; text-decoration-color: #00d7ff\">None</span>, <span style=\"color: #00af00; text-decoration-color: #00af00\">1280</span>)           │             <span style=\"color: #00af00; text-decoration-color: #00af00\">0</span> │\n",
              "│ (<span style=\"color: #0087ff; text-decoration-color: #0087ff\">GlobalAveragePooling2D</span>)        │                        │               │\n",
              "├─────────────────────────────────┼────────────────────────┼───────────────┤\n",
              "│ dense (<span style=\"color: #0087ff; text-decoration-color: #0087ff\">Dense</span>)                   │ (<span style=\"color: #00d7ff; text-decoration-color: #00d7ff\">None</span>, <span style=\"color: #00af00; text-decoration-color: #00af00\">128</span>)            │       <span style=\"color: #00af00; text-decoration-color: #00af00\">163,968</span> │\n",
              "├─────────────────────────────────┼────────────────────────┼───────────────┤\n",
              "│ dropout (<span style=\"color: #0087ff; text-decoration-color: #0087ff\">Dropout</span>)               │ (<span style=\"color: #00d7ff; text-decoration-color: #00d7ff\">None</span>, <span style=\"color: #00af00; text-decoration-color: #00af00\">128</span>)            │             <span style=\"color: #00af00; text-decoration-color: #00af00\">0</span> │\n",
              "├─────────────────────────────────┼────────────────────────┼───────────────┤\n",
              "│ dense_1 (<span style=\"color: #0087ff; text-decoration-color: #0087ff\">Dense</span>)                 │ (<span style=\"color: #00d7ff; text-decoration-color: #00d7ff\">None</span>, <span style=\"color: #00af00; text-decoration-color: #00af00\">6</span>)              │           <span style=\"color: #00af00; text-decoration-color: #00af00\">774</span> │\n",
              "└─────────────────────────────────┴────────────────────────┴───────────────┘\n",
              "</pre>\n"
            ]
          },
          "metadata": {}
        },
        {
          "output_type": "display_data",
          "data": {
            "text/plain": [
              "\u001b[1m Total params: \u001b[0m\u001b[38;5;34m2,422,726\u001b[0m (9.24 MB)\n"
            ],
            "text/html": [
              "<pre style=\"white-space:pre;overflow-x:auto;line-height:normal;font-family:Menlo,'DejaVu Sans Mono',consolas,'Courier New',monospace\"><span style=\"font-weight: bold\"> Total params: </span><span style=\"color: #00af00; text-decoration-color: #00af00\">2,422,726</span> (9.24 MB)\n",
              "</pre>\n"
            ]
          },
          "metadata": {}
        },
        {
          "output_type": "display_data",
          "data": {
            "text/plain": [
              "\u001b[1m Trainable params: \u001b[0m\u001b[38;5;34m164,742\u001b[0m (643.52 KB)\n"
            ],
            "text/html": [
              "<pre style=\"white-space:pre;overflow-x:auto;line-height:normal;font-family:Menlo,'DejaVu Sans Mono',consolas,'Courier New',monospace\"><span style=\"font-weight: bold\"> Trainable params: </span><span style=\"color: #00af00; text-decoration-color: #00af00\">164,742</span> (643.52 KB)\n",
              "</pre>\n"
            ]
          },
          "metadata": {}
        },
        {
          "output_type": "display_data",
          "data": {
            "text/plain": [
              "\u001b[1m Non-trainable params: \u001b[0m\u001b[38;5;34m2,257,984\u001b[0m (8.61 MB)\n"
            ],
            "text/html": [
              "<pre style=\"white-space:pre;overflow-x:auto;line-height:normal;font-family:Menlo,'DejaVu Sans Mono',consolas,'Courier New',monospace\"><span style=\"font-weight: bold\"> Non-trainable params: </span><span style=\"color: #00af00; text-decoration-color: #00af00\">2,257,984</span> (8.61 MB)\n",
              "</pre>\n"
            ]
          },
          "metadata": {}
        }
      ]
    },
    {
      "cell_type": "markdown",
      "source": [
        "### 4.2 Modelo Preentreado EfficientNetB0"
      ],
      "metadata": {
        "id": "9N5x3cclpG5v"
      }
    },
    {
      "cell_type": "code",
      "source": [
        "modelo_base = tf.keras.applications.EfficientNetB0(\n",
        "    include_top=False,\n",
        "    weights='imagenet',\n",
        "    input_shape=(128,128,3)\n",
        ")\n",
        "\n",
        "modelo_base.trainable = False"
      ],
      "metadata": {
        "id": "pOIN_ErepLxu",
        "colab": {
          "base_uri": "https://localhost:8080/"
        },
        "outputId": "9cdca20c-bb75-4343-cf22-dce8ff54c884"
      },
      "execution_count": 13,
      "outputs": [
        {
          "output_type": "stream",
          "name": "stdout",
          "text": [
            "Downloading data from https://storage.googleapis.com/keras-applications/efficientnetb0_notop.h5\n",
            "\u001b[1m16705208/16705208\u001b[0m \u001b[32m━━━━━━━━━━━━━━━━━━━━\u001b[0m\u001b[37m\u001b[0m \u001b[1m1s\u001b[0m 0us/step\n"
          ]
        }
      ]
    },
    {
      "cell_type": "code",
      "source": [
        "from tensorflow.keras import regularizers\n",
        "# Modelo Completo\n",
        "inputs = tf.keras.Input(shape=(128,128,3))\n",
        "x = data_augmentation(inputs)\n",
        "x = tf.keras.applications.efficientnet.preprocess_input(x)\n",
        "x = modelo_base(x, training=False)\n",
        "x = tf.keras.layers.GlobalAveragePooling2D()(x)\n",
        "x = tf.keras.layers.Dropout(0.3)(x)\n",
        "outputs = tf.keras.layers.Dense(6,activation='softmax')(x)\n",
        "modelo_completo = tf.keras.Model(inputs,outputs)\n",
        "modelo_completo.summary()"
      ],
      "metadata": {
        "id": "SOob-7B-pS3f",
        "colab": {
          "base_uri": "https://localhost:8080/",
          "height": 337
        },
        "outputId": "afdcaef5-d5a6-4f3c-d690-bee80fb0c07f"
      },
      "execution_count": 14,
      "outputs": [
        {
          "output_type": "display_data",
          "data": {
            "text/plain": [
              "\u001b[1mModel: \"functional_2\"\u001b[0m\n"
            ],
            "text/html": [
              "<pre style=\"white-space:pre;overflow-x:auto;line-height:normal;font-family:Menlo,'DejaVu Sans Mono',consolas,'Courier New',monospace\"><span style=\"font-weight: bold\">Model: \"functional_2\"</span>\n",
              "</pre>\n"
            ]
          },
          "metadata": {}
        },
        {
          "output_type": "display_data",
          "data": {
            "text/plain": [
              "┏━━━━━━━━━━━━━━━━━━━━━━━━━━━━━━━━━┳━━━━━━━━━━━━━━━━━━━━━━━━┳━━━━━━━━━━━━━━━┓\n",
              "┃\u001b[1m \u001b[0m\u001b[1mLayer (type)                   \u001b[0m\u001b[1m \u001b[0m┃\u001b[1m \u001b[0m\u001b[1mOutput Shape          \u001b[0m\u001b[1m \u001b[0m┃\u001b[1m \u001b[0m\u001b[1m      Param #\u001b[0m\u001b[1m \u001b[0m┃\n",
              "┡━━━━━━━━━━━━━━━━━━━━━━━━━━━━━━━━━╇━━━━━━━━━━━━━━━━━━━━━━━━╇━━━━━━━━━━━━━━━┩\n",
              "│ input_layer_4 (\u001b[38;5;33mInputLayer\u001b[0m)      │ (\u001b[38;5;45mNone\u001b[0m, \u001b[38;5;34m128\u001b[0m, \u001b[38;5;34m128\u001b[0m, \u001b[38;5;34m3\u001b[0m)    │             \u001b[38;5;34m0\u001b[0m │\n",
              "├─────────────────────────────────┼────────────────────────┼───────────────┤\n",
              "│ sequential (\u001b[38;5;33mSequential\u001b[0m)         │ (\u001b[38;5;45mNone\u001b[0m, \u001b[38;5;34m128\u001b[0m, \u001b[38;5;34m128\u001b[0m, \u001b[38;5;34m3\u001b[0m)    │             \u001b[38;5;34m0\u001b[0m │\n",
              "├─────────────────────────────────┼────────────────────────┼───────────────┤\n",
              "│ efficientnetb0 (\u001b[38;5;33mFunctional\u001b[0m)     │ (\u001b[38;5;45mNone\u001b[0m, \u001b[38;5;34m4\u001b[0m, \u001b[38;5;34m4\u001b[0m, \u001b[38;5;34m1280\u001b[0m)     │     \u001b[38;5;34m4,049,571\u001b[0m │\n",
              "├─────────────────────────────────┼────────────────────────┼───────────────┤\n",
              "│ global_average_pooling2d_1      │ (\u001b[38;5;45mNone\u001b[0m, \u001b[38;5;34m1280\u001b[0m)           │             \u001b[38;5;34m0\u001b[0m │\n",
              "│ (\u001b[38;5;33mGlobalAveragePooling2D\u001b[0m)        │                        │               │\n",
              "├─────────────────────────────────┼────────────────────────┼───────────────┤\n",
              "│ dropout_1 (\u001b[38;5;33mDropout\u001b[0m)             │ (\u001b[38;5;45mNone\u001b[0m, \u001b[38;5;34m1280\u001b[0m)           │             \u001b[38;5;34m0\u001b[0m │\n",
              "├─────────────────────────────────┼────────────────────────┼───────────────┤\n",
              "│ dense_2 (\u001b[38;5;33mDense\u001b[0m)                 │ (\u001b[38;5;45mNone\u001b[0m, \u001b[38;5;34m6\u001b[0m)              │         \u001b[38;5;34m7,686\u001b[0m │\n",
              "└─────────────────────────────────┴────────────────────────┴───────────────┘\n"
            ],
            "text/html": [
              "<pre style=\"white-space:pre;overflow-x:auto;line-height:normal;font-family:Menlo,'DejaVu Sans Mono',consolas,'Courier New',monospace\">┏━━━━━━━━━━━━━━━━━━━━━━━━━━━━━━━━━┳━━━━━━━━━━━━━━━━━━━━━━━━┳━━━━━━━━━━━━━━━┓\n",
              "┃<span style=\"font-weight: bold\"> Layer (type)                    </span>┃<span style=\"font-weight: bold\"> Output Shape           </span>┃<span style=\"font-weight: bold\">       Param # </span>┃\n",
              "┡━━━━━━━━━━━━━━━━━━━━━━━━━━━━━━━━━╇━━━━━━━━━━━━━━━━━━━━━━━━╇━━━━━━━━━━━━━━━┩\n",
              "│ input_layer_4 (<span style=\"color: #0087ff; text-decoration-color: #0087ff\">InputLayer</span>)      │ (<span style=\"color: #00d7ff; text-decoration-color: #00d7ff\">None</span>, <span style=\"color: #00af00; text-decoration-color: #00af00\">128</span>, <span style=\"color: #00af00; text-decoration-color: #00af00\">128</span>, <span style=\"color: #00af00; text-decoration-color: #00af00\">3</span>)    │             <span style=\"color: #00af00; text-decoration-color: #00af00\">0</span> │\n",
              "├─────────────────────────────────┼────────────────────────┼───────────────┤\n",
              "│ sequential (<span style=\"color: #0087ff; text-decoration-color: #0087ff\">Sequential</span>)         │ (<span style=\"color: #00d7ff; text-decoration-color: #00d7ff\">None</span>, <span style=\"color: #00af00; text-decoration-color: #00af00\">128</span>, <span style=\"color: #00af00; text-decoration-color: #00af00\">128</span>, <span style=\"color: #00af00; text-decoration-color: #00af00\">3</span>)    │             <span style=\"color: #00af00; text-decoration-color: #00af00\">0</span> │\n",
              "├─────────────────────────────────┼────────────────────────┼───────────────┤\n",
              "│ efficientnetb0 (<span style=\"color: #0087ff; text-decoration-color: #0087ff\">Functional</span>)     │ (<span style=\"color: #00d7ff; text-decoration-color: #00d7ff\">None</span>, <span style=\"color: #00af00; text-decoration-color: #00af00\">4</span>, <span style=\"color: #00af00; text-decoration-color: #00af00\">4</span>, <span style=\"color: #00af00; text-decoration-color: #00af00\">1280</span>)     │     <span style=\"color: #00af00; text-decoration-color: #00af00\">4,049,571</span> │\n",
              "├─────────────────────────────────┼────────────────────────┼───────────────┤\n",
              "│ global_average_pooling2d_1      │ (<span style=\"color: #00d7ff; text-decoration-color: #00d7ff\">None</span>, <span style=\"color: #00af00; text-decoration-color: #00af00\">1280</span>)           │             <span style=\"color: #00af00; text-decoration-color: #00af00\">0</span> │\n",
              "│ (<span style=\"color: #0087ff; text-decoration-color: #0087ff\">GlobalAveragePooling2D</span>)        │                        │               │\n",
              "├─────────────────────────────────┼────────────────────────┼───────────────┤\n",
              "│ dropout_1 (<span style=\"color: #0087ff; text-decoration-color: #0087ff\">Dropout</span>)             │ (<span style=\"color: #00d7ff; text-decoration-color: #00d7ff\">None</span>, <span style=\"color: #00af00; text-decoration-color: #00af00\">1280</span>)           │             <span style=\"color: #00af00; text-decoration-color: #00af00\">0</span> │\n",
              "├─────────────────────────────────┼────────────────────────┼───────────────┤\n",
              "│ dense_2 (<span style=\"color: #0087ff; text-decoration-color: #0087ff\">Dense</span>)                 │ (<span style=\"color: #00d7ff; text-decoration-color: #00d7ff\">None</span>, <span style=\"color: #00af00; text-decoration-color: #00af00\">6</span>)              │         <span style=\"color: #00af00; text-decoration-color: #00af00\">7,686</span> │\n",
              "└─────────────────────────────────┴────────────────────────┴───────────────┘\n",
              "</pre>\n"
            ]
          },
          "metadata": {}
        },
        {
          "output_type": "display_data",
          "data": {
            "text/plain": [
              "\u001b[1m Total params: \u001b[0m\u001b[38;5;34m4,057,257\u001b[0m (15.48 MB)\n"
            ],
            "text/html": [
              "<pre style=\"white-space:pre;overflow-x:auto;line-height:normal;font-family:Menlo,'DejaVu Sans Mono',consolas,'Courier New',monospace\"><span style=\"font-weight: bold\"> Total params: </span><span style=\"color: #00af00; text-decoration-color: #00af00\">4,057,257</span> (15.48 MB)\n",
              "</pre>\n"
            ]
          },
          "metadata": {}
        },
        {
          "output_type": "display_data",
          "data": {
            "text/plain": [
              "\u001b[1m Trainable params: \u001b[0m\u001b[38;5;34m7,686\u001b[0m (30.02 KB)\n"
            ],
            "text/html": [
              "<pre style=\"white-space:pre;overflow-x:auto;line-height:normal;font-family:Menlo,'DejaVu Sans Mono',consolas,'Courier New',monospace\"><span style=\"font-weight: bold\"> Trainable params: </span><span style=\"color: #00af00; text-decoration-color: #00af00\">7,686</span> (30.02 KB)\n",
              "</pre>\n"
            ]
          },
          "metadata": {}
        },
        {
          "output_type": "display_data",
          "data": {
            "text/plain": [
              "\u001b[1m Non-trainable params: \u001b[0m\u001b[38;5;34m4,049,571\u001b[0m (15.45 MB)\n"
            ],
            "text/html": [
              "<pre style=\"white-space:pre;overflow-x:auto;line-height:normal;font-family:Menlo,'DejaVu Sans Mono',consolas,'Courier New',monospace\"><span style=\"font-weight: bold\"> Non-trainable params: </span><span style=\"color: #00af00; text-decoration-color: #00af00\">4,049,571</span> (15.45 MB)\n",
              "</pre>\n"
            ]
          },
          "metadata": {}
        }
      ]
    },
    {
      "cell_type": "code",
      "source": [
        "from tensorflow.keras.optimizers import Adam\n",
        "from tensorflow.keras.callbacks import EarlyStopping, ReduceLROnPlateau\n",
        "\n",
        "# Compilación del modelo\n",
        "opt = Adam(learning_rate=1e-4)\n",
        "modelo_completo.compile(\n",
        "    optimizer=opt,\n",
        "    loss='sparse_categorical_crossentropy',\n",
        "    metrics=['accuracy']\n",
        ")\n",
        "\n",
        "# Early Stopping\n",
        "early_stopping = EarlyStopping(\n",
        "    monitor='val_loss',\n",
        "    patience=10,\n",
        "    verbose=1,\n",
        "    restore_best_weights=True,\n",
        ")\n",
        "# Reducir Learning Rate\n",
        "lr = ReduceLROnPlateau(\n",
        "    monitor='val_loss',\n",
        "    factor=0.5,\n",
        "    patience=5,\n",
        "    verbose=1,\n",
        "    min_lr=1e-7\n",
        ")"
      ],
      "metadata": {
        "id": "5HNsZbDipVxE"
      },
      "execution_count": 15,
      "outputs": []
    },
    {
      "cell_type": "markdown",
      "source": [
        "## 5. Modelo con Teachable Machine\n",
        "Para la generación del modelo en Teachable Machine se declararán 6 clases:\n",
        "1. Misil\n",
        "2. Jet\n",
        "3. Helicóptero\n",
        "4. Dron\n",
        "5. Cohete\n",
        "6. Avión\n",
        "\n",
        "Para la creación del modelo se eligirán las primeras 200 imágenes de cada clase.\n",
        "\n",
        "Los hiperparámetros serán los siguientes:\n",
        "\n",
        "- Épocas: 50\n",
        "- Tamaño del lote: 32\n",
        "- Tasa de aprendizaje : 0.001"
      ],
      "metadata": {
        "id": "ein0mUcjThOy"
      }
    },
    {
      "cell_type": "markdown",
      "source": [
        "## 6. Entrena y ajusta las arquitecturas diseñadas"
      ],
      "metadata": {
        "id": "9y86aoKtXNYI"
      }
    },
    {
      "cell_type": "markdown",
      "source": [
        "### 6.1 Primer Modelo"
      ],
      "metadata": {
        "id": "ycH4xh1-XSA0"
      }
    },
    {
      "cell_type": "code",
      "source": [
        "# Entrenamiento del modelo\n",
        "evolucion = redConv.fit(\n",
        "    conj_entrenamiento,\n",
        "    validation_data = conj_prueba,\n",
        "    epochs = 50,\n",
        "    callbacks = [early_stopping,reduce_lr],\n",
        "    class_weight = class_weights\n",
        " )"
      ],
      "metadata": {
        "colab": {
          "base_uri": "https://localhost:8080/"
        },
        "id": "zSVlyG63AqG9",
        "outputId": "d2166bcc-49c2-4b93-d1ae-6b80ae8cc2e1"
      },
      "execution_count": null,
      "outputs": [
        {
          "output_type": "stream",
          "name": "stdout",
          "text": [
            "Epoch 1/50\n",
            "\u001b[1m206/206\u001b[0m \u001b[32m━━━━━━━━━━━━━━━━━━━━\u001b[0m\u001b[37m\u001b[0m \u001b[1m16s\u001b[0m 55ms/step - accuracy: 0.1932 - loss: 2.0657 - val_accuracy: 0.1284 - val_loss: 2.0222 - learning_rate: 1.0000e-04\n",
            "Epoch 2/50\n",
            "\u001b[1m206/206\u001b[0m \u001b[32m━━━━━━━━━━━━━━━━━━━━\u001b[0m\u001b[37m\u001b[0m \u001b[1m10s\u001b[0m 51ms/step - accuracy: 0.2301 - loss: 1.8121 - val_accuracy: 0.1759 - val_loss: 1.9152 - learning_rate: 1.0000e-04\n",
            "Epoch 3/50\n",
            "\u001b[1m206/206\u001b[0m \u001b[32m━━━━━━━━━━━━━━━━━━━━\u001b[0m\u001b[37m\u001b[0m \u001b[1m10s\u001b[0m 50ms/step - accuracy: 0.2627 - loss: 1.7663 - val_accuracy: 0.2824 - val_loss: 1.7264 - learning_rate: 1.0000e-04\n",
            "Epoch 4/50\n",
            "\u001b[1m206/206\u001b[0m \u001b[32m━━━━━━━━━━━━━━━━━━━━\u001b[0m\u001b[37m\u001b[0m \u001b[1m10s\u001b[0m 50ms/step - accuracy: 0.2820 - loss: 1.7389 - val_accuracy: 0.2788 - val_loss: 1.7087 - learning_rate: 1.0000e-04\n",
            "Epoch 5/50\n",
            "\u001b[1m206/206\u001b[0m \u001b[32m━━━━━━━━━━━━━━━━━━━━\u001b[0m\u001b[37m\u001b[0m \u001b[1m10s\u001b[0m 51ms/step - accuracy: 0.2976 - loss: 1.7238 - val_accuracy: 0.2921 - val_loss: 1.6956 - learning_rate: 1.0000e-04\n",
            "Epoch 6/50\n",
            "\u001b[1m206/206\u001b[0m \u001b[32m━━━━━━━━━━━━━━━━━━━━\u001b[0m\u001b[37m\u001b[0m \u001b[1m10s\u001b[0m 51ms/step - accuracy: 0.3028 - loss: 1.7044 - val_accuracy: 0.3104 - val_loss: 1.6756 - learning_rate: 1.0000e-04\n",
            "Epoch 7/50\n",
            "\u001b[1m206/206\u001b[0m \u001b[32m━━━━━━━━━━━━━━━━━━━━\u001b[0m\u001b[37m\u001b[0m \u001b[1m10s\u001b[0m 50ms/step - accuracy: 0.3123 - loss: 1.6978 - val_accuracy: 0.2562 - val_loss: 1.7629 - learning_rate: 1.0000e-04\n",
            "Epoch 8/50\n",
            "\u001b[1m206/206\u001b[0m \u001b[32m━━━━━━━━━━━━━━━━━━━━\u001b[0m\u001b[37m\u001b[0m \u001b[1m10s\u001b[0m 50ms/step - accuracy: 0.3251 - loss: 1.6693 - val_accuracy: 0.2800 - val_loss: 1.7312 - learning_rate: 1.0000e-04\n",
            "Epoch 9/50\n",
            "\u001b[1m206/206\u001b[0m \u001b[32m━━━━━━━━━━━━━━━━━━━━\u001b[0m\u001b[37m\u001b[0m \u001b[1m10s\u001b[0m 50ms/step - accuracy: 0.3321 - loss: 1.6618 - val_accuracy: 0.3055 - val_loss: 1.6611 - learning_rate: 1.0000e-04\n",
            "Epoch 10/50\n",
            "\u001b[1m206/206\u001b[0m \u001b[32m━━━━━━━━━━━━━━━━━━━━\u001b[0m\u001b[37m\u001b[0m \u001b[1m11s\u001b[0m 51ms/step - accuracy: 0.3497 - loss: 1.6341 - val_accuracy: 0.3408 - val_loss: 1.6314 - learning_rate: 1.0000e-04\n",
            "Epoch 11/50\n",
            "\u001b[1m206/206\u001b[0m \u001b[32m━━━━━━━━━━━━━━━━━━━━\u001b[0m\u001b[37m\u001b[0m \u001b[1m10s\u001b[0m 51ms/step - accuracy: 0.3515 - loss: 1.6321 - val_accuracy: 0.3329 - val_loss: 1.6390 - learning_rate: 1.0000e-04\n",
            "Epoch 12/50\n",
            "\u001b[1m206/206\u001b[0m \u001b[32m━━━━━━━━━━━━━━━━━━━━\u001b[0m\u001b[37m\u001b[0m \u001b[1m10s\u001b[0m 51ms/step - accuracy: 0.3531 - loss: 1.6267 - val_accuracy: 0.3244 - val_loss: 1.6464 - learning_rate: 1.0000e-04\n",
            "Epoch 13/50\n",
            "\u001b[1m206/206\u001b[0m \u001b[32m━━━━━━━━━━━━━━━━━━━━\u001b[0m\u001b[37m\u001b[0m \u001b[1m10s\u001b[0m 50ms/step - accuracy: 0.3727 - loss: 1.5993 - val_accuracy: 0.3640 - val_loss: 1.6011 - learning_rate: 1.0000e-04\n",
            "Epoch 14/50\n",
            "\u001b[1m206/206\u001b[0m \u001b[32m━━━━━━━━━━━━━━━━━━━━\u001b[0m\u001b[37m\u001b[0m \u001b[1m10s\u001b[0m 50ms/step - accuracy: 0.3759 - loss: 1.5989 - val_accuracy: 0.3707 - val_loss: 1.5971 - learning_rate: 1.0000e-04\n",
            "Epoch 15/50\n",
            "\u001b[1m206/206\u001b[0m \u001b[32m━━━━━━━━━━━━━━━━━━━━\u001b[0m\u001b[37m\u001b[0m \u001b[1m10s\u001b[0m 51ms/step - accuracy: 0.3718 - loss: 1.5839 - val_accuracy: 0.3506 - val_loss: 1.6009 - learning_rate: 1.0000e-04\n",
            "Epoch 16/50\n",
            "\u001b[1m206/206\u001b[0m \u001b[32m━━━━━━━━━━━━━━━━━━━━\u001b[0m\u001b[37m\u001b[0m \u001b[1m10s\u001b[0m 51ms/step - accuracy: 0.3846 - loss: 1.5763 - val_accuracy: 0.3646 - val_loss: 1.6117 - learning_rate: 1.0000e-04\n",
            "Epoch 17/50\n",
            "\u001b[1m206/206\u001b[0m \u001b[32m━━━━━━━━━━━━━━━━━━━━\u001b[0m\u001b[37m\u001b[0m \u001b[1m10s\u001b[0m 51ms/step - accuracy: 0.3951 - loss: 1.5571 - val_accuracy: 0.3889 - val_loss: 1.5589 - learning_rate: 1.0000e-04\n",
            "Epoch 18/50\n",
            "\u001b[1m206/206\u001b[0m \u001b[32m━━━━━━━━━━━━━━━━━━━━\u001b[0m\u001b[37m\u001b[0m \u001b[1m10s\u001b[0m 50ms/step - accuracy: 0.4028 - loss: 1.5368 - val_accuracy: 0.3518 - val_loss: 1.6446 - learning_rate: 1.0000e-04\n",
            "Epoch 19/50\n",
            "\u001b[1m206/206\u001b[0m \u001b[32m━━━━━━━━━━━━━━━━━━━━\u001b[0m\u001b[37m\u001b[0m \u001b[1m21s\u001b[0m 51ms/step - accuracy: 0.4215 - loss: 1.5272 - val_accuracy: 0.3731 - val_loss: 1.5962 - learning_rate: 1.0000e-04\n",
            "Epoch 20/50\n",
            "\u001b[1m206/206\u001b[0m \u001b[32m━━━━━━━━━━━━━━━━━━━━\u001b[0m\u001b[37m\u001b[0m \u001b[1m0s\u001b[0m 49ms/step - accuracy: 0.3922 - loss: 1.5494\n",
            "Epoch 20: ReduceLROnPlateau reducing learning rate to 2.9999999242136255e-05.\n",
            "\u001b[1m206/206\u001b[0m \u001b[32m━━━━━━━━━━━━━━━━━━━━\u001b[0m\u001b[37m\u001b[0m \u001b[1m11s\u001b[0m 52ms/step - accuracy: 0.3922 - loss: 1.5494 - val_accuracy: 0.3317 - val_loss: 1.6634 - learning_rate: 1.0000e-04\n",
            "Epoch 21/50\n",
            "\u001b[1m206/206\u001b[0m \u001b[32m━━━━━━━━━━━━━━━━━━━━\u001b[0m\u001b[37m\u001b[0m \u001b[1m20s\u001b[0m 51ms/step - accuracy: 0.4092 - loss: 1.5192 - val_accuracy: 0.3676 - val_loss: 1.5918 - learning_rate: 3.0000e-05\n",
            "Epoch 22/50\n",
            "\u001b[1m206/206\u001b[0m \u001b[32m━━━━━━━━━━━━━━━━━━━━\u001b[0m\u001b[37m\u001b[0m \u001b[1m10s\u001b[0m 49ms/step - accuracy: 0.4160 - loss: 1.5010 - val_accuracy: 0.3828 - val_loss: 1.5802 - learning_rate: 3.0000e-05\n"
          ]
        }
      ]
    },
    {
      "cell_type": "code",
      "source": [
        "# Gráfico de la evolución de entrenamiento y pérdida\n",
        "# Historial de entrenamiento\n",
        "hist = evolucion.history\n",
        "plt.figure(figsize=(10,4))\n",
        "\n",
        "# Presición del modelo\n",
        "plt.subplot(1,2,1)\n",
        "plt.plot(hist['accuracy'],label='Entrenamiento')\n",
        "plt.plot(hist['val_accuracy'],label='Validación')\n",
        "plt.xlabel('Epochs')\n",
        "plt.ylabel('Precisión')\n",
        "plt.title('Precisión del modelo')\n",
        "plt.legend()\n",
        "\n",
        "# Pérdida del modelo\n",
        "plt.subplot(1,2,2)\n",
        "plt.plot(hist['loss'],label='Entrenamiento')\n",
        "plt.plot(hist['val_loss'],label='Validación')\n",
        "plt.xlabel('Epochs')\n",
        "plt.ylabel('Pérdida')\n",
        "plt.title('Pérdida del modelo')\n",
        "plt.legend()\n",
        "\n",
        "plt.show()"
      ],
      "metadata": {
        "colab": {
          "base_uri": "https://localhost:8080/",
          "height": 410
        },
        "id": "EM3e0evZkzrh",
        "outputId": "8da65f19-f808-4232-9830-a1f1ebf988ce"
      },
      "execution_count": null,
      "outputs": [
        {
          "output_type": "display_data",
          "data": {
            "text/plain": [
              "<Figure size 1000x400 with 2 Axes>"
            ],
            "image/png": "[encoded data removed]"
          },
          "metadata": {}
        }
      ]
    },
    {
      "cell_type": "markdown",
      "source": [
        "### 6.2 Modelo Preentrenado MobileNetV2"
      ],
      "metadata": {
        "id": "UZ8fXxGlXTtn"
      }
    },
    {
      "cell_type": "code",
      "source": [
        "# Early Stopping\n",
        "early_stopping = EarlyStopping(\n",
        "    monitor='val_loss',\n",
        "    patience=8,\n",
        "    verbose=1,\n",
        "    restore_best_weights=True,\n",
        ")\n",
        "# Reducir Learning Rate\n",
        "lr = ReduceLROnPlateau(\n",
        "    monitor='val_loss',\n",
        "    factor=0.3,\n",
        "    patience=3,\n",
        "    verbose=1,\n",
        "    min_lr=1e-5\n",
        ")\n",
        "\n",
        "# Compilar modelo final\n",
        "modelo_pre.compile(\n",
        "    optimizer = tf.keras.optimizers.Adam(learning_rate=1e-4),\n",
        "    loss = 'sparse_categorical_crossentropy',\n",
        "    metrics = ['accuracy']\n",
        ")\n"
      ],
      "metadata": {
        "id": "HHhXBCqJXgS_"
      },
      "execution_count": 16,
      "outputs": []
    },
    {
      "cell_type": "markdown",
      "source": [
        "Se entrenará el clasificador con el modelo base congelado, posteriormente, se hará fine-tuning, descongelando las últimas capas de MobileNetV2 para obtener mejores resultados."
      ],
      "metadata": {
        "id": "HP47lsyMf7h3"
      }
    },
    {
      "cell_type": "code",
      "source": [
        "# Entrenamiento\n",
        "print('Fase 1: Base Congelada')\n",
        "historial_1 = modelo_pre.fit(\n",
        "    conj_entrenamiento,\n",
        "    epochs=15,\n",
        "    validation_data = conj_prueba,\n",
        "    callbacks = [early_stopping,lr],\n",
        "    class_weight = class_weights\n",
        ")"
      ],
      "metadata": {
        "id": "bp4rPyALeL3r",
        "colab": {
          "base_uri": "https://localhost:8080/"
        },
        "outputId": "d3cc390b-2cf0-4cc3-8182-19eafcff7100"
      },
      "execution_count": 18,
      "outputs": [
        {
          "output_type": "stream",
          "name": "stdout",
          "text": [
            "Fase 1: Base Congelada\n",
            "Epoch 1/15\n",
            "\u001b[1m206/206\u001b[0m \u001b[32m━━━━━━━━━━━━━━━━━━━━\u001b[0m\u001b[37m\u001b[0m \u001b[1m2761s\u001b[0m 3s/step - accuracy: 0.2740 - loss: 1.8340 - val_accuracy: 0.4985 - val_loss: 1.3391 - learning_rate: 1.0000e-04\n",
            "Epoch 2/15\n",
            "\u001b[1m206/206\u001b[0m \u001b[32m━━━━━━━━━━━━━━━━━━━━\u001b[0m\u001b[37m\u001b[0m \u001b[1m152s\u001b[0m 737ms/step - accuracy: 0.4572 - loss: 1.3790 - val_accuracy: 0.5526 - val_loss: 1.2081 - learning_rate: 1.0000e-04\n",
            "Epoch 3/15\n",
            "\u001b[1m206/206\u001b[0m \u001b[32m━━━━━━━━━━━━━━━━━━━━\u001b[0m\u001b[37m\u001b[0m \u001b[1m198s\u001b[0m 722ms/step - accuracy: 0.5234 - loss: 1.2182 - val_accuracy: 0.5758 - val_loss: 1.1505 - learning_rate: 1.0000e-04\n",
            "Epoch 4/15\n",
            "\u001b[1m206/206\u001b[0m \u001b[32m━━━━━━━━━━━━━━━━━━━━\u001b[0m\u001b[37m\u001b[0m \u001b[1m146s\u001b[0m 708ms/step - accuracy: 0.5193 - loss: 1.1943 - val_accuracy: 0.5898 - val_loss: 1.1041 - learning_rate: 1.0000e-04\n",
            "Epoch 5/15\n",
            "\u001b[1m206/206\u001b[0m \u001b[32m━━━━━━━━━━━━━━━━━━━━\u001b[0m\u001b[37m\u001b[0m \u001b[1m210s\u001b[0m 747ms/step - accuracy: 0.5586 - loss: 1.1321 - val_accuracy: 0.6032 - val_loss: 1.0700 - learning_rate: 1.0000e-04\n",
            "Epoch 6/15\n",
            "\u001b[1m206/206\u001b[0m \u001b[32m━━━━━━━━━━━━━━━━━━━━\u001b[0m\u001b[37m\u001b[0m \u001b[1m145s\u001b[0m 703ms/step - accuracy: 0.5874 - loss: 1.0937 - val_accuracy: 0.6141 - val_loss: 1.0489 - learning_rate: 1.0000e-04\n",
            "Epoch 7/15\n",
            "\u001b[1m206/206\u001b[0m \u001b[32m━━━━━━━━━━━━━━━━━━━━\u001b[0m\u001b[37m\u001b[0m \u001b[1m148s\u001b[0m 719ms/step - accuracy: 0.6039 - loss: 1.0567 - val_accuracy: 0.6166 - val_loss: 1.0384 - learning_rate: 1.0000e-04\n",
            "Epoch 8/15\n",
            "\u001b[1m206/206\u001b[0m \u001b[32m━━━━━━━━━━━━━━━━━━━━\u001b[0m\u001b[37m\u001b[0m \u001b[1m198s\u001b[0m 702ms/step - accuracy: 0.5992 - loss: 1.0402 - val_accuracy: 0.6190 - val_loss: 1.0247 - learning_rate: 1.0000e-04\n",
            "Epoch 9/15\n",
            "\u001b[1m206/206\u001b[0m \u001b[32m━━━━━━━━━━━━━━━━━━━━\u001b[0m\u001b[37m\u001b[0m \u001b[1m146s\u001b[0m 707ms/step - accuracy: 0.5969 - loss: 1.0229 - val_accuracy: 0.6159 - val_loss: 1.0201 - learning_rate: 1.0000e-04\n",
            "Epoch 10/15\n",
            "\u001b[1m206/206\u001b[0m \u001b[32m━━━━━━━━━━━━━━━━━━━━\u001b[0m\u001b[37m\u001b[0m \u001b[1m201s\u001b[0m 704ms/step - accuracy: 0.6252 - loss: 0.9809 - val_accuracy: 0.6269 - val_loss: 1.0022 - learning_rate: 1.0000e-04\n",
            "Epoch 11/15\n",
            "\u001b[1m206/206\u001b[0m \u001b[32m━━━━━━━━━━━━━━━━━━━━\u001b[0m\u001b[37m\u001b[0m \u001b[1m144s\u001b[0m 701ms/step - accuracy: 0.6219 - loss: 0.9792 - val_accuracy: 0.6299 - val_loss: 1.0017 - learning_rate: 1.0000e-04\n",
            "Epoch 12/15\n",
            "\u001b[1m206/206\u001b[0m \u001b[32m━━━━━━━━━━━━━━━━━━━━\u001b[0m\u001b[37m\u001b[0m \u001b[1m224s\u001b[0m 808ms/step - accuracy: 0.6280 - loss: 0.9639 - val_accuracy: 0.6299 - val_loss: 0.9910 - learning_rate: 1.0000e-04\n",
            "Epoch 13/15\n",
            "\u001b[1m206/206\u001b[0m \u001b[32m━━━━━━━━━━━━━━━━━━━━\u001b[0m\u001b[37m\u001b[0m \u001b[1m143s\u001b[0m 697ms/step - accuracy: 0.6451 - loss: 0.9330 - val_accuracy: 0.6293 - val_loss: 0.9997 - learning_rate: 1.0000e-04\n",
            "Epoch 14/15\n",
            "\u001b[1m206/206\u001b[0m \u001b[32m━━━━━━━━━━━━━━━━━━━━\u001b[0m\u001b[37m\u001b[0m \u001b[1m223s\u001b[0m 801ms/step - accuracy: 0.6576 - loss: 0.9010 - val_accuracy: 0.6306 - val_loss: 0.9863 - learning_rate: 1.0000e-04\n",
            "Epoch 15/15\n",
            "\u001b[1m206/206\u001b[0m \u001b[32m━━━━━━━━━━━━━━━━━━━━\u001b[0m\u001b[37m\u001b[0m \u001b[1m184s\u001b[0m 711ms/step - accuracy: 0.6743 - loss: 0.8769 - val_accuracy: 0.6299 - val_loss: 0.9881 - learning_rate: 1.0000e-04\n",
            "Restoring model weights from the end of the best epoch: 14.\n"
          ]
        }
      ]
    },
    {
      "cell_type": "code",
      "source": [
        "print('Fase 2: Fine-Tuning')\n",
        "\n",
        "# Fine-Tuning\n",
        "modelo_base.trainable = True\n",
        "\n",
        "# Se entrenarán las últimas 30 capas\n",
        "for layer in modelo_base.layers[:-30]:\n",
        "    layer.trainable = False\n",
        "\n",
        "# Compilación del modelo\n",
        "modelo_pre.compile(\n",
        "    optimizer = tf.keras.optimizers.AdamW(learning_rate=5e-6,weight_decay=1e-5),\n",
        "    loss = 'sparse_categorical_crossentropy',\n",
        "    metrics = ['accuracy']\n",
        ")\n",
        "# Entrenamiento\n",
        "historia_2 = modelo_pre.fit(\n",
        "    conj_entrenamiento,\n",
        "    epochs=30,\n",
        "    validation_data = conj_prueba,\n",
        "    callbacks = [early_stopping,lr]\n",
        ")"
      ],
      "metadata": {
        "colab": {
          "base_uri": "https://localhost:8080/"
        },
        "id": "TlRVjZ3Hgl4A",
        "outputId": "cfeef41c-a726-47ee-f2d4-b6fd574b6227"
      },
      "execution_count": 20,
      "outputs": [
        {
          "output_type": "stream",
          "name": "stdout",
          "text": [
            "Fase 2: Fine-Tuning\n",
            "Epoch 1/30\n",
            "\u001b[1m206/206\u001b[0m \u001b[32m━━━━━━━━━━━━━━━━━━━━\u001b[0m\u001b[37m\u001b[0m \u001b[1m157s\u001b[0m 724ms/step - accuracy: 0.6600 - loss: 0.9245 - val_accuracy: 0.6324 - val_loss: 0.9856 - learning_rate: 5.0000e-06\n",
            "Epoch 2/30\n",
            "\u001b[1m206/206\u001b[0m \u001b[32m━━━━━━━━━━━━━━━━━━━━\u001b[0m\u001b[37m\u001b[0m \u001b[1m197s\u001b[0m 702ms/step - accuracy: 0.6672 - loss: 0.8958 - val_accuracy: 0.6342 - val_loss: 0.9883 - learning_rate: 5.0000e-06\n",
            "Epoch 3/30\n",
            "\u001b[1m206/206\u001b[0m \u001b[32m━━━━━━━━━━━━━━━━━━━━\u001b[0m\u001b[37m\u001b[0m \u001b[1m146s\u001b[0m 707ms/step - accuracy: 0.6663 - loss: 0.8880 - val_accuracy: 0.6318 - val_loss: 0.9877 - learning_rate: 5.0000e-06\n",
            "Epoch 4/30\n",
            "\u001b[1m206/206\u001b[0m \u001b[32m━━━━━━━━━━━━━━━━━━━━\u001b[0m\u001b[37m\u001b[0m \u001b[1m205s\u001b[0m 723ms/step - accuracy: 0.6636 - loss: 0.9008 - val_accuracy: 0.6324 - val_loss: 0.9879 - learning_rate: 5.0000e-06\n",
            "Epoch 5/30\n",
            "\u001b[1m206/206\u001b[0m \u001b[32m━━━━━━━━━━━━━━━━━━━━\u001b[0m\u001b[37m\u001b[0m \u001b[1m145s\u001b[0m 705ms/step - accuracy: 0.6691 - loss: 0.8879 - val_accuracy: 0.6312 - val_loss: 0.9873 - learning_rate: 5.0000e-06\n",
            "Epoch 6/30\n",
            "\u001b[1m206/206\u001b[0m \u001b[32m━━━━━━━━━━━━━━━━━━━━\u001b[0m\u001b[37m\u001b[0m \u001b[1m149s\u001b[0m 724ms/step - accuracy: 0.6584 - loss: 0.8957 - val_accuracy: 0.6306 - val_loss: 0.9882 - learning_rate: 5.0000e-06\n",
            "Epoch 7/30\n",
            "\u001b[1m206/206\u001b[0m \u001b[32m━━━━━━━━━━━━━━━━━━━━\u001b[0m\u001b[37m\u001b[0m \u001b[1m147s\u001b[0m 717ms/step - accuracy: 0.6630 - loss: 0.9061 - val_accuracy: 0.6299 - val_loss: 0.9883 - learning_rate: 5.0000e-06\n",
            "Epoch 8/30\n",
            "\u001b[1m206/206\u001b[0m \u001b[32m━━━━━━━━━━━━━━━━━━━━\u001b[0m\u001b[37m\u001b[0m \u001b[1m152s\u001b[0m 739ms/step - accuracy: 0.6656 - loss: 0.8860 - val_accuracy: 0.6299 - val_loss: 0.9875 - learning_rate: 5.0000e-06\n",
            "Epoch 9/30\n",
            "\u001b[1m206/206\u001b[0m \u001b[32m━━━━━━━━━━━━━━━━━━━━\u001b[0m\u001b[37m\u001b[0m \u001b[1m167s\u001b[0m 810ms/step - accuracy: 0.6666 - loss: 0.8896 - val_accuracy: 0.6312 - val_loss: 0.9861 - learning_rate: 5.0000e-06\n",
            "Epoch 9: early stopping\n",
            "Restoring model weights from the end of the best epoch: 1.\n"
          ]
        }
      ]
    },
    {
      "cell_type": "code",
      "source": [
        "# Combinando historiales\n",
        "acc = historial_1.history['accuracy'] + historia_2.history['accuracy']\n",
        "val_acc = historial_1.history['val_accuracy'] + historia_2.history['val_accuracy']\n",
        "\n",
        "loss = historial_1.history['loss'] + historia_2.history['loss']\n",
        "val_loss = historial_1.history['val_loss'] + historia_2.history['val_loss']\n",
        "\n",
        "epochs = range(1, len(acc) + 1)\n",
        "\n",
        "# Gráfica de la evolución de entrenamiento y pérdida\n",
        "plt.figure(figsize=(10,8))\n",
        "plt.subplot(1,2,1)\n",
        "plt.plot(epochs,acc,label='Exactitud Entrenamiento')\n",
        "plt.plot(epochs,val_acc,label='Exactitud Validación')\n",
        "plt.title('Exactitud')\n",
        "\n",
        "plt.subplot(1,2,2)\n",
        "plt.plot(epochs,loss,label='Perdida Entrenamiento')\n",
        "plt.plot(epochs,val_loss,label='Perdida Validación')\n",
        "plt.title('Valor de la función de pérdida')\n",
        "\n",
        "plt.show()"
      ],
      "metadata": {
        "colab": {
          "base_uri": "https://localhost:8080/",
          "height": 589
        },
        "id": "Vm-PMzNAyc9N",
        "outputId": "eb87537f-271c-4965-f505-bb00cb012d9f"
      },
      "execution_count": 21,
      "outputs": [
        {
          "output_type": "display_data",
          "data": {
            "text/plain": [
              "<Figure size 1000x800 with 2 Axes>"
            ],
            "image/png": "[encoded data removed]"
          },
          "metadata": {}
        }
      ]
    },
    {
      "cell_type": "markdown",
      "source": [
        "### 6.3 Modelo Preentrenado EfficientNetB0"
      ],
      "metadata": {
        "id": "e3y9lOpcpfXn"
      }
    },
    {
      "cell_type": "code",
      "source": [
        "# Entrenamiento\n",
        "historial_1 = modelo_completo.fit(\n",
        "    conj_entrenamiento,\n",
        "    validation_data=conj_prueba,\n",
        "    epochs=15,\n",
        "    callbacks=[early_stopping,lr],\n",
        "    class_weight = class_weights\n",
        ")"
      ],
      "metadata": {
        "id": "7R1kZtzupWnX",
        "colab": {
          "base_uri": "https://localhost:8080/"
        },
        "outputId": "bd224348-3736-4927-c7fa-f146988f453d"
      },
      "execution_count": 24,
      "outputs": [
        {
          "output_type": "stream",
          "name": "stdout",
          "text": [
            "Epoch 1/15\n",
            "\u001b[1m206/206\u001b[0m \u001b[32m━━━━━━━━━━━━━━━━━━━━\u001b[0m\u001b[37m\u001b[0m \u001b[1m306s\u001b[0m 1s/step - accuracy: 0.3036 - loss: 1.6905 - val_accuracy: 0.6001 - val_loss: 1.0919 - learning_rate: 1.0000e-04\n",
            "Epoch 2/15\n",
            "\u001b[1m206/206\u001b[0m \u001b[32m━━━━━━━━━━━━━━━━━━━━\u001b[0m\u001b[37m\u001b[0m \u001b[1m286s\u001b[0m 1s/step - accuracy: 0.5568 - loss: 1.1685 - val_accuracy: 0.6214 - val_loss: 0.9977 - learning_rate: 1.0000e-04\n",
            "Epoch 3/15\n",
            "\u001b[1m206/206\u001b[0m \u001b[32m━━━━━━━━━━━━━━━━━━━━\u001b[0m\u001b[37m\u001b[0m \u001b[1m302s\u001b[0m 1s/step - accuracy: 0.6075 - loss: 1.0237 - val_accuracy: 0.6336 - val_loss: 0.9423 - learning_rate: 1.0000e-04\n",
            "Epoch 4/15\n",
            "\u001b[1m206/206\u001b[0m \u001b[32m━━━━━━━━━━━━━━━━━━━━\u001b[0m\u001b[37m\u001b[0m \u001b[1m280s\u001b[0m 1s/step - accuracy: 0.6453 - loss: 0.9366 - val_accuracy: 0.6519 - val_loss: 0.9123 - learning_rate: 1.0000e-04\n",
            "Epoch 5/15\n",
            "\u001b[1m206/206\u001b[0m \u001b[32m━━━━━━━━━━━━━━━━━━━━\u001b[0m\u001b[37m\u001b[0m \u001b[1m324s\u001b[0m 1s/step - accuracy: 0.6641 - loss: 0.8816 - val_accuracy: 0.6586 - val_loss: 0.8994 - learning_rate: 1.0000e-04\n",
            "Epoch 6/15\n",
            "\u001b[1m206/206\u001b[0m \u001b[32m━━━━━━━━━━━━━━━━━━━━\u001b[0m\u001b[37m\u001b[0m \u001b[1m271s\u001b[0m 1s/step - accuracy: 0.6967 - loss: 0.7942 - val_accuracy: 0.6567 - val_loss: 0.8929 - learning_rate: 1.0000e-04\n",
            "Epoch 7/15\n",
            "\u001b[1m206/206\u001b[0m \u001b[32m━━━━━━━━━━━━━━━━━━━━\u001b[0m\u001b[37m\u001b[0m \u001b[1m367s\u001b[0m 2s/step - accuracy: 0.7206 - loss: 0.7484 - val_accuracy: 0.6634 - val_loss: 0.8795 - learning_rate: 1.0000e-04\n",
            "Epoch 8/15\n",
            "\u001b[1m206/206\u001b[0m \u001b[32m━━━━━━━━━━━━━━━━━━━━\u001b[0m\u001b[37m\u001b[0m \u001b[1m268s\u001b[0m 1s/step - accuracy: 0.7380 - loss: 0.6959 - val_accuracy: 0.6677 - val_loss: 0.8811 - learning_rate: 1.0000e-04\n",
            "Epoch 9/15\n",
            "\u001b[1m206/206\u001b[0m \u001b[32m━━━━━━━━━━━━━━━━━━━━\u001b[0m\u001b[37m\u001b[0m \u001b[1m267s\u001b[0m 1s/step - accuracy: 0.7496 - loss: 0.6863 - val_accuracy: 0.6689 - val_loss: 0.8823 - learning_rate: 1.0000e-04\n",
            "Epoch 10/15\n",
            "\u001b[1m206/206\u001b[0m \u001b[32m━━━━━━━━━━━━━━━━━━━━\u001b[0m\u001b[37m\u001b[0m \u001b[1m0s\u001b[0m 1s/step - accuracy: 0.7678 - loss: 0.6200\n",
            "Epoch 10: ReduceLROnPlateau reducing learning rate to 2.9999999242136255e-05.\n",
            "\u001b[1m206/206\u001b[0m \u001b[32m━━━━━━━━━━━━━━━━━━━━\u001b[0m\u001b[37m\u001b[0m \u001b[1m322s\u001b[0m 1s/step - accuracy: 0.7677 - loss: 0.6200 - val_accuracy: 0.6634 - val_loss: 0.8867 - learning_rate: 1.0000e-04\n",
            "Epoch 11/15\n",
            "\u001b[1m206/206\u001b[0m \u001b[32m━━━━━━━━━━━━━━━━━━━━\u001b[0m\u001b[37m\u001b[0m \u001b[1m262s\u001b[0m 1s/step - accuracy: 0.7840 - loss: 0.5809 - val_accuracy: 0.6671 - val_loss: 0.8884 - learning_rate: 3.0000e-05\n",
            "Epoch 12/15\n",
            "\u001b[1m206/206\u001b[0m \u001b[32m━━━━━━━━━━━━━━━━━━━━\u001b[0m\u001b[37m\u001b[0m \u001b[1m265s\u001b[0m 1s/step - accuracy: 0.7836 - loss: 0.5599 - val_accuracy: 0.6677 - val_loss: 0.8929 - learning_rate: 3.0000e-05\n",
            "Epoch 13/15\n",
            "\u001b[1m206/206\u001b[0m \u001b[32m━━━━━━━━━━━━━━━━━━━━\u001b[0m\u001b[37m\u001b[0m \u001b[1m0s\u001b[0m 1s/step - accuracy: 0.7903 - loss: 0.5585\n",
            "Epoch 13: ReduceLROnPlateau reducing learning rate to 1e-05.\n",
            "\u001b[1m206/206\u001b[0m \u001b[32m━━━━━━━━━━━━━━━━━━━━\u001b[0m\u001b[37m\u001b[0m \u001b[1m275s\u001b[0m 1s/step - accuracy: 0.7903 - loss: 0.5585 - val_accuracy: 0.6683 - val_loss: 0.8925 - learning_rate: 3.0000e-05\n",
            "Epoch 14/15\n",
            "\u001b[1m206/206\u001b[0m \u001b[32m━━━━━━━━━━━━━━━━━━━━\u001b[0m\u001b[37m\u001b[0m \u001b[1m268s\u001b[0m 1s/step - accuracy: 0.7926 - loss: 0.5499 - val_accuracy: 0.6677 - val_loss: 0.8951 - learning_rate: 1.0000e-05\n",
            "Epoch 15/15\n",
            "\u001b[1m206/206\u001b[0m \u001b[32m━━━━━━━━━━━━━━━━━━━━\u001b[0m\u001b[37m\u001b[0m \u001b[1m275s\u001b[0m 1s/step - accuracy: 0.8095 - loss: 0.5312 - val_accuracy: 0.6713 - val_loss: 0.8942 - learning_rate: 1.0000e-05\n",
            "Epoch 15: early stopping\n",
            "Restoring model weights from the end of the best epoch: 7.\n"
          ]
        }
      ]
    },
    {
      "cell_type": "code",
      "source": [
        "# Fine- Tuning\n",
        "modelo_base.trainable = True\n",
        "for layer in modelo_base.layers[:-25]:\n",
        "    layer.trainable = False\n",
        "\n",
        "# Compilación del modelo\n",
        "modelo_completo.compile(\n",
        "    optimizer = tf.keras.optimizers.Adam(learning_rate=1e-5),\n",
        "    loss = 'sparse_categorical_crossentropy',\n",
        "    metrics = ['accuracy']\n",
        ")\n",
        "# Early Stopping\n",
        "early_stopping = EarlyStopping(\n",
        "    monitor='val_accuracy',\n",
        "    patience=10,\n",
        "    verbose=1,\n",
        "    restore_best_weights=True,\n",
        "    mode='max'\n",
        ")\n",
        "# Reducir Learning Rate\n",
        "lr = ReduceLROnPlateau(\n",
        "    monitor='val_loss',\n",
        "    factor=0.5,\n",
        "    patience=5,\n",
        "    verbose=1,\n",
        "    min_lr=1e-7\n",
        ")\n",
        "# Entrenamiento\n",
        "historia_2 = modelo_completo.fit(\n",
        "    conj_entrenamiento,\n",
        "    validation_data=conj_prueba,\n",
        "    epochs=30,\n",
        "    callbacks=[early_stopping,lr],\n",
        "    class_weight = class_weights\n",
        ")"
      ],
      "metadata": {
        "colab": {
          "base_uri": "https://localhost:8080/"
        },
        "id": "Rhl8m85mi1fP",
        "outputId": "8c894600-5bad-44b8-b4dc-a9e7379f5491"
      },
      "execution_count": 26,
      "outputs": [
        {
          "output_type": "stream",
          "name": "stdout",
          "text": [
            "Epoch 1/30\n",
            "\u001b[1m206/206\u001b[0m \u001b[32m━━━━━━━━━━━━━━━━━━━━\u001b[0m\u001b[37m\u001b[0m \u001b[1m296s\u001b[0m 1s/step - accuracy: 0.7368 - loss: 0.7045 - val_accuracy: 0.6677 - val_loss: 0.8756 - learning_rate: 1.0000e-05\n",
            "Epoch 2/30\n",
            "\u001b[1m206/206\u001b[0m \u001b[32m━━━━━━━━━━━━━━━━━━━━\u001b[0m\u001b[37m\u001b[0m \u001b[1m271s\u001b[0m 1s/step - accuracy: 0.7406 - loss: 0.7013 - val_accuracy: 0.6665 - val_loss: 0.8759 - learning_rate: 1.0000e-05\n",
            "Epoch 3/30\n",
            "\u001b[1m206/206\u001b[0m \u001b[32m━━━━━━━━━━━━━━━━━━━━\u001b[0m\u001b[37m\u001b[0m \u001b[1m260s\u001b[0m 1s/step - accuracy: 0.7361 - loss: 0.6980 - val_accuracy: 0.6689 - val_loss: 0.8739 - learning_rate: 1.0000e-05\n",
            "Epoch 4/30\n",
            "\u001b[1m206/206\u001b[0m \u001b[32m━━━━━━━━━━━━━━━━━━━━\u001b[0m\u001b[37m\u001b[0m \u001b[1m264s\u001b[0m 1s/step - accuracy: 0.7383 - loss: 0.6851 - val_accuracy: 0.6689 - val_loss: 0.8742 - learning_rate: 1.0000e-05\n",
            "Epoch 5/30\n",
            "\u001b[1m206/206\u001b[0m \u001b[32m━━━━━━━━━━━━━━━━━━━━\u001b[0m\u001b[37m\u001b[0m \u001b[1m270s\u001b[0m 1s/step - accuracy: 0.7477 - loss: 0.6857 - val_accuracy: 0.6659 - val_loss: 0.8738 - learning_rate: 1.0000e-05\n",
            "Epoch 6/30\n",
            "\u001b[1m206/206\u001b[0m \u001b[32m━━━━━━━━━━━━━━━━━━━━\u001b[0m\u001b[37m\u001b[0m \u001b[1m262s\u001b[0m 1s/step - accuracy: 0.7388 - loss: 0.6900 - val_accuracy: 0.6646 - val_loss: 0.8731 - learning_rate: 1.0000e-05\n",
            "Epoch 7/30\n",
            "\u001b[1m206/206\u001b[0m \u001b[32m━━━━━━━━━━━━━━━━━━━━\u001b[0m\u001b[37m\u001b[0m \u001b[1m326s\u001b[0m 1s/step - accuracy: 0.7427 - loss: 0.6767 - val_accuracy: 0.6659 - val_loss: 0.8730 - learning_rate: 1.0000e-05\n",
            "Epoch 8/30\n",
            "\u001b[1m206/206\u001b[0m \u001b[32m━━━━━━━━━━━━━━━━━━━━\u001b[0m\u001b[37m\u001b[0m \u001b[1m265s\u001b[0m 1s/step - accuracy: 0.7496 - loss: 0.6632 - val_accuracy: 0.6677 - val_loss: 0.8736 - learning_rate: 1.0000e-05\n",
            "Epoch 9/30\n",
            "\u001b[1m206/206\u001b[0m \u001b[32m━━━━━━━━━━━━━━━━━━━━\u001b[0m\u001b[37m\u001b[0m \u001b[1m270s\u001b[0m 1s/step - accuracy: 0.7575 - loss: 0.6630 - val_accuracy: 0.6652 - val_loss: 0.8735 - learning_rate: 1.0000e-05\n",
            "Epoch 10/30\n",
            "\u001b[1m206/206\u001b[0m \u001b[32m━━━━━━━━━━━━━━━━━━━━\u001b[0m\u001b[37m\u001b[0m \u001b[1m317s\u001b[0m 1s/step - accuracy: 0.7417 - loss: 0.6737 - val_accuracy: 0.6707 - val_loss: 0.8711 - learning_rate: 1.0000e-05\n",
            "Epoch 11/30\n",
            "\u001b[1m206/206\u001b[0m \u001b[32m━━━━━━━━━━━━━━━━━━━━\u001b[0m\u001b[37m\u001b[0m \u001b[1m325s\u001b[0m 1s/step - accuracy: 0.7508 - loss: 0.6603 - val_accuracy: 0.6701 - val_loss: 0.8720 - learning_rate: 1.0000e-05\n",
            "Epoch 12/30\n",
            "\u001b[1m206/206\u001b[0m \u001b[32m━━━━━━━━━━━━━━━━━━━━\u001b[0m\u001b[37m\u001b[0m \u001b[1m324s\u001b[0m 1s/step - accuracy: 0.7556 - loss: 0.6343 - val_accuracy: 0.6738 - val_loss: 0.8730 - learning_rate: 1.0000e-05\n",
            "Epoch 13/30\n",
            "\u001b[1m206/206\u001b[0m \u001b[32m━━━━━━━━━━━━━━━━━━━━\u001b[0m\u001b[37m\u001b[0m \u001b[1m260s\u001b[0m 1s/step - accuracy: 0.7522 - loss: 0.6485 - val_accuracy: 0.6689 - val_loss: 0.8718 - learning_rate: 1.0000e-05\n",
            "Epoch 14/30\n",
            "\u001b[1m206/206\u001b[0m \u001b[32m━━━━━━━━━━━━━━━━━━━━\u001b[0m\u001b[37m\u001b[0m \u001b[1m270s\u001b[0m 1s/step - accuracy: 0.7607 - loss: 0.6325 - val_accuracy: 0.6707 - val_loss: 0.8721 - learning_rate: 1.0000e-05\n",
            "Epoch 15/30\n",
            "\u001b[1m206/206\u001b[0m \u001b[32m━━━━━━━━━━━━━━━━━━━━\u001b[0m\u001b[37m\u001b[0m \u001b[1m0s\u001b[0m 1s/step - accuracy: 0.7573 - loss: 0.6421\n",
            "Epoch 15: ReduceLROnPlateau reducing learning rate to 4.999999873689376e-06.\n",
            "\u001b[1m206/206\u001b[0m \u001b[32m━━━━━━━━━━━━━━━━━━━━\u001b[0m\u001b[37m\u001b[0m \u001b[1m324s\u001b[0m 1s/step - accuracy: 0.7574 - loss: 0.6421 - val_accuracy: 0.6713 - val_loss: 0.8724 - learning_rate: 1.0000e-05\n",
            "Epoch 16/30\n",
            "\u001b[1m206/206\u001b[0m \u001b[32m━━━━━━━━━━━━━━━━━━━━\u001b[0m\u001b[37m\u001b[0m \u001b[1m267s\u001b[0m 1s/step - accuracy: 0.7613 - loss: 0.6322 - val_accuracy: 0.6689 - val_loss: 0.8717 - learning_rate: 5.0000e-06\n",
            "Epoch 17/30\n",
            "\u001b[1m206/206\u001b[0m \u001b[32m━━━━━━━━━━━━━━━━━━━━\u001b[0m\u001b[37m\u001b[0m \u001b[1m320s\u001b[0m 1s/step - accuracy: 0.7513 - loss: 0.6439 - val_accuracy: 0.6707 - val_loss: 0.8725 - learning_rate: 5.0000e-06\n",
            "Epoch 18/30\n",
            "\u001b[1m206/206\u001b[0m \u001b[32m━━━━━━━━━━━━━━━━━━━━\u001b[0m\u001b[37m\u001b[0m \u001b[1m265s\u001b[0m 1s/step - accuracy: 0.7717 - loss: 0.6172 - val_accuracy: 0.6713 - val_loss: 0.8722 - learning_rate: 5.0000e-06\n",
            "Epoch 19/30\n",
            "\u001b[1m206/206\u001b[0m \u001b[32m━━━━━━━━━━━━━━━━━━━━\u001b[0m\u001b[37m\u001b[0m \u001b[1m322s\u001b[0m 1s/step - accuracy: 0.7709 - loss: 0.6209 - val_accuracy: 0.6707 - val_loss: 0.8723 - learning_rate: 5.0000e-06\n",
            "Epoch 20/30\n",
            "\u001b[1m206/206\u001b[0m \u001b[32m━━━━━━━━━━━━━━━━━━━━\u001b[0m\u001b[37m\u001b[0m \u001b[1m0s\u001b[0m 1s/step - accuracy: 0.7624 - loss: 0.6227\n",
            "Epoch 20: ReduceLROnPlateau reducing learning rate to 2.499999936844688e-06.\n",
            "\u001b[1m206/206\u001b[0m \u001b[32m━━━━━━━━━━━━━━━━━━━━\u001b[0m\u001b[37m\u001b[0m \u001b[1m328s\u001b[0m 1s/step - accuracy: 0.7624 - loss: 0.6227 - val_accuracy: 0.6713 - val_loss: 0.8726 - learning_rate: 5.0000e-06\n",
            "Epoch 21/30\n",
            "\u001b[1m206/206\u001b[0m \u001b[32m━━━━━━━━━━━━━━━━━━━━\u001b[0m\u001b[37m\u001b[0m \u001b[1m269s\u001b[0m 1s/step - accuracy: 0.7603 - loss: 0.6324 - val_accuracy: 0.6701 - val_loss: 0.8732 - learning_rate: 2.5000e-06\n",
            "Epoch 22/30\n",
            "\u001b[1m206/206\u001b[0m \u001b[32m━━━━━━━━━━━━━━━━━━━━\u001b[0m\u001b[37m\u001b[0m \u001b[1m269s\u001b[0m 1s/step - accuracy: 0.7654 - loss: 0.6202 - val_accuracy: 0.6719 - val_loss: 0.8734 - learning_rate: 2.5000e-06\n",
            "Epoch 22: early stopping\n",
            "Restoring model weights from the end of the best epoch: 12.\n"
          ]
        }
      ]
    },
    {
      "cell_type": "code",
      "source": [
        "# Combinando historiales\n",
        "acc = historial_1.history['accuracy'] + historia_2.history['accuracy']\n",
        "val_acc = historial_1.history['val_accuracy'] + historia_2.history['val_accuracy']\n",
        "\n",
        "loss = historial_1.history['loss'] + historia_2.history['loss']\n",
        "val_loss = historial_1.history['val_loss'] + historia_2.history['val_loss']\n",
        "\n",
        "epochs = range(1, len(acc) + 1)\n",
        "\n",
        "# Gráfica de la evolución de entrenamiento y pérdida\n",
        "plt.figure(figsize=(10,8))\n",
        "plt.subplot(1,2,1)\n",
        "plt.plot(epochs,acc,label='Exactitud Entrenamiento')\n",
        "plt.plot(epochs,val_acc,label='Exactitud Validación')\n",
        "plt.title('Exactitud')\n",
        "\n",
        "plt.subplot(1,2,2)\n",
        "plt.plot(epochs,loss,label='Perdida Entrenamiento')\n",
        "plt.plot(epochs,val_loss,label='Perdida Validación')\n",
        "plt.title('Valor de la función de pérdida')\n",
        "\n",
        "plt.show()\n",
        "plt.show()"
      ],
      "metadata": {
        "colab": {
          "base_uri": "https://localhost:8080/",
          "height": 594
        },
        "id": "5gt2lFImTkfT",
        "outputId": "e9faf0af-23b2-46c4-8036-1ce61f2ac5e8"
      },
      "execution_count": 27,
      "outputs": [
        {
          "output_type": "display_data",
          "data": {
            "text/plain": [
              "<Figure size 1000x800 with 2 Axes>"
            ],
            "image/png": "[encoded data removed]"
          },
          "metadata": {}
        }
      ]
    },
    {
      "cell_type": "markdown",
      "source": [
        "### 6.4 Modelo de Teachable Machine"
      ],
      "metadata": {
        "id": "gdVQehQLXVNk"
      }
    },
    {
      "cell_type": "code",
      "source": [
        "from keras import layers, Sequential\n",
        "from PIL import Image, ImageOps\n",
        "import numpy as np\n",
        "\n",
        "# Definiendo ruta\n",
        "ruta_modelo = '/content/drive/MyDrive/Reto/model.savedmodel1'\n",
        "\n",
        "# Cargando modelo\n",
        "modelo_tm = tf.keras.Sequential([\n",
        "    tf.keras.layers.InputLayer(input_shape=(224,224,3)),\n",
        "    tf.keras.layers.TFSMLayer(ruta_modelo,call_endpoint='serving_default')\n",
        "])\n",
        "\n",
        "# Compilando el modelo\n",
        "modelo_tm.compile(\n",
        "    optimizer=tf.keras.optimizers.Adam(learning_rate=0.001),\n",
        "    loss='sparse_categorical_crossentropy',\n",
        "    metrics=['accuracy']\n",
        ")"
      ],
      "metadata": {
        "id": "-lqgJ3Gu4kA7",
        "colab": {
          "base_uri": "https://localhost:8080/"
        },
        "outputId": "ed9aed22-15a8-4813-f0ef-b44127e24fa0"
      },
      "execution_count": null,
      "outputs": [
        {
          "output_type": "stream",
          "name": "stderr",
          "text": [
            "/usr/local/lib/python3.12/dist-packages/keras/src/layers/core/input_layer.py:27: UserWarning: Argument `input_shape` is deprecated. Use `shape` instead.\n",
            "  warnings.warn(\n"
          ]
        }
      ]
    },
    {
      "cell_type": "markdown",
      "source": [
        "## 7. Exportación de Modelos"
      ],
      "metadata": {
        "id": "M0tUVIvuYDcX"
      }
    },
    {
      "cell_type": "markdown",
      "source": [
        "### 7.1 Primer Modelo"
      ],
      "metadata": {
        "id": "2z7RpMB-f27T"
      }
    },
    {
      "cell_type": "code",
      "source": [
        "# Guardar modelo\n",
        "redConv.save('/content/drive/MyDrive/Reto/modelo_redConv.keras')\n"
      ],
      "metadata": {
        "id": "BenP8lvhgrZy"
      },
      "execution_count": null,
      "outputs": []
    },
    {
      "cell_type": "code",
      "source": [
        "# Cargar modelo\n",
        "modelo_redConv = tf.keras.models.load_model(\n",
        "    '/content/drive/MyDrive/Reto/modelo_redConv.keras')"
      ],
      "metadata": {
        "id": "nEnYaDjDsRv4"
      },
      "execution_count": 30,
      "outputs": []
    },
    {
      "cell_type": "markdown",
      "source": [
        "### 7.2 Modelo pre-entrenado MobileNetV2"
      ],
      "metadata": {
        "id": "pw2EOpSWf5WK"
      }
    },
    {
      "cell_type": "code",
      "source": [
        "# Guardar modelo\n",
        "modelo_pre.save('/content/drive/MyDrive/Reto/modelo_pre.keras')"
      ],
      "metadata": {
        "id": "fnThx1XJ3r3X"
      },
      "execution_count": 22,
      "outputs": []
    },
    {
      "cell_type": "code",
      "source": [
        "# Cargar modelo\n",
        "modelo_prentrenado = tf.keras.models.load_model(\n",
        "    '/content/drive/MyDrive/Reto/modelo_pre.keras')"
      ],
      "metadata": {
        "id": "4S2zFJknsTZg"
      },
      "execution_count": 23,
      "outputs": []
    },
    {
      "cell_type": "markdown",
      "source": [
        "### 7.3 Modelo preentrenado EfficientNetB0"
      ],
      "metadata": {
        "id": "-UJg03jKTm7p"
      }
    },
    {
      "cell_type": "code",
      "source": [
        "# Guardar modelo\n",
        "modelo_completo.save('/content/drive/MyDrive/Reto/modelo_completoB0.keras')\n"
      ],
      "metadata": {
        "id": "5kOBRKkWUSt9"
      },
      "execution_count": 28,
      "outputs": []
    },
    {
      "cell_type": "code",
      "source": [
        "# Cargar modelo\n",
        "modelo_prentrenado_B0 = tf.keras.models.load_model(\n",
        "    '/content/drive/MyDrive/Reto/modelo_completoB0.keras')"
      ],
      "metadata": {
        "id": "AvkvN0L6sMs-"
      },
      "execution_count": 29,
      "outputs": []
    },
    {
      "cell_type": "markdown",
      "source": [
        "### 7.4 Modelo de Teachable Machine"
      ],
      "metadata": {
        "id": "YI1JA9yKf75p"
      }
    },
    {
      "cell_type": "code",
      "source": [
        "# Cargar modelo\n",
        "modelo_tm.save('/content/drive/MyDrive/Reto/modelo_TM.keras')"
      ],
      "metadata": {
        "id": "MayNWn_f4Ide",
        "colab": {
          "base_uri": "https://localhost:8080/"
        },
        "outputId": "bf4482d9-c797-4343-e656-4e2b1bbda035"
      },
      "execution_count": null,
      "outputs": [
        {
          "output_type": "stream",
          "name": "stderr",
          "text": [
            "/usr/local/lib/python3.12/dist-packages/keras/src/saving/saving_lib.py:802: UserWarning: Skipping variable loading for optimizer 'adam', because it has 320 variables whereas the saved optimizer has 2 variables. \n",
            "  saveable.load_own_variables(weights_store.get(inner_path))\n"
          ]
        }
      ]
    },
    {
      "cell_type": "code",
      "source": [
        "# Cargar modelo\n",
        "modelo_TM = tf.keras.models.load_model(\n",
        "    '/content/drive/MyDrive/Reto/modelo_TM.keras')"
      ],
      "metadata": {
        "id": "wanT6fzgsVSL"
      },
      "execution_count": null,
      "outputs": []
    },
    {
      "cell_type": "markdown",
      "source": [
        "## 8. Comparativa de los tres modelos generados en el problema de clasificación"
      ],
      "metadata": {
        "id": "5ZJEG9GWXzNs"
      }
    },
    {
      "cell_type": "markdown",
      "source": [
        "### 8.1 Evaluación del Primer Modelo"
      ],
      "metadata": {
        "id": "xTKL9vGNYQ6X"
      }
    },
    {
      "cell_type": "code",
      "source": [
        "# Pérdida y Exactitud\n",
        "loss_redConv, acc_redConv = modelo_redConv.evaluate(conj_prueba)\n",
        "print(f' Pérdida del modelo: {loss_redConv:.4f}')\n",
        "print(f' Exactitud del modelo: {acc_redConv:.4f}')"
      ],
      "metadata": {
        "colab": {
          "base_uri": "https://localhost:8080/"
        },
        "id": "Lx5Rm9WmYTNu",
        "outputId": "7faf0aac-4297-4491-b4a5-39d08165b033"
      },
      "execution_count": 31,
      "outputs": [
        {
          "output_type": "stream",
          "name": "stdout",
          "text": [
            "\u001b[1m52/52\u001b[0m \u001b[32m━━━━━━━━━━━━━━━━━━━━\u001b[0m\u001b[37m\u001b[0m \u001b[1m24s\u001b[0m 438ms/step - accuracy: 0.3567 - loss: 1.5875\n",
            " Pérdida del modelo: 1.5589\n",
            " Exactitud del modelo: 0.3889\n"
          ]
        }
      ]
    },
    {
      "cell_type": "markdown",
      "source": [
        "### 8. 2 Evaluación del Modelo Preentrenado MobileNetV2"
      ],
      "metadata": {
        "id": "_SP_0ABdYT8n"
      }
    },
    {
      "cell_type": "code",
      "source": [
        "loss_pre, acc_pre = modelo_prentrenado.evaluate(conj_prueba)\n",
        "print(f' Pérdida del modelo pre-entrenado: {loss_pre:.4f}')\n",
        "print(f' Exactitud del modelo pre-entrenado: {acc_pre:.4f}')"
      ],
      "metadata": {
        "colab": {
          "base_uri": "https://localhost:8080/"
        },
        "id": "J-MZ36sWYaGl",
        "outputId": "58f76496-d5ff-4865-8f87-a9aeca57e112"
      },
      "execution_count": 32,
      "outputs": [
        {
          "output_type": "stream",
          "name": "stdout",
          "text": [
            "\u001b[1m52/52\u001b[0m \u001b[32m━━━━━━━━━━━━━━━━━━━━\u001b[0m\u001b[37m\u001b[0m \u001b[1m26s\u001b[0m 421ms/step - accuracy: 0.6152 - loss: 1.0163\n",
            " Pérdida del modelo pre-entrenado: 0.9856\n",
            " Exactitud del modelo pre-entrenado: 0.6324\n"
          ]
        }
      ]
    },
    {
      "cell_type": "markdown",
      "source": [
        "### 8. 3 Evaluación del Modelo Preentrenado EfficientNetB0"
      ],
      "metadata": {
        "id": "_Ad8YCyepnju"
      }
    },
    {
      "cell_type": "code",
      "source": [
        "loss_eff, acc_eff = modelo_prentrenado_B0.evaluate(conj_prueba)\n",
        "print(f' Pérdida del modelo pre-entrenado: {loss_eff:.4f}')\n",
        "print(f' Exactitud del modelo pre-entrenado: {acc_eff:.4f}')"
      ],
      "metadata": {
        "id": "XijiCUa8pqBn",
        "colab": {
          "base_uri": "https://localhost:8080/"
        },
        "outputId": "d6f95661-8a19-487d-fd0c-8cb78b62e4d9"
      },
      "execution_count": 33,
      "outputs": [
        {
          "output_type": "stream",
          "name": "stdout",
          "text": [
            "\u001b[1m52/52\u001b[0m \u001b[32m━━━━━━━━━━━━━━━━━━━━\u001b[0m\u001b[37m\u001b[0m \u001b[1m47s\u001b[0m 772ms/step - accuracy: 0.6600 - loss: 0.9137\n",
            " Pérdida del modelo pre-entrenado: 0.8730\n",
            " Exactitud del modelo pre-entrenado: 0.6738\n"
          ]
        }
      ]
    },
    {
      "cell_type": "markdown",
      "source": [
        "### 8.4 Evaluación del modelo de Teachable Machine"
      ],
      "metadata": {
        "id": "z886rW3GYa-w"
      }
    },
    {
      "cell_type": "code",
      "source": [
        "# Pérdida y Exactitud\n",
        "loss_tm, acc_tm = modelo_tm.evaluate(conj_prueba)\n",
        "print(f' Pérdida del modelo: {loss_tm:.4f}')\n",
        "print(f' Exactitud del modelo: {acc_tm:.4f}')"
      ],
      "metadata": {
        "id": "fQxee0qdYjLU",
        "colab": {
          "base_uri": "https://localhost:8080/",
          "height": 201
        },
        "outputId": "1ecb59a1-da69-4592-907e-1d238629ea8c"
      },
      "execution_count": null,
      "outputs": [
        {
          "output_type": "error",
          "ename": "NameError",
          "evalue": "name 'modelo_tm' is not defined",
          "traceback": [
            "\u001b[0;31m---------------------------------------------------------------------------\u001b[0m",
            "\u001b[0;31mNameError\u001b[0m                                 Traceback (most recent call last)",
            "\u001b[0;32m/tmp/ipython-input-1404834067.py\u001b[0m in \u001b[0;36m<cell line: 0>\u001b[0;34m()\u001b[0m\n\u001b[1;32m      1\u001b[0m \u001b[0;31m# Pérdida y Exactitud\u001b[0m\u001b[0;34m\u001b[0m\u001b[0;34m\u001b[0m\u001b[0m\n\u001b[0;32m----> 2\u001b[0;31m \u001b[0mloss_tm\u001b[0m\u001b[0;34m,\u001b[0m \u001b[0macc_tm\u001b[0m \u001b[0;34m=\u001b[0m \u001b[0mmodelo_tm\u001b[0m\u001b[0;34m.\u001b[0m\u001b[0mevaluate\u001b[0m\u001b[0;34m(\u001b[0m\u001b[0mconj_prueba\u001b[0m\u001b[0;34m)\u001b[0m\u001b[0;34m\u001b[0m\u001b[0;34m\u001b[0m\u001b[0m\n\u001b[0m\u001b[1;32m      3\u001b[0m \u001b[0mprint\u001b[0m\u001b[0;34m(\u001b[0m\u001b[0;34mf' Pérdida del modelo: {loss_tm:.4f}'\u001b[0m\u001b[0;34m)\u001b[0m\u001b[0;34m\u001b[0m\u001b[0;34m\u001b[0m\u001b[0m\n\u001b[1;32m      4\u001b[0m \u001b[0mprint\u001b[0m\u001b[0;34m(\u001b[0m\u001b[0;34mf' Exactitud del modelo: {acc_tm:.4f}'\u001b[0m\u001b[0;34m)\u001b[0m\u001b[0;34m\u001b[0m\u001b[0;34m\u001b[0m\u001b[0m\n",
            "\u001b[0;31mNameError\u001b[0m: name 'modelo_tm' is not defined"
          ]
        }
      ]
    },
    {
      "cell_type": "markdown",
      "source": [
        "### 7.4 Comparación de los tres modelos"
      ],
      "metadata": {
        "id": "pm3x5Z28Y3aI"
      }
    },
    {
      "cell_type": "markdown",
      "source": [
        "#### 7.4.1 Comparación de exactitudes"
      ],
      "metadata": {
        "id": "CEcMbd5TDHmH"
      }
    },
    {
      "cell_type": "code",
      "source": [
        "exactitudes = [acc_redConv,acc_pre,acc_eff]\n",
        "modelos = ['Red Convolucional','Modelo Pre-entrenado','Modelo Efficient Net']\n",
        "plt.figure(figsize=(15,15))\n",
        "plt.bar(modelos,exactitudes)\n",
        "plt.xlabel('Modelos',fontsize=12)\n",
        "plt.xticks(rotation=90)\n",
        "plt.ylabel('Exactitud',fontsize=12)\n",
        "plt.title('Comparativa de desempeño de los modelos',fontsize=15)\n",
        "plt.show()"
      ],
      "metadata": {
        "colab": {
          "base_uri": "https://localhost:8080/",
          "height": 808
        },
        "id": "vOYN0O3cY7hH",
        "outputId": "a230fb4d-920e-4505-c92c-3aca9fd0a42f"
      },
      "execution_count": 34,
      "outputs": [
        {
          "output_type": "display_data",
          "data": {
            "text/plain": [
              "<Figure size 1500x1500 with 1 Axes>"
            ],
            "image/png": "[encoded data removed]"
          },
          "metadata": {}
        }
      ]
    },
    {
      "cell_type": "markdown",
      "source": [
        "#### 7.4.2 Comparación de pérdidas"
      ],
      "metadata": {
        "id": "W7G9ANUBDYfM"
      }
    },
    {
      "cell_type": "code",
      "source": [
        "perdidas = [loss_redConv,loss_pre,loss_eff]\n",
        "modelos = ['Red Convolucional','Modelo Pre-entrenado','Modelo Efficient Net']\n",
        "plt.figure(figsize=(15,15))\n",
        "plt.bar(modelos,perdidas)\n",
        "plt.xticks(rotation=90)\n",
        "plt.xlabel('Modelos',fontsize=12)\n",
        "plt.ylabel('Pérdidas',fontsize=12)\n",
        "plt.title('Comparativa de las pérdidas de los modelos',fontsize=15)\n",
        "plt.show()"
      ],
      "metadata": {
        "id": "Ct5D4v6PDGZ6",
        "colab": {
          "base_uri": "https://localhost:8080/",
          "height": 809
        },
        "outputId": "c7bcdf80-ff84-4fc0-d5db-def17e661a35"
      },
      "execution_count": 35,
      "outputs": [
        {
          "output_type": "display_data",
          "data": {
            "text/plain": [
              "<Figure size 1500x1500 with 1 Axes>"
            ],
            "image/png": "[encoded data removed]"
          },
          "metadata": {}
        }
      ]
    },
    {
      "cell_type": "markdown",
      "source": [
        "## 8. Selección del mejor modelo"
      ],
      "metadata": {
        "id": "6zNBSAQVX6UD"
      }
    }
  ]
}